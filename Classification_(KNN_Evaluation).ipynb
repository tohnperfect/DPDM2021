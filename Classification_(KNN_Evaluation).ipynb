{
  "nbformat": 4,
  "nbformat_minor": 0,
  "metadata": {
    "colab": {
      "name": "Classification (KNN - Evaluation).ipynb",
      "provenance": [],
      "authorship_tag": "ABX9TyNOaFzpOEdsl66S763aplxH",
      "include_colab_link": true
    },
    "kernelspec": {
      "name": "python3",
      "display_name": "Python 3"
    },
    "language_info": {
      "name": "python"
    }
  },
  "cells": [
    {
      "cell_type": "markdown",
      "metadata": {
        "id": "view-in-github",
        "colab_type": "text"
      },
      "source": [
        "<a href=\"https://colab.research.google.com/github/tohnperfect/DPDM2021/blob/main/Classification_(KNN_Evaluation).ipynb\" target=\"_parent\"><img src=\"https://colab.research.google.com/assets/colab-badge.svg\" alt=\"Open In Colab\"/></a>"
      ]
    },
    {
      "cell_type": "markdown",
      "metadata": {
        "id": "GpS5ClcCnHuZ"
      },
      "source": [
        "## Load data"
      ]
    },
    {
      "cell_type": "code",
      "metadata": {
        "id": "dSmjvH5dm2CI"
      },
      "source": [
        "from sklearn import datasets\n",
        "mnist_data = datasets.load_digits()\n",
        "\n",
        "X = mnist_data['data']\n",
        "Y = mnist_data['target']"
      ],
      "execution_count": 1,
      "outputs": []
    },
    {
      "cell_type": "markdown",
      "metadata": {
        "id": "DEGE6lvbnWTQ"
      },
      "source": [
        "## Split data"
      ]
    },
    {
      "cell_type": "code",
      "metadata": {
        "id": "25e634yEnVx0"
      },
      "source": [
        "from sklearn.model_selection import train_test_split\n",
        "X_train, X_test, y_train, y_test = train_test_split(X, Y, test_size=0.5, random_state=6)\n",
        "X_traintrain, X_val, y_traintrain, y_val = train_test_split(X_train, y_train, test_size=0.3, random_state=6)"
      ],
      "execution_count": 2,
      "outputs": []
    },
    {
      "cell_type": "markdown",
      "metadata": {
        "id": "Bl3abzdYoOkP"
      },
      "source": [
        "## KNN "
      ]
    },
    {
      "cell_type": "markdown",
      "metadata": {
        "id": "FCq-egsEoRfs"
      },
      "source": [
        "#### Import"
      ]
    },
    {
      "cell_type": "code",
      "metadata": {
        "id": "8iKRqnSjojPr"
      },
      "source": [
        "from sklearn.neighbors import KNeighborsClassifier"
      ],
      "execution_count": 3,
      "outputs": []
    },
    {
      "cell_type": "markdown",
      "metadata": {
        "id": "DRqIxDsxoSF8"
      },
      "source": [
        "#### Define-Train Model1"
      ]
    },
    {
      "cell_type": "code",
      "metadata": {
        "colab": {
          "base_uri": "https://localhost:8080/"
        },
        "id": "JpHbK4_Ooqnh",
        "outputId": "3a4119d3-ce3c-41d4-cc07-81bbc2284d70"
      },
      "source": [
        "neigh1 = KNeighborsClassifier(n_neighbors=1) #เชื่อใกล้สุดแค่คนเดียว\n",
        "neigh1.fit(X_traintrain,y_traintrain)"
      ],
      "execution_count": 6,
      "outputs": [
        {
          "output_type": "execute_result",
          "data": {
            "text/plain": [
              "KNeighborsClassifier(algorithm='auto', leaf_size=30, metric='minkowski',\n",
              "                     metric_params=None, n_jobs=None, n_neighbors=1, p=2,\n",
              "                     weights='uniform')"
            ]
          },
          "metadata": {},
          "execution_count": 6
        }
      ]
    },
    {
      "cell_type": "markdown",
      "metadata": {
        "id": "kg8tzbUqoSr1"
      },
      "source": [
        "#### Define-Train Model2"
      ]
    },
    {
      "cell_type": "code",
      "metadata": {
        "colab": {
          "base_uri": "https://localhost:8080/"
        },
        "id": "A9BpNTQInuIP",
        "outputId": "e17c39a2-65d3-4cac-8e36-c83378f9442b"
      },
      "source": [
        "neigh2 = KNeighborsClassifier(n_neighbors=5,weights='distance') #เชื่อคนใกล้มากว่าคนไกล\n",
        "neigh2.fit(X_traintrain,y_traintrain)"
      ],
      "execution_count": 5,
      "outputs": [
        {
          "output_type": "execute_result",
          "data": {
            "text/plain": [
              "KNeighborsClassifier(algorithm='auto', leaf_size=30, metric='minkowski',\n",
              "                     metric_params=None, n_jobs=None, n_neighbors=5, p=2,\n",
              "                     weights='distance')"
            ]
          },
          "metadata": {},
          "execution_count": 5
        }
      ]
    },
    {
      "cell_type": "markdown",
      "metadata": {
        "id": "Ks9a3kKxpPl0"
      },
      "source": [
        "#### Define-Train Model3"
      ]
    },
    {
      "cell_type": "code",
      "metadata": {
        "colab": {
          "base_uri": "https://localhost:8080/"
        },
        "id": "u1SFwhn4pL7k",
        "outputId": "288c896a-3698-491f-bf7a-75196ebdee92"
      },
      "source": [
        "neigh3 = KNeighborsClassifier(n_neighbors=9,weights='distance') #เชื่อทุกคนเท่ากัน\n",
        "neigh3.fit(X_traintrain,y_traintrain)"
      ],
      "execution_count": 7,
      "outputs": [
        {
          "output_type": "execute_result",
          "data": {
            "text/plain": [
              "KNeighborsClassifier(algorithm='auto', leaf_size=30, metric='minkowski',\n",
              "                     metric_params=None, n_jobs=None, n_neighbors=9, p=2,\n",
              "                     weights='distance')"
            ]
          },
          "metadata": {},
          "execution_count": 7
        }
      ]
    },
    {
      "cell_type": "markdown",
      "metadata": {
        "id": "3fp9jKpSpkbw"
      },
      "source": [
        "#### Validate model"
      ]
    },
    {
      "cell_type": "code",
      "metadata": {
        "id": "WQvD1mmKp1cB"
      },
      "source": [
        "from sklearn.metrics import accuracy_score"
      ],
      "execution_count": 9,
      "outputs": []
    },
    {
      "cell_type": "code",
      "metadata": {
        "colab": {
          "base_uri": "https://localhost:8080/"
        },
        "id": "utenpuxWpaoF",
        "outputId": "49bc908c-ad71-41d2-8fef-f9ad38feec42"
      },
      "source": [
        "knn1_result = neigh1.predict(X_val)\n",
        "accuracy_score(y_val,knn1_result)"
      ],
      "execution_count": 10,
      "outputs": [
        {
          "output_type": "execute_result",
          "data": {
            "text/plain": [
              "0.9777777777777777"
            ]
          },
          "metadata": {},
          "execution_count": 10
        }
      ]
    },
    {
      "cell_type": "code",
      "metadata": {
        "colab": {
          "base_uri": "https://localhost:8080/"
        },
        "id": "rzEgytN1pyk7",
        "outputId": "a699a2ee-402b-4fe5-8bcc-35757225506e"
      },
      "source": [
        "knn2_result = neigh2.predict(X_val)\n",
        "accuracy_score(y_val,knn2_result)"
      ],
      "execution_count": 11,
      "outputs": [
        {
          "output_type": "execute_result",
          "data": {
            "text/plain": [
              "0.9777777777777777"
            ]
          },
          "metadata": {},
          "execution_count": 11
        }
      ]
    },
    {
      "cell_type": "code",
      "metadata": {
        "colab": {
          "base_uri": "https://localhost:8080/"
        },
        "id": "gSm16wjgp8NE",
        "outputId": "15a1403c-4515-41a2-cf87-940e2fe6a035"
      },
      "source": [
        "knn3_result = neigh3.predict(X_val)\n",
        "accuracy_score(y_val,knn3_result)"
      ],
      "execution_count": 12,
      "outputs": [
        {
          "output_type": "execute_result",
          "data": {
            "text/plain": [
              "0.9703703703703703"
            ]
          },
          "metadata": {},
          "execution_count": 12
        }
      ]
    },
    {
      "cell_type": "markdown",
      "metadata": {
        "id": "bdqKFpEI0STh"
      },
      "source": [
        "## Evaluation"
      ]
    },
    {
      "cell_type": "markdown",
      "metadata": {
        "id": "jHmn3TYD0Z_N"
      },
      "source": [
        "#### retrain model with full training data"
      ]
    },
    {
      "cell_type": "code",
      "metadata": {
        "colab": {
          "base_uri": "https://localhost:8080/"
        },
        "id": "KM1Ev4BwqBEE",
        "outputId": "e02d59d6-2cca-46de-9a56-1a10508e5062"
      },
      "source": [
        "neigh1full = KNeighborsClassifier(n_neighbors=1) #เชื่อใกล้สุดแค่คนเดียว\n",
        "neigh1full.fit(X_train,y_train)"
      ],
      "execution_count": 13,
      "outputs": [
        {
          "output_type": "execute_result",
          "data": {
            "text/plain": [
              "KNeighborsClassifier(algorithm='auto', leaf_size=30, metric='minkowski',\n",
              "                     metric_params=None, n_jobs=None, n_neighbors=1, p=2,\n",
              "                     weights='uniform')"
            ]
          },
          "metadata": {},
          "execution_count": 13
        }
      ]
    },
    {
      "cell_type": "code",
      "metadata": {
        "colab": {
          "base_uri": "https://localhost:8080/"
        },
        "id": "ufLmhPse0pQe",
        "outputId": "b90a4eb1-60e9-4dfa-b9f7-4ac1d0ec6600"
      },
      "source": [
        "neigh2full = KNeighborsClassifier(n_neighbors=5,weights='distance') #เชื่อคนใกล้มากว่าคนไกล\n",
        "neigh2full.fit(X_train,y_train)"
      ],
      "execution_count": 14,
      "outputs": [
        {
          "output_type": "execute_result",
          "data": {
            "text/plain": [
              "KNeighborsClassifier(algorithm='auto', leaf_size=30, metric='minkowski',\n",
              "                     metric_params=None, n_jobs=None, n_neighbors=5, p=2,\n",
              "                     weights='distance')"
            ]
          },
          "metadata": {},
          "execution_count": 14
        }
      ]
    },
    {
      "cell_type": "markdown",
      "metadata": {
        "id": "hfcFtzN801n2"
      },
      "source": [
        "#### Evaluation"
      ]
    },
    {
      "cell_type": "code",
      "metadata": {
        "id": "pym95S-60w5R"
      },
      "source": [
        "from sklearn.metrics import classification_report, confusion_matrix"
      ],
      "execution_count": 15,
      "outputs": []
    },
    {
      "cell_type": "code",
      "metadata": {
        "colab": {
          "base_uri": "https://localhost:8080/"
        },
        "id": "y6Q59dDG05UP",
        "outputId": "c142846e-024c-45c0-bf09-2c08afc21201"
      },
      "source": [
        "cm1 = confusion_matrix(y_test,neigh1full.predict(X_test))\n",
        "cm1"
      ],
      "execution_count": 17,
      "outputs": [
        {
          "output_type": "execute_result",
          "data": {
            "text/plain": [
              "array([[99,  0,  0,  0,  0,  0,  0,  0,  0,  0],\n",
              "       [ 0, 92,  0,  0,  0,  0,  0,  0,  1,  0],\n",
              "       [ 1,  0, 98,  0,  0,  0,  0,  0,  1,  0],\n",
              "       [ 0,  0,  1, 77,  0,  0,  0,  0,  0,  1],\n",
              "       [ 0,  0,  0,  0, 95,  0,  0,  0,  0,  1],\n",
              "       [ 0,  0,  0,  0,  0, 91,  1,  0,  0,  0],\n",
              "       [ 0,  1,  0,  0,  0,  0, 84,  0,  0,  0],\n",
              "       [ 0,  0,  0,  0,  0,  0,  0, 94,  0,  0],\n",
              "       [ 0,  1,  0,  1,  0,  0,  0,  0, 80,  1],\n",
              "       [ 0,  0,  0,  2,  0,  3,  0,  0,  0, 73]])"
            ]
          },
          "metadata": {},
          "execution_count": 17
        }
      ]
    },
    {
      "cell_type": "code",
      "metadata": {
        "colab": {
          "base_uri": "https://localhost:8080/"
        },
        "id": "tA7MLkrY1IWQ",
        "outputId": "dcbd8722-a847-4f27-a7eb-9f10201c5e38"
      },
      "source": [
        "cm2 = confusion_matrix(y_test,neigh2full.predict(X_test))\n",
        "cm2"
      ],
      "execution_count": 18,
      "outputs": [
        {
          "output_type": "execute_result",
          "data": {
            "text/plain": [
              "array([[99,  0,  0,  0,  0,  0,  0,  0,  0,  0],\n",
              "       [ 0, 93,  0,  0,  0,  0,  0,  0,  0,  0],\n",
              "       [ 1,  0, 97,  1,  0,  0,  0,  1,  0,  0],\n",
              "       [ 0,  0,  1, 78,  0,  0,  0,  0,  0,  0],\n",
              "       [ 0,  0,  0,  0, 95,  0,  0,  0,  0,  1],\n",
              "       [ 0,  0,  0,  0,  0, 92,  0,  0,  0,  0],\n",
              "       [ 0,  1,  0,  0,  0,  0, 84,  0,  0,  0],\n",
              "       [ 0,  0,  0,  0,  0,  0,  0, 94,  0,  0],\n",
              "       [ 0,  2,  0,  2,  0,  0,  1,  0, 77,  1],\n",
              "       [ 0,  0,  0,  2,  0,  2,  0,  0,  0, 74]])"
            ]
          },
          "metadata": {},
          "execution_count": 18
        }
      ]
    },
    {
      "cell_type": "code",
      "metadata": {
        "colab": {
          "base_uri": "https://localhost:8080/"
        },
        "id": "1SGJFfkC1Pom",
        "outputId": "020fec74-21c4-4ee1-e8d0-b1f50dbe28bb"
      },
      "source": [
        "cr1 = classification_report(y_test,neigh1full.predict(X_test))\n",
        "print(cr1)"
      ],
      "execution_count": 24,
      "outputs": [
        {
          "output_type": "stream",
          "name": "stdout",
          "text": [
            "              precision    recall  f1-score   support\n",
            "\n",
            "           0       0.99      1.00      0.99        99\n",
            "           1       0.98      0.99      0.98        93\n",
            "           2       0.99      0.98      0.98       100\n",
            "           3       0.96      0.97      0.97        79\n",
            "           4       1.00      0.99      0.99        96\n",
            "           5       0.97      0.99      0.98        92\n",
            "           6       0.99      0.99      0.99        85\n",
            "           7       1.00      1.00      1.00        94\n",
            "           8       0.98      0.96      0.97        83\n",
            "           9       0.96      0.94      0.95        78\n",
            "\n",
            "    accuracy                           0.98       899\n",
            "   macro avg       0.98      0.98      0.98       899\n",
            "weighted avg       0.98      0.98      0.98       899\n",
            "\n"
          ]
        }
      ]
    },
    {
      "cell_type": "code",
      "metadata": {
        "colab": {
          "base_uri": "https://localhost:8080/"
        },
        "id": "VckwkKYt141K",
        "outputId": "8ceb9860-daa9-4d47-a454-e66b6e4c78d3"
      },
      "source": [
        "cr2 = classification_report(y_test,neigh2full.predict(X_test))\n",
        "print(cr2)"
      ],
      "execution_count": 25,
      "outputs": [
        {
          "output_type": "stream",
          "name": "stdout",
          "text": [
            "              precision    recall  f1-score   support\n",
            "\n",
            "           0       0.99      1.00      0.99        99\n",
            "           1       0.97      1.00      0.98        93\n",
            "           2       0.99      0.97      0.98       100\n",
            "           3       0.94      0.99      0.96        79\n",
            "           4       1.00      0.99      0.99        96\n",
            "           5       0.98      1.00      0.99        92\n",
            "           6       0.99      0.99      0.99        85\n",
            "           7       0.99      1.00      0.99        94\n",
            "           8       1.00      0.93      0.96        83\n",
            "           9       0.97      0.95      0.96        78\n",
            "\n",
            "    accuracy                           0.98       899\n",
            "   macro avg       0.98      0.98      0.98       899\n",
            "weighted avg       0.98      0.98      0.98       899\n",
            "\n"
          ]
        }
      ]
    },
    {
      "cell_type": "code",
      "metadata": {
        "id": "PHJQ56PW2LGa"
      },
      "source": [
        ""
      ],
      "execution_count": null,
      "outputs": []
    }
  ]
}