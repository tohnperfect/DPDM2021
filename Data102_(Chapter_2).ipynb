{
  "nbformat": 4,
  "nbformat_minor": 0,
  "metadata": {
    "colab": {
      "name": "Data102 (Chapter 2).ipynb",
      "provenance": [],
      "include_colab_link": true
    },
    "kernelspec": {
      "name": "python3",
      "display_name": "Python 3"
    },
    "language_info": {
      "name": "python"
    }
  },
  "cells": [
    {
      "cell_type": "markdown",
      "metadata": {
        "id": "view-in-github",
        "colab_type": "text"
      },
      "source": [
        "<a href=\"https://colab.research.google.com/github/tohnperfect/DPDM2021/blob/main/Data102_(Chapter_2).ipynb\" target=\"_parent\"><img src=\"https://colab.research.google.com/assets/colab-badge.svg\" alt=\"Open In Colab\"/></a>"
      ]
    },
    {
      "cell_type": "code",
      "metadata": {
        "id": "dlwmt99qJuL1"
      },
      "source": [
        "import pandas as pd # ทำงานกับข้อมูลลักษณะ ตาราง"
      ],
      "execution_count": 1,
      "outputs": []
    },
    {
      "cell_type": "code",
      "metadata": {
        "colab": {
          "base_uri": "https://localhost:8080/"
        },
        "id": "gT4PMlPjLonl",
        "outputId": "fe52de5b-dc9c-4e1e-d881-24275ab7a5b8"
      },
      "source": [
        "from google.colab import drive # เชื่อม google drive\n",
        "drive.mount('/content/drive')"
      ],
      "execution_count": 2,
      "outputs": [
        {
          "output_type": "stream",
          "text": [
            "Mounted at /content/drive\n"
          ],
          "name": "stdout"
        }
      ]
    },
    {
      "cell_type": "code",
      "metadata": {
        "id": "bjUM3plTL12V"
      },
      "source": [
        "import os # จัดการไฟล์และ path"
      ],
      "execution_count": 3,
      "outputs": []
    },
    {
      "cell_type": "code",
      "metadata": {
        "id": "vfXC6crmMTq2"
      },
      "source": [
        "path = '/content/drive/My Drive/DPDM2021_DATA'"
      ],
      "execution_count": 4,
      "outputs": []
    },
    {
      "cell_type": "markdown",
      "metadata": {
        "id": "Jf8uzySBzAbg"
      },
      "source": [
        "#### 1 Eyeball the data"
      ]
    },
    {
      "cell_type": "code",
      "metadata": {
        "colab": {
          "base_uri": "https://localhost:8080/",
          "height": 495
        },
        "id": "Fw8U9-vvMcRp",
        "outputId": "28a36234-335c-4045-c91f-ff9976ca36f5"
      },
      "source": [
        "data = pd.read_csv(os.path.join(path,'thailand_covid-19_testing_data.csv'))\n",
        "data"
      ],
      "execution_count": 5,
      "outputs": [
        {
          "output_type": "execute_result",
          "data": {
            "text/html": [
              "<div>\n",
              "<style scoped>\n",
              "    .dataframe tbody tr th:only-of-type {\n",
              "        vertical-align: middle;\n",
              "    }\n",
              "\n",
              "    .dataframe tbody tr th {\n",
              "        vertical-align: top;\n",
              "    }\n",
              "\n",
              "    .dataframe thead th {\n",
              "        text-align: right;\n",
              "    }\n",
              "</style>\n",
              "<table border=\"1\" class=\"dataframe\">\n",
              "  <thead>\n",
              "    <tr style=\"text-align: right;\">\n",
              "      <th></th>\n",
              "      <th>Date</th>\n",
              "      <th>positive</th>\n",
              "      <th>Total Testing</th>\n",
              "      <th>Unnamed: 3</th>\n",
              "      <th>Unnamed: 4</th>\n",
              "      <th>Unnamed: 5</th>\n",
              "      <th>Unnamed: 6</th>\n",
              "      <th>Unnamed: 7</th>\n",
              "      <th>Unnamed: 8</th>\n",
              "      <th>Unnamed: 9</th>\n",
              "      <th>Unnamed: 10</th>\n",
              "      <th>Unnamed: 11</th>\n",
              "      <th>Unnamed: 12</th>\n",
              "      <th>Unnamed: 13</th>\n",
              "      <th>Unnamed: 14</th>\n",
              "      <th>Unnamed: 15</th>\n",
              "      <th>Unnamed: 16</th>\n",
              "      <th>Unnamed: 17</th>\n",
              "      <th>Unnamed: 18</th>\n",
              "      <th>Unnamed: 19</th>\n",
              "      <th>Unnamed: 20</th>\n",
              "      <th>Unnamed: 21</th>\n",
              "      <th>Unnamed: 22</th>\n",
              "      <th>Unnamed: 23</th>\n",
              "      <th>Unnamed: 24</th>\n",
              "      <th>Unnamed: 25</th>\n",
              "      <th>Unnamed: 26</th>\n",
              "      <th>Unnamed: 27</th>\n",
              "      <th>Unnamed: 28</th>\n",
              "      <th>Unnamed: 29</th>\n",
              "      <th>Unnamed: 30</th>\n",
              "      <th>Unnamed: 31</th>\n",
              "      <th>Unnamed: 32</th>\n",
              "      <th>Unnamed: 33</th>\n",
              "      <th>Unnamed: 34</th>\n",
              "      <th>Unnamed: 35</th>\n",
              "      <th>Unnamed: 36</th>\n",
              "      <th>Unnamed: 37</th>\n",
              "      <th>Unnamed: 38</th>\n",
              "      <th>Unnamed: 39</th>\n",
              "      <th>...</th>\n",
              "      <th>Unnamed: 82</th>\n",
              "      <th>Unnamed: 83</th>\n",
              "      <th>Unnamed: 84</th>\n",
              "      <th>Unnamed: 85</th>\n",
              "      <th>Unnamed: 86</th>\n",
              "      <th>Unnamed: 87</th>\n",
              "      <th>Unnamed: 88</th>\n",
              "      <th>Unnamed: 89</th>\n",
              "      <th>Unnamed: 90</th>\n",
              "      <th>Unnamed: 91</th>\n",
              "      <th>Unnamed: 92</th>\n",
              "      <th>Unnamed: 93</th>\n",
              "      <th>Unnamed: 94</th>\n",
              "      <th>Unnamed: 95</th>\n",
              "      <th>Unnamed: 96</th>\n",
              "      <th>Unnamed: 97</th>\n",
              "      <th>Unnamed: 98</th>\n",
              "      <th>Unnamed: 99</th>\n",
              "      <th>Unnamed: 100</th>\n",
              "      <th>Unnamed: 101</th>\n",
              "      <th>Unnamed: 102</th>\n",
              "      <th>Unnamed: 103</th>\n",
              "      <th>Unnamed: 104</th>\n",
              "      <th>Unnamed: 105</th>\n",
              "      <th>Unnamed: 106</th>\n",
              "      <th>Unnamed: 107</th>\n",
              "      <th>Unnamed: 108</th>\n",
              "      <th>Unnamed: 109</th>\n",
              "      <th>Unnamed: 110</th>\n",
              "      <th>Unnamed: 111</th>\n",
              "      <th>Unnamed: 112</th>\n",
              "      <th>Unnamed: 113</th>\n",
              "      <th>Unnamed: 114</th>\n",
              "      <th>Unnamed: 115</th>\n",
              "      <th>Unnamed: 116</th>\n",
              "      <th>Unnamed: 117</th>\n",
              "      <th>Unnamed: 118</th>\n",
              "      <th>Unnamed: 119</th>\n",
              "      <th>Unnamed: 120</th>\n",
              "      <th>Unnamed: 121</th>\n",
              "    </tr>\n",
              "  </thead>\n",
              "  <tbody>\n",
              "    <tr>\n",
              "      <th>0</th>\n",
              "      <td>Cannot specify date</td>\n",
              "      <td>2963</td>\n",
              "      <td>32131</td>\n",
              "      <td>NaN</td>\n",
              "      <td>NaN</td>\n",
              "      <td>NaN</td>\n",
              "      <td>NaN</td>\n",
              "      <td>NaN</td>\n",
              "      <td>NaN</td>\n",
              "      <td>NaN</td>\n",
              "      <td>NaN</td>\n",
              "      <td>NaN</td>\n",
              "      <td>NaN</td>\n",
              "      <td>NaN</td>\n",
              "      <td>NaN</td>\n",
              "      <td>NaN</td>\n",
              "      <td>NaN</td>\n",
              "      <td>NaN</td>\n",
              "      <td>NaN</td>\n",
              "      <td>NaN</td>\n",
              "      <td>NaN</td>\n",
              "      <td>NaN</td>\n",
              "      <td>NaN</td>\n",
              "      <td>NaN</td>\n",
              "      <td>NaN</td>\n",
              "      <td>NaN</td>\n",
              "      <td>NaN</td>\n",
              "      <td>NaN</td>\n",
              "      <td>NaN</td>\n",
              "      <td>NaN</td>\n",
              "      <td>NaN</td>\n",
              "      <td>NaN</td>\n",
              "      <td>NaN</td>\n",
              "      <td>NaN</td>\n",
              "      <td>NaN</td>\n",
              "      <td>NaN</td>\n",
              "      <td>NaN</td>\n",
              "      <td>NaN</td>\n",
              "      <td>NaN</td>\n",
              "      <td>NaN</td>\n",
              "      <td>...</td>\n",
              "      <td>NaN</td>\n",
              "      <td>NaN</td>\n",
              "      <td>NaN</td>\n",
              "      <td>NaN</td>\n",
              "      <td>NaN</td>\n",
              "      <td>NaN</td>\n",
              "      <td>NaN</td>\n",
              "      <td>NaN</td>\n",
              "      <td>NaN</td>\n",
              "      <td>NaN</td>\n",
              "      <td>NaN</td>\n",
              "      <td>NaN</td>\n",
              "      <td>NaN</td>\n",
              "      <td>NaN</td>\n",
              "      <td>NaN</td>\n",
              "      <td>NaN</td>\n",
              "      <td>NaN</td>\n",
              "      <td>NaN</td>\n",
              "      <td>NaN</td>\n",
              "      <td>NaN</td>\n",
              "      <td>NaN</td>\n",
              "      <td>NaN</td>\n",
              "      <td>NaN</td>\n",
              "      <td>NaN</td>\n",
              "      <td>NaN</td>\n",
              "      <td>NaN</td>\n",
              "      <td>NaN</td>\n",
              "      <td>NaN</td>\n",
              "      <td>NaN</td>\n",
              "      <td>NaN</td>\n",
              "      <td>NaN</td>\n",
              "      <td>NaN</td>\n",
              "      <td>NaN</td>\n",
              "      <td>NaN</td>\n",
              "      <td>NaN</td>\n",
              "      <td>NaN</td>\n",
              "      <td>NaN</td>\n",
              "      <td>NaN</td>\n",
              "      <td>NaN</td>\n",
              "      <td>NaN</td>\n",
              "    </tr>\n",
              "    <tr>\n",
              "      <th>1</th>\n",
              "      <td>1/1/2020</td>\n",
              "      <td>0</td>\n",
              "      <td>0</td>\n",
              "      <td>NaN</td>\n",
              "      <td>NaN</td>\n",
              "      <td>NaN</td>\n",
              "      <td>NaN</td>\n",
              "      <td>NaN</td>\n",
              "      <td>NaN</td>\n",
              "      <td>NaN</td>\n",
              "      <td>NaN</td>\n",
              "      <td>NaN</td>\n",
              "      <td>NaN</td>\n",
              "      <td>NaN</td>\n",
              "      <td>NaN</td>\n",
              "      <td>NaN</td>\n",
              "      <td>NaN</td>\n",
              "      <td>NaN</td>\n",
              "      <td>NaN</td>\n",
              "      <td>NaN</td>\n",
              "      <td>NaN</td>\n",
              "      <td>NaN</td>\n",
              "      <td>NaN</td>\n",
              "      <td>NaN</td>\n",
              "      <td>NaN</td>\n",
              "      <td>NaN</td>\n",
              "      <td>NaN</td>\n",
              "      <td>NaN</td>\n",
              "      <td>NaN</td>\n",
              "      <td>NaN</td>\n",
              "      <td>NaN</td>\n",
              "      <td>NaN</td>\n",
              "      <td>NaN</td>\n",
              "      <td>NaN</td>\n",
              "      <td>NaN</td>\n",
              "      <td>NaN</td>\n",
              "      <td>NaN</td>\n",
              "      <td>NaN</td>\n",
              "      <td>NaN</td>\n",
              "      <td>NaN</td>\n",
              "      <td>...</td>\n",
              "      <td>12</td>\n",
              "      <td>NaN</td>\n",
              "      <td>13</td>\n",
              "      <td>NaN</td>\n",
              "      <td>14</td>\n",
              "      <td>NaN</td>\n",
              "      <td>15</td>\n",
              "      <td>NaN</td>\n",
              "      <td>16</td>\n",
              "      <td>NaN</td>\n",
              "      <td>17</td>\n",
              "      <td>NaN</td>\n",
              "      <td>18</td>\n",
              "      <td>NaN</td>\n",
              "      <td>19</td>\n",
              "      <td>NaN</td>\n",
              "      <td>20</td>\n",
              "      <td>NaN</td>\n",
              "      <td>21</td>\n",
              "      <td>NaN</td>\n",
              "      <td>22</td>\n",
              "      <td>NaN</td>\n",
              "      <td>23</td>\n",
              "      <td>NaN</td>\n",
              "      <td>24</td>\n",
              "      <td>NaN</td>\n",
              "      <td>25</td>\n",
              "      <td>NaN</td>\n",
              "      <td>26</td>\n",
              "      <td>NaN</td>\n",
              "      <td>27</td>\n",
              "      <td>NaN</td>\n",
              "      <td>28</td>\n",
              "      <td>NaN</td>\n",
              "      <td>29</td>\n",
              "      <td>NaN</td>\n",
              "      <td>30</td>\n",
              "      <td>NaN</td>\n",
              "      <td>31</td>\n",
              "      <td>NaN</td>\n",
              "    </tr>\n",
              "    <tr>\n",
              "      <th>2</th>\n",
              "      <td>2/1/2020</td>\n",
              "      <td>0</td>\n",
              "      <td>0</td>\n",
              "      <td>NaN</td>\n",
              "      <td>NaN</td>\n",
              "      <td>NaN</td>\n",
              "      <td>NaN</td>\n",
              "      <td>NaN</td>\n",
              "      <td>NaN</td>\n",
              "      <td>NaN</td>\n",
              "      <td>NaN</td>\n",
              "      <td>NaN</td>\n",
              "      <td>NaN</td>\n",
              "      <td>NaN</td>\n",
              "      <td>NaN</td>\n",
              "      <td>NaN</td>\n",
              "      <td>NaN</td>\n",
              "      <td>NaN</td>\n",
              "      <td>NaN</td>\n",
              "      <td>NaN</td>\n",
              "      <td>NaN</td>\n",
              "      <td>NaN</td>\n",
              "      <td>NaN</td>\n",
              "      <td>NaN</td>\n",
              "      <td>NaN</td>\n",
              "      <td>NaN</td>\n",
              "      <td>NaN</td>\n",
              "      <td>NaN</td>\n",
              "      <td>NaN</td>\n",
              "      <td>NaN</td>\n",
              "      <td>NaN</td>\n",
              "      <td>NaN</td>\n",
              "      <td>NaN</td>\n",
              "      <td>NaN</td>\n",
              "      <td>NaN</td>\n",
              "      <td>NaN</td>\n",
              "      <td>NaN</td>\n",
              "      <td>NaN</td>\n",
              "      <td>NaN</td>\n",
              "      <td>NaN</td>\n",
              "      <td>...</td>\n",
              "      <td>Pos</td>\n",
              "      <td>Pos</td>\n",
              "      <td>Total</td>\n",
              "      <td>Pos</td>\n",
              "      <td>Total</td>\n",
              "      <td>Pos</td>\n",
              "      <td>Total</td>\n",
              "      <td>Pos</td>\n",
              "      <td>Total</td>\n",
              "      <td>Pos</td>\n",
              "      <td>Pos</td>\n",
              "      <td>Total</td>\n",
              "      <td>Pos</td>\n",
              "      <td>Total</td>\n",
              "      <td>Pos</td>\n",
              "      <td>Total</td>\n",
              "      <td>Pos</td>\n",
              "      <td>Total</td>\n",
              "      <td>Pos</td>\n",
              "      <td>Pos</td>\n",
              "      <td>Total</td>\n",
              "      <td>Pos</td>\n",
              "      <td>Total</td>\n",
              "      <td>Pos</td>\n",
              "      <td>Total</td>\n",
              "      <td>Pos</td>\n",
              "      <td>Total</td>\n",
              "      <td>Pos</td>\n",
              "      <td>Pos</td>\n",
              "      <td>Total</td>\n",
              "      <td>Pos</td>\n",
              "      <td>Total</td>\n",
              "      <td>Pos</td>\n",
              "      <td>Total</td>\n",
              "      <td>Pos</td>\n",
              "      <td>Total</td>\n",
              "      <td>Pos</td>\n",
              "      <td>Pos</td>\n",
              "      <td>Pos</td>\n",
              "      <td>Pos</td>\n",
              "    </tr>\n",
              "    <tr>\n",
              "      <th>3</th>\n",
              "      <td>3/1/2020</td>\n",
              "      <td>0</td>\n",
              "      <td>0</td>\n",
              "      <td>NaN</td>\n",
              "      <td>NaN</td>\n",
              "      <td>NaN</td>\n",
              "      <td>NaN</td>\n",
              "      <td>NaN</td>\n",
              "      <td>NaN</td>\n",
              "      <td>NaN</td>\n",
              "      <td>NaN</td>\n",
              "      <td>NaN</td>\n",
              "      <td>NaN</td>\n",
              "      <td>NaN</td>\n",
              "      <td>NaN</td>\n",
              "      <td>NaN</td>\n",
              "      <td>NaN</td>\n",
              "      <td>NaN</td>\n",
              "      <td>NaN</td>\n",
              "      <td>NaN</td>\n",
              "      <td>NaN</td>\n",
              "      <td>NaN</td>\n",
              "      <td>NaN</td>\n",
              "      <td>NaN</td>\n",
              "      <td>NaN</td>\n",
              "      <td>NaN</td>\n",
              "      <td>NaN</td>\n",
              "      <td>NaN</td>\n",
              "      <td>NaN</td>\n",
              "      <td>NaN</td>\n",
              "      <td>NaN</td>\n",
              "      <td>NaN</td>\n",
              "      <td>NaN</td>\n",
              "      <td>NaN</td>\n",
              "      <td>NaN</td>\n",
              "      <td>NaN</td>\n",
              "      <td>NaN</td>\n",
              "      <td>NaN</td>\n",
              "      <td>NaN</td>\n",
              "      <td>NaN</td>\n",
              "      <td>...</td>\n",
              "      <td>NaN</td>\n",
              "      <td>NaN</td>\n",
              "      <td>NaN</td>\n",
              "      <td>NaN</td>\n",
              "      <td>NaN</td>\n",
              "      <td>NaN</td>\n",
              "      <td>NaN</td>\n",
              "      <td>NaN</td>\n",
              "      <td>NaN</td>\n",
              "      <td>NaN</td>\n",
              "      <td>NaN</td>\n",
              "      <td>NaN</td>\n",
              "      <td>NaN</td>\n",
              "      <td>NaN</td>\n",
              "      <td>NaN</td>\n",
              "      <td>NaN</td>\n",
              "      <td>NaN</td>\n",
              "      <td>NaN</td>\n",
              "      <td>NaN</td>\n",
              "      <td>NaN</td>\n",
              "      <td>NaN</td>\n",
              "      <td>NaN</td>\n",
              "      <td>NaN</td>\n",
              "      <td>NaN</td>\n",
              "      <td>NaN</td>\n",
              "      <td>NaN</td>\n",
              "      <td>NaN</td>\n",
              "      <td>NaN</td>\n",
              "      <td>NaN</td>\n",
              "      <td>NaN</td>\n",
              "      <td>NaN</td>\n",
              "      <td>NaN</td>\n",
              "      <td>NaN</td>\n",
              "      <td>NaN</td>\n",
              "      <td>NaN</td>\n",
              "      <td>NaN</td>\n",
              "      <td>NaN</td>\n",
              "      <td>NaN</td>\n",
              "      <td>NaN</td>\n",
              "      <td>NaN</td>\n",
              "    </tr>\n",
              "    <tr>\n",
              "      <th>4</th>\n",
              "      <td>4/1/2020</td>\n",
              "      <td>0</td>\n",
              "      <td>2</td>\n",
              "      <td>NaN</td>\n",
              "      <td>NaN</td>\n",
              "      <td>NaN</td>\n",
              "      <td>NaN</td>\n",
              "      <td>NaN</td>\n",
              "      <td>NaN</td>\n",
              "      <td>NaN</td>\n",
              "      <td>NaN</td>\n",
              "      <td>NaN</td>\n",
              "      <td>NaN</td>\n",
              "      <td>NaN</td>\n",
              "      <td>NaN</td>\n",
              "      <td>NaN</td>\n",
              "      <td>NaN</td>\n",
              "      <td>NaN</td>\n",
              "      <td>NaN</td>\n",
              "      <td>NaN</td>\n",
              "      <td>NaN</td>\n",
              "      <td>NaN</td>\n",
              "      <td>NaN</td>\n",
              "      <td>NaN</td>\n",
              "      <td>NaN</td>\n",
              "      <td>NaN</td>\n",
              "      <td>NaN</td>\n",
              "      <td>NaN</td>\n",
              "      <td>NaN</td>\n",
              "      <td>NaN</td>\n",
              "      <td>NaN</td>\n",
              "      <td>NaN</td>\n",
              "      <td>NaN</td>\n",
              "      <td>NaN</td>\n",
              "      <td>NaN</td>\n",
              "      <td>NaN</td>\n",
              "      <td>NaN</td>\n",
              "      <td>NaN</td>\n",
              "      <td>NaN</td>\n",
              "      <td>NaN</td>\n",
              "      <td>...</td>\n",
              "      <td>NaN</td>\n",
              "      <td>NaN</td>\n",
              "      <td>NaN</td>\n",
              "      <td>NaN</td>\n",
              "      <td>NaN</td>\n",
              "      <td>NaN</td>\n",
              "      <td>NaN</td>\n",
              "      <td>NaN</td>\n",
              "      <td>NaN</td>\n",
              "      <td>NaN</td>\n",
              "      <td>NaN</td>\n",
              "      <td>NaN</td>\n",
              "      <td>NaN</td>\n",
              "      <td>NaN</td>\n",
              "      <td>NaN</td>\n",
              "      <td>NaN</td>\n",
              "      <td>NaN</td>\n",
              "      <td>NaN</td>\n",
              "      <td>NaN</td>\n",
              "      <td>NaN</td>\n",
              "      <td>NaN</td>\n",
              "      <td>NaN</td>\n",
              "      <td>NaN</td>\n",
              "      <td>NaN</td>\n",
              "      <td>NaN</td>\n",
              "      <td>NaN</td>\n",
              "      <td>NaN</td>\n",
              "      <td>NaN</td>\n",
              "      <td>NaN</td>\n",
              "      <td>NaN</td>\n",
              "      <td>NaN</td>\n",
              "      <td>NaN</td>\n",
              "      <td>NaN</td>\n",
              "      <td>NaN</td>\n",
              "      <td>NaN</td>\n",
              "      <td>NaN</td>\n",
              "      <td>NaN</td>\n",
              "      <td>NaN</td>\n",
              "      <td>NaN</td>\n",
              "      <td>NaN</td>\n",
              "    </tr>\n",
              "    <tr>\n",
              "      <th>...</th>\n",
              "      <td>...</td>\n",
              "      <td>...</td>\n",
              "      <td>...</td>\n",
              "      <td>...</td>\n",
              "      <td>...</td>\n",
              "      <td>...</td>\n",
              "      <td>...</td>\n",
              "      <td>...</td>\n",
              "      <td>...</td>\n",
              "      <td>...</td>\n",
              "      <td>...</td>\n",
              "      <td>...</td>\n",
              "      <td>...</td>\n",
              "      <td>...</td>\n",
              "      <td>...</td>\n",
              "      <td>...</td>\n",
              "      <td>...</td>\n",
              "      <td>...</td>\n",
              "      <td>...</td>\n",
              "      <td>...</td>\n",
              "      <td>...</td>\n",
              "      <td>...</td>\n",
              "      <td>...</td>\n",
              "      <td>...</td>\n",
              "      <td>...</td>\n",
              "      <td>...</td>\n",
              "      <td>...</td>\n",
              "      <td>...</td>\n",
              "      <td>...</td>\n",
              "      <td>...</td>\n",
              "      <td>...</td>\n",
              "      <td>...</td>\n",
              "      <td>...</td>\n",
              "      <td>...</td>\n",
              "      <td>...</td>\n",
              "      <td>...</td>\n",
              "      <td>...</td>\n",
              "      <td>...</td>\n",
              "      <td>...</td>\n",
              "      <td>...</td>\n",
              "      <td>...</td>\n",
              "      <td>...</td>\n",
              "      <td>...</td>\n",
              "      <td>...</td>\n",
              "      <td>...</td>\n",
              "      <td>...</td>\n",
              "      <td>...</td>\n",
              "      <td>...</td>\n",
              "      <td>...</td>\n",
              "      <td>...</td>\n",
              "      <td>...</td>\n",
              "      <td>...</td>\n",
              "      <td>...</td>\n",
              "      <td>...</td>\n",
              "      <td>...</td>\n",
              "      <td>...</td>\n",
              "      <td>...</td>\n",
              "      <td>...</td>\n",
              "      <td>...</td>\n",
              "      <td>...</td>\n",
              "      <td>...</td>\n",
              "      <td>...</td>\n",
              "      <td>...</td>\n",
              "      <td>...</td>\n",
              "      <td>...</td>\n",
              "      <td>...</td>\n",
              "      <td>...</td>\n",
              "      <td>...</td>\n",
              "      <td>...</td>\n",
              "      <td>...</td>\n",
              "      <td>...</td>\n",
              "      <td>...</td>\n",
              "      <td>...</td>\n",
              "      <td>...</td>\n",
              "      <td>...</td>\n",
              "      <td>...</td>\n",
              "      <td>...</td>\n",
              "      <td>...</td>\n",
              "      <td>...</td>\n",
              "      <td>...</td>\n",
              "      <td>...</td>\n",
              "    </tr>\n",
              "    <tr>\n",
              "      <th>567</th>\n",
              "      <td>20/7/2021</td>\n",
              "      <td>68403</td>\n",
              "      <td>10152</td>\n",
              "      <td>NaN</td>\n",
              "      <td>NaN</td>\n",
              "      <td>NaN</td>\n",
              "      <td>NaN</td>\n",
              "      <td>NaN</td>\n",
              "      <td>NaN</td>\n",
              "      <td>NaN</td>\n",
              "      <td>NaN</td>\n",
              "      <td>NaN</td>\n",
              "      <td>NaN</td>\n",
              "      <td>NaN</td>\n",
              "      <td>NaN</td>\n",
              "      <td>NaN</td>\n",
              "      <td>NaN</td>\n",
              "      <td>NaN</td>\n",
              "      <td>NaN</td>\n",
              "      <td>NaN</td>\n",
              "      <td>NaN</td>\n",
              "      <td>NaN</td>\n",
              "      <td>NaN</td>\n",
              "      <td>NaN</td>\n",
              "      <td>NaN</td>\n",
              "      <td>NaN</td>\n",
              "      <td>NaN</td>\n",
              "      <td>NaN</td>\n",
              "      <td>NaN</td>\n",
              "      <td>NaN</td>\n",
              "      <td>NaN</td>\n",
              "      <td>NaN</td>\n",
              "      <td>NaN</td>\n",
              "      <td>NaN</td>\n",
              "      <td>NaN</td>\n",
              "      <td>NaN</td>\n",
              "      <td>NaN</td>\n",
              "      <td>NaN</td>\n",
              "      <td>NaN</td>\n",
              "      <td>NaN</td>\n",
              "      <td>...</td>\n",
              "      <td>NaN</td>\n",
              "      <td>NaN</td>\n",
              "      <td>NaN</td>\n",
              "      <td>NaN</td>\n",
              "      <td>NaN</td>\n",
              "      <td>NaN</td>\n",
              "      <td>NaN</td>\n",
              "      <td>NaN</td>\n",
              "      <td>NaN</td>\n",
              "      <td>NaN</td>\n",
              "      <td>NaN</td>\n",
              "      <td>NaN</td>\n",
              "      <td>NaN</td>\n",
              "      <td>NaN</td>\n",
              "      <td>NaN</td>\n",
              "      <td>NaN</td>\n",
              "      <td>NaN</td>\n",
              "      <td>NaN</td>\n",
              "      <td>NaN</td>\n",
              "      <td>NaN</td>\n",
              "      <td>NaN</td>\n",
              "      <td>NaN</td>\n",
              "      <td>NaN</td>\n",
              "      <td>NaN</td>\n",
              "      <td>NaN</td>\n",
              "      <td>NaN</td>\n",
              "      <td>NaN</td>\n",
              "      <td>NaN</td>\n",
              "      <td>NaN</td>\n",
              "      <td>NaN</td>\n",
              "      <td>NaN</td>\n",
              "      <td>NaN</td>\n",
              "      <td>NaN</td>\n",
              "      <td>NaN</td>\n",
              "      <td>NaN</td>\n",
              "      <td>NaN</td>\n",
              "      <td>NaN</td>\n",
              "      <td>NaN</td>\n",
              "      <td>NaN</td>\n",
              "      <td>NaN</td>\n",
              "    </tr>\n",
              "    <tr>\n",
              "      <th>568</th>\n",
              "      <td>21/7/2021</td>\n",
              "      <td>82325</td>\n",
              "      <td>12210</td>\n",
              "      <td>NaN</td>\n",
              "      <td>NaN</td>\n",
              "      <td>NaN</td>\n",
              "      <td>NaN</td>\n",
              "      <td>NaN</td>\n",
              "      <td>NaN</td>\n",
              "      <td>NaN</td>\n",
              "      <td>NaN</td>\n",
              "      <td>NaN</td>\n",
              "      <td>NaN</td>\n",
              "      <td>NaN</td>\n",
              "      <td>NaN</td>\n",
              "      <td>NaN</td>\n",
              "      <td>NaN</td>\n",
              "      <td>NaN</td>\n",
              "      <td>NaN</td>\n",
              "      <td>NaN</td>\n",
              "      <td>NaN</td>\n",
              "      <td>NaN</td>\n",
              "      <td>NaN</td>\n",
              "      <td>NaN</td>\n",
              "      <td>NaN</td>\n",
              "      <td>NaN</td>\n",
              "      <td>NaN</td>\n",
              "      <td>NaN</td>\n",
              "      <td>NaN</td>\n",
              "      <td>NaN</td>\n",
              "      <td>NaN</td>\n",
              "      <td>NaN</td>\n",
              "      <td>NaN</td>\n",
              "      <td>NaN</td>\n",
              "      <td>NaN</td>\n",
              "      <td>NaN</td>\n",
              "      <td>NaN</td>\n",
              "      <td>NaN</td>\n",
              "      <td>NaN</td>\n",
              "      <td>NaN</td>\n",
              "      <td>...</td>\n",
              "      <td>NaN</td>\n",
              "      <td>NaN</td>\n",
              "      <td>NaN</td>\n",
              "      <td>NaN</td>\n",
              "      <td>NaN</td>\n",
              "      <td>NaN</td>\n",
              "      <td>NaN</td>\n",
              "      <td>NaN</td>\n",
              "      <td>NaN</td>\n",
              "      <td>NaN</td>\n",
              "      <td>NaN</td>\n",
              "      <td>NaN</td>\n",
              "      <td>NaN</td>\n",
              "      <td>NaN</td>\n",
              "      <td>NaN</td>\n",
              "      <td>NaN</td>\n",
              "      <td>NaN</td>\n",
              "      <td>NaN</td>\n",
              "      <td>NaN</td>\n",
              "      <td>NaN</td>\n",
              "      <td>NaN</td>\n",
              "      <td>NaN</td>\n",
              "      <td>NaN</td>\n",
              "      <td>NaN</td>\n",
              "      <td>NaN</td>\n",
              "      <td>NaN</td>\n",
              "      <td>NaN</td>\n",
              "      <td>NaN</td>\n",
              "      <td>NaN</td>\n",
              "      <td>NaN</td>\n",
              "      <td>NaN</td>\n",
              "      <td>NaN</td>\n",
              "      <td>NaN</td>\n",
              "      <td>NaN</td>\n",
              "      <td>NaN</td>\n",
              "      <td>NaN</td>\n",
              "      <td>NaN</td>\n",
              "      <td>NaN</td>\n",
              "      <td>NaN</td>\n",
              "      <td>NaN</td>\n",
              "    </tr>\n",
              "    <tr>\n",
              "      <th>569</th>\n",
              "      <td>22/7/2021</td>\n",
              "      <td>62846</td>\n",
              "      <td>10623</td>\n",
              "      <td>NaN</td>\n",
              "      <td>NaN</td>\n",
              "      <td>NaN</td>\n",
              "      <td>NaN</td>\n",
              "      <td>NaN</td>\n",
              "      <td>NaN</td>\n",
              "      <td>NaN</td>\n",
              "      <td>NaN</td>\n",
              "      <td>NaN</td>\n",
              "      <td>NaN</td>\n",
              "      <td>NaN</td>\n",
              "      <td>NaN</td>\n",
              "      <td>NaN</td>\n",
              "      <td>NaN</td>\n",
              "      <td>NaN</td>\n",
              "      <td>NaN</td>\n",
              "      <td>NaN</td>\n",
              "      <td>NaN</td>\n",
              "      <td>NaN</td>\n",
              "      <td>NaN</td>\n",
              "      <td>NaN</td>\n",
              "      <td>NaN</td>\n",
              "      <td>NaN</td>\n",
              "      <td>NaN</td>\n",
              "      <td>NaN</td>\n",
              "      <td>NaN</td>\n",
              "      <td>NaN</td>\n",
              "      <td>NaN</td>\n",
              "      <td>NaN</td>\n",
              "      <td>NaN</td>\n",
              "      <td>NaN</td>\n",
              "      <td>NaN</td>\n",
              "      <td>NaN</td>\n",
              "      <td>NaN</td>\n",
              "      <td>NaN</td>\n",
              "      <td>NaN</td>\n",
              "      <td>NaN</td>\n",
              "      <td>...</td>\n",
              "      <td>NaN</td>\n",
              "      <td>NaN</td>\n",
              "      <td>NaN</td>\n",
              "      <td>NaN</td>\n",
              "      <td>NaN</td>\n",
              "      <td>NaN</td>\n",
              "      <td>NaN</td>\n",
              "      <td>NaN</td>\n",
              "      <td>NaN</td>\n",
              "      <td>NaN</td>\n",
              "      <td>NaN</td>\n",
              "      <td>NaN</td>\n",
              "      <td>NaN</td>\n",
              "      <td>NaN</td>\n",
              "      <td>NaN</td>\n",
              "      <td>NaN</td>\n",
              "      <td>NaN</td>\n",
              "      <td>NaN</td>\n",
              "      <td>NaN</td>\n",
              "      <td>NaN</td>\n",
              "      <td>NaN</td>\n",
              "      <td>NaN</td>\n",
              "      <td>NaN</td>\n",
              "      <td>NaN</td>\n",
              "      <td>NaN</td>\n",
              "      <td>NaN</td>\n",
              "      <td>NaN</td>\n",
              "      <td>NaN</td>\n",
              "      <td>NaN</td>\n",
              "      <td>NaN</td>\n",
              "      <td>NaN</td>\n",
              "      <td>NaN</td>\n",
              "      <td>NaN</td>\n",
              "      <td>NaN</td>\n",
              "      <td>NaN</td>\n",
              "      <td>NaN</td>\n",
              "      <td>NaN</td>\n",
              "      <td>NaN</td>\n",
              "      <td>NaN</td>\n",
              "      <td>NaN</td>\n",
              "    </tr>\n",
              "    <tr>\n",
              "      <th>570</th>\n",
              "      <td>23/7/2021</td>\n",
              "      <td>58851</td>\n",
              "      <td>10200</td>\n",
              "      <td>NaN</td>\n",
              "      <td>NaN</td>\n",
              "      <td>NaN</td>\n",
              "      <td>NaN</td>\n",
              "      <td>NaN</td>\n",
              "      <td>NaN</td>\n",
              "      <td>NaN</td>\n",
              "      <td>NaN</td>\n",
              "      <td>NaN</td>\n",
              "      <td>NaN</td>\n",
              "      <td>NaN</td>\n",
              "      <td>NaN</td>\n",
              "      <td>NaN</td>\n",
              "      <td>NaN</td>\n",
              "      <td>NaN</td>\n",
              "      <td>NaN</td>\n",
              "      <td>NaN</td>\n",
              "      <td>NaN</td>\n",
              "      <td>NaN</td>\n",
              "      <td>NaN</td>\n",
              "      <td>NaN</td>\n",
              "      <td>NaN</td>\n",
              "      <td>NaN</td>\n",
              "      <td>NaN</td>\n",
              "      <td>NaN</td>\n",
              "      <td>NaN</td>\n",
              "      <td>NaN</td>\n",
              "      <td>NaN</td>\n",
              "      <td>NaN</td>\n",
              "      <td>NaN</td>\n",
              "      <td>NaN</td>\n",
              "      <td>NaN</td>\n",
              "      <td>NaN</td>\n",
              "      <td>NaN</td>\n",
              "      <td>NaN</td>\n",
              "      <td>NaN</td>\n",
              "      <td>NaN</td>\n",
              "      <td>...</td>\n",
              "      <td>NaN</td>\n",
              "      <td>NaN</td>\n",
              "      <td>NaN</td>\n",
              "      <td>NaN</td>\n",
              "      <td>NaN</td>\n",
              "      <td>NaN</td>\n",
              "      <td>NaN</td>\n",
              "      <td>NaN</td>\n",
              "      <td>NaN</td>\n",
              "      <td>NaN</td>\n",
              "      <td>NaN</td>\n",
              "      <td>NaN</td>\n",
              "      <td>NaN</td>\n",
              "      <td>NaN</td>\n",
              "      <td>NaN</td>\n",
              "      <td>NaN</td>\n",
              "      <td>NaN</td>\n",
              "      <td>NaN</td>\n",
              "      <td>NaN</td>\n",
              "      <td>NaN</td>\n",
              "      <td>NaN</td>\n",
              "      <td>NaN</td>\n",
              "      <td>NaN</td>\n",
              "      <td>NaN</td>\n",
              "      <td>NaN</td>\n",
              "      <td>NaN</td>\n",
              "      <td>NaN</td>\n",
              "      <td>NaN</td>\n",
              "      <td>NaN</td>\n",
              "      <td>NaN</td>\n",
              "      <td>NaN</td>\n",
              "      <td>NaN</td>\n",
              "      <td>NaN</td>\n",
              "      <td>NaN</td>\n",
              "      <td>NaN</td>\n",
              "      <td>NaN</td>\n",
              "      <td>NaN</td>\n",
              "      <td>NaN</td>\n",
              "      <td>NaN</td>\n",
              "      <td>NaN</td>\n",
              "    </tr>\n",
              "    <tr>\n",
              "      <th>571</th>\n",
              "      <td>24/7/2021</td>\n",
              "      <td>67283</td>\n",
              "      <td>13745</td>\n",
              "      <td>NaN</td>\n",
              "      <td>NaN</td>\n",
              "      <td>NaN</td>\n",
              "      <td>NaN</td>\n",
              "      <td>NaN</td>\n",
              "      <td>NaN</td>\n",
              "      <td>NaN</td>\n",
              "      <td>NaN</td>\n",
              "      <td>NaN</td>\n",
              "      <td>NaN</td>\n",
              "      <td>NaN</td>\n",
              "      <td>NaN</td>\n",
              "      <td>NaN</td>\n",
              "      <td>NaN</td>\n",
              "      <td>NaN</td>\n",
              "      <td>NaN</td>\n",
              "      <td>NaN</td>\n",
              "      <td>NaN</td>\n",
              "      <td>NaN</td>\n",
              "      <td>NaN</td>\n",
              "      <td>NaN</td>\n",
              "      <td>NaN</td>\n",
              "      <td>NaN</td>\n",
              "      <td>NaN</td>\n",
              "      <td>NaN</td>\n",
              "      <td>NaN</td>\n",
              "      <td>NaN</td>\n",
              "      <td>NaN</td>\n",
              "      <td>NaN</td>\n",
              "      <td>NaN</td>\n",
              "      <td>NaN</td>\n",
              "      <td>NaN</td>\n",
              "      <td>NaN</td>\n",
              "      <td>NaN</td>\n",
              "      <td>NaN</td>\n",
              "      <td>NaN</td>\n",
              "      <td>NaN</td>\n",
              "      <td>...</td>\n",
              "      <td>NaN</td>\n",
              "      <td>NaN</td>\n",
              "      <td>NaN</td>\n",
              "      <td>NaN</td>\n",
              "      <td>NaN</td>\n",
              "      <td>NaN</td>\n",
              "      <td>NaN</td>\n",
              "      <td>NaN</td>\n",
              "      <td>NaN</td>\n",
              "      <td>NaN</td>\n",
              "      <td>NaN</td>\n",
              "      <td>NaN</td>\n",
              "      <td>NaN</td>\n",
              "      <td>NaN</td>\n",
              "      <td>NaN</td>\n",
              "      <td>NaN</td>\n",
              "      <td>NaN</td>\n",
              "      <td>NaN</td>\n",
              "      <td>NaN</td>\n",
              "      <td>NaN</td>\n",
              "      <td>NaN</td>\n",
              "      <td>NaN</td>\n",
              "      <td>NaN</td>\n",
              "      <td>NaN</td>\n",
              "      <td>NaN</td>\n",
              "      <td>NaN</td>\n",
              "      <td>NaN</td>\n",
              "      <td>NaN</td>\n",
              "      <td>NaN</td>\n",
              "      <td>NaN</td>\n",
              "      <td>NaN</td>\n",
              "      <td>NaN</td>\n",
              "      <td>NaN</td>\n",
              "      <td>NaN</td>\n",
              "      <td>NaN</td>\n",
              "      <td>NaN</td>\n",
              "      <td>NaN</td>\n",
              "      <td>NaN</td>\n",
              "      <td>NaN</td>\n",
              "      <td>NaN</td>\n",
              "    </tr>\n",
              "  </tbody>\n",
              "</table>\n",
              "<p>572 rows × 122 columns</p>\n",
              "</div>"
            ],
            "text/plain": [
              "                    Date  positive  ...  Unnamed: 120  Unnamed: 121\n",
              "0    Cannot specify date      2963  ...           NaN           NaN\n",
              "1               1/1/2020         0  ...            31           NaN\n",
              "2               2/1/2020         0  ...           Pos           Pos\n",
              "3               3/1/2020         0  ...           NaN           NaN\n",
              "4               4/1/2020         0  ...           NaN           NaN\n",
              "..                   ...       ...  ...           ...           ...\n",
              "567            20/7/2021     68403  ...           NaN           NaN\n",
              "568            21/7/2021     82325  ...           NaN           NaN\n",
              "569            22/7/2021     62846  ...           NaN           NaN\n",
              "570            23/7/2021     58851  ...           NaN           NaN\n",
              "571            24/7/2021     67283  ...           NaN           NaN\n",
              "\n",
              "[572 rows x 122 columns]"
            ]
          },
          "metadata": {
            "tags": []
          },
          "execution_count": 5
        }
      ]
    },
    {
      "cell_type": "markdown",
      "metadata": {
        "id": "C-APZ74_OhfZ"
      },
      "source": [
        "NaN คือ Not a Number"
      ]
    },
    {
      "cell_type": "code",
      "metadata": {
        "colab": {
          "base_uri": "https://localhost:8080/",
          "height": 423
        },
        "id": "pTDHl0SCM7LY",
        "outputId": "fae6c04c-c099-4ed4-ac4b-5c11ac007a5c"
      },
      "source": [
        "dataN = data.iloc[1:,:3]  #.iloc[แถว,หลัก]\n",
        "dataN"
      ],
      "execution_count": 6,
      "outputs": [
        {
          "output_type": "execute_result",
          "data": {
            "text/html": [
              "<div>\n",
              "<style scoped>\n",
              "    .dataframe tbody tr th:only-of-type {\n",
              "        vertical-align: middle;\n",
              "    }\n",
              "\n",
              "    .dataframe tbody tr th {\n",
              "        vertical-align: top;\n",
              "    }\n",
              "\n",
              "    .dataframe thead th {\n",
              "        text-align: right;\n",
              "    }\n",
              "</style>\n",
              "<table border=\"1\" class=\"dataframe\">\n",
              "  <thead>\n",
              "    <tr style=\"text-align: right;\">\n",
              "      <th></th>\n",
              "      <th>Date</th>\n",
              "      <th>positive</th>\n",
              "      <th>Total Testing</th>\n",
              "    </tr>\n",
              "  </thead>\n",
              "  <tbody>\n",
              "    <tr>\n",
              "      <th>1</th>\n",
              "      <td>1/1/2020</td>\n",
              "      <td>0</td>\n",
              "      <td>0</td>\n",
              "    </tr>\n",
              "    <tr>\n",
              "      <th>2</th>\n",
              "      <td>2/1/2020</td>\n",
              "      <td>0</td>\n",
              "      <td>0</td>\n",
              "    </tr>\n",
              "    <tr>\n",
              "      <th>3</th>\n",
              "      <td>3/1/2020</td>\n",
              "      <td>0</td>\n",
              "      <td>0</td>\n",
              "    </tr>\n",
              "    <tr>\n",
              "      <th>4</th>\n",
              "      <td>4/1/2020</td>\n",
              "      <td>0</td>\n",
              "      <td>2</td>\n",
              "    </tr>\n",
              "    <tr>\n",
              "      <th>5</th>\n",
              "      <td>5/1/2020</td>\n",
              "      <td>0</td>\n",
              "      <td>2</td>\n",
              "    </tr>\n",
              "    <tr>\n",
              "      <th>...</th>\n",
              "      <td>...</td>\n",
              "      <td>...</td>\n",
              "      <td>...</td>\n",
              "    </tr>\n",
              "    <tr>\n",
              "      <th>567</th>\n",
              "      <td>20/7/2021</td>\n",
              "      <td>68403</td>\n",
              "      <td>10152</td>\n",
              "    </tr>\n",
              "    <tr>\n",
              "      <th>568</th>\n",
              "      <td>21/7/2021</td>\n",
              "      <td>82325</td>\n",
              "      <td>12210</td>\n",
              "    </tr>\n",
              "    <tr>\n",
              "      <th>569</th>\n",
              "      <td>22/7/2021</td>\n",
              "      <td>62846</td>\n",
              "      <td>10623</td>\n",
              "    </tr>\n",
              "    <tr>\n",
              "      <th>570</th>\n",
              "      <td>23/7/2021</td>\n",
              "      <td>58851</td>\n",
              "      <td>10200</td>\n",
              "    </tr>\n",
              "    <tr>\n",
              "      <th>571</th>\n",
              "      <td>24/7/2021</td>\n",
              "      <td>67283</td>\n",
              "      <td>13745</td>\n",
              "    </tr>\n",
              "  </tbody>\n",
              "</table>\n",
              "<p>571 rows × 3 columns</p>\n",
              "</div>"
            ],
            "text/plain": [
              "          Date  positive  Total Testing\n",
              "1     1/1/2020         0              0\n",
              "2     2/1/2020         0              0\n",
              "3     3/1/2020         0              0\n",
              "4     4/1/2020         0              2\n",
              "5     5/1/2020         0              2\n",
              "..         ...       ...            ...\n",
              "567  20/7/2021     68403          10152\n",
              "568  21/7/2021     82325          12210\n",
              "569  22/7/2021     62846          10623\n",
              "570  23/7/2021     58851          10200\n",
              "571  24/7/2021     67283          13745\n",
              "\n",
              "[571 rows x 3 columns]"
            ]
          },
          "metadata": {
            "tags": []
          },
          "execution_count": 6
        }
      ]
    },
    {
      "cell_type": "markdown",
      "metadata": {
        "id": "RQwTfTx8RRUY"
      },
      "source": [
        "head() tail()"
      ]
    },
    {
      "cell_type": "code",
      "metadata": {
        "colab": {
          "base_uri": "https://localhost:8080/",
          "height": 206
        },
        "id": "HQk2kP79QxlD",
        "outputId": "c76d3aeb-699f-44de-e66a-a06b24f48eca"
      },
      "source": [
        "dataN.head()"
      ],
      "execution_count": 7,
      "outputs": [
        {
          "output_type": "execute_result",
          "data": {
            "text/html": [
              "<div>\n",
              "<style scoped>\n",
              "    .dataframe tbody tr th:only-of-type {\n",
              "        vertical-align: middle;\n",
              "    }\n",
              "\n",
              "    .dataframe tbody tr th {\n",
              "        vertical-align: top;\n",
              "    }\n",
              "\n",
              "    .dataframe thead th {\n",
              "        text-align: right;\n",
              "    }\n",
              "</style>\n",
              "<table border=\"1\" class=\"dataframe\">\n",
              "  <thead>\n",
              "    <tr style=\"text-align: right;\">\n",
              "      <th></th>\n",
              "      <th>Date</th>\n",
              "      <th>positive</th>\n",
              "      <th>Total Testing</th>\n",
              "    </tr>\n",
              "  </thead>\n",
              "  <tbody>\n",
              "    <tr>\n",
              "      <th>1</th>\n",
              "      <td>1/1/2020</td>\n",
              "      <td>0</td>\n",
              "      <td>0</td>\n",
              "    </tr>\n",
              "    <tr>\n",
              "      <th>2</th>\n",
              "      <td>2/1/2020</td>\n",
              "      <td>0</td>\n",
              "      <td>0</td>\n",
              "    </tr>\n",
              "    <tr>\n",
              "      <th>3</th>\n",
              "      <td>3/1/2020</td>\n",
              "      <td>0</td>\n",
              "      <td>0</td>\n",
              "    </tr>\n",
              "    <tr>\n",
              "      <th>4</th>\n",
              "      <td>4/1/2020</td>\n",
              "      <td>0</td>\n",
              "      <td>2</td>\n",
              "    </tr>\n",
              "    <tr>\n",
              "      <th>5</th>\n",
              "      <td>5/1/2020</td>\n",
              "      <td>0</td>\n",
              "      <td>2</td>\n",
              "    </tr>\n",
              "  </tbody>\n",
              "</table>\n",
              "</div>"
            ],
            "text/plain": [
              "       Date  positive  Total Testing\n",
              "1  1/1/2020         0              0\n",
              "2  2/1/2020         0              0\n",
              "3  3/1/2020         0              0\n",
              "4  4/1/2020         0              2\n",
              "5  5/1/2020         0              2"
            ]
          },
          "metadata": {
            "tags": []
          },
          "execution_count": 7
        }
      ]
    },
    {
      "cell_type": "code",
      "metadata": {
        "colab": {
          "base_uri": "https://localhost:8080/",
          "height": 206
        },
        "id": "k_yhIKHQRYnX",
        "outputId": "33f797d6-6b4e-471c-c902-c6364f455aca"
      },
      "source": [
        "dataN.tail()"
      ],
      "execution_count": 8,
      "outputs": [
        {
          "output_type": "execute_result",
          "data": {
            "text/html": [
              "<div>\n",
              "<style scoped>\n",
              "    .dataframe tbody tr th:only-of-type {\n",
              "        vertical-align: middle;\n",
              "    }\n",
              "\n",
              "    .dataframe tbody tr th {\n",
              "        vertical-align: top;\n",
              "    }\n",
              "\n",
              "    .dataframe thead th {\n",
              "        text-align: right;\n",
              "    }\n",
              "</style>\n",
              "<table border=\"1\" class=\"dataframe\">\n",
              "  <thead>\n",
              "    <tr style=\"text-align: right;\">\n",
              "      <th></th>\n",
              "      <th>Date</th>\n",
              "      <th>positive</th>\n",
              "      <th>Total Testing</th>\n",
              "    </tr>\n",
              "  </thead>\n",
              "  <tbody>\n",
              "    <tr>\n",
              "      <th>567</th>\n",
              "      <td>20/7/2021</td>\n",
              "      <td>68403</td>\n",
              "      <td>10152</td>\n",
              "    </tr>\n",
              "    <tr>\n",
              "      <th>568</th>\n",
              "      <td>21/7/2021</td>\n",
              "      <td>82325</td>\n",
              "      <td>12210</td>\n",
              "    </tr>\n",
              "    <tr>\n",
              "      <th>569</th>\n",
              "      <td>22/7/2021</td>\n",
              "      <td>62846</td>\n",
              "      <td>10623</td>\n",
              "    </tr>\n",
              "    <tr>\n",
              "      <th>570</th>\n",
              "      <td>23/7/2021</td>\n",
              "      <td>58851</td>\n",
              "      <td>10200</td>\n",
              "    </tr>\n",
              "    <tr>\n",
              "      <th>571</th>\n",
              "      <td>24/7/2021</td>\n",
              "      <td>67283</td>\n",
              "      <td>13745</td>\n",
              "    </tr>\n",
              "  </tbody>\n",
              "</table>\n",
              "</div>"
            ],
            "text/plain": [
              "          Date  positive  Total Testing\n",
              "567  20/7/2021     68403          10152\n",
              "568  21/7/2021     82325          12210\n",
              "569  22/7/2021     62846          10623\n",
              "570  23/7/2021     58851          10200\n",
              "571  24/7/2021     67283          13745"
            ]
          },
          "metadata": {
            "tags": []
          },
          "execution_count": 8
        }
      ]
    },
    {
      "cell_type": "code",
      "metadata": {
        "colab": {
          "base_uri": "https://localhost:8080/",
          "height": 676
        },
        "id": "SnTkywn1Rblo",
        "outputId": "22a9e39a-db01-48c4-a290-59ccd0de7cef"
      },
      "source": [
        "dataN.head(20)"
      ],
      "execution_count": 9,
      "outputs": [
        {
          "output_type": "execute_result",
          "data": {
            "text/html": [
              "<div>\n",
              "<style scoped>\n",
              "    .dataframe tbody tr th:only-of-type {\n",
              "        vertical-align: middle;\n",
              "    }\n",
              "\n",
              "    .dataframe tbody tr th {\n",
              "        vertical-align: top;\n",
              "    }\n",
              "\n",
              "    .dataframe thead th {\n",
              "        text-align: right;\n",
              "    }\n",
              "</style>\n",
              "<table border=\"1\" class=\"dataframe\">\n",
              "  <thead>\n",
              "    <tr style=\"text-align: right;\">\n",
              "      <th></th>\n",
              "      <th>Date</th>\n",
              "      <th>positive</th>\n",
              "      <th>Total Testing</th>\n",
              "    </tr>\n",
              "  </thead>\n",
              "  <tbody>\n",
              "    <tr>\n",
              "      <th>1</th>\n",
              "      <td>1/1/2020</td>\n",
              "      <td>0</td>\n",
              "      <td>0</td>\n",
              "    </tr>\n",
              "    <tr>\n",
              "      <th>2</th>\n",
              "      <td>2/1/2020</td>\n",
              "      <td>0</td>\n",
              "      <td>0</td>\n",
              "    </tr>\n",
              "    <tr>\n",
              "      <th>3</th>\n",
              "      <td>3/1/2020</td>\n",
              "      <td>0</td>\n",
              "      <td>0</td>\n",
              "    </tr>\n",
              "    <tr>\n",
              "      <th>4</th>\n",
              "      <td>4/1/2020</td>\n",
              "      <td>0</td>\n",
              "      <td>2</td>\n",
              "    </tr>\n",
              "    <tr>\n",
              "      <th>5</th>\n",
              "      <td>5/1/2020</td>\n",
              "      <td>0</td>\n",
              "      <td>2</td>\n",
              "    </tr>\n",
              "    <tr>\n",
              "      <th>6</th>\n",
              "      <td>6/1/2020</td>\n",
              "      <td>0</td>\n",
              "      <td>5</td>\n",
              "    </tr>\n",
              "    <tr>\n",
              "      <th>7</th>\n",
              "      <td>7/1/2020</td>\n",
              "      <td>0</td>\n",
              "      <td>0</td>\n",
              "    </tr>\n",
              "    <tr>\n",
              "      <th>8</th>\n",
              "      <td>8/1/2020</td>\n",
              "      <td>1</td>\n",
              "      <td>1</td>\n",
              "    </tr>\n",
              "    <tr>\n",
              "      <th>9</th>\n",
              "      <td>9/1/2020</td>\n",
              "      <td>4</td>\n",
              "      <td>13</td>\n",
              "    </tr>\n",
              "    <tr>\n",
              "      <th>10</th>\n",
              "      <td>10/1/2020</td>\n",
              "      <td>0</td>\n",
              "      <td>18</td>\n",
              "    </tr>\n",
              "    <tr>\n",
              "      <th>11</th>\n",
              "      <td>11/1/2020</td>\n",
              "      <td>0</td>\n",
              "      <td>3</td>\n",
              "    </tr>\n",
              "    <tr>\n",
              "      <th>12</th>\n",
              "      <td>12/1/2020</td>\n",
              "      <td>2</td>\n",
              "      <td>6</td>\n",
              "    </tr>\n",
              "    <tr>\n",
              "      <th>13</th>\n",
              "      <td>13/1/2020</td>\n",
              "      <td>2</td>\n",
              "      <td>14</td>\n",
              "    </tr>\n",
              "    <tr>\n",
              "      <th>14</th>\n",
              "      <td>14/1/2020</td>\n",
              "      <td>6</td>\n",
              "      <td>7</td>\n",
              "    </tr>\n",
              "    <tr>\n",
              "      <th>15</th>\n",
              "      <td>15/1/2020</td>\n",
              "      <td>5</td>\n",
              "      <td>12</td>\n",
              "    </tr>\n",
              "    <tr>\n",
              "      <th>16</th>\n",
              "      <td>16/1/2020</td>\n",
              "      <td>1</td>\n",
              "      <td>9</td>\n",
              "    </tr>\n",
              "    <tr>\n",
              "      <th>17</th>\n",
              "      <td>17/1/2020</td>\n",
              "      <td>0</td>\n",
              "      <td>5</td>\n",
              "    </tr>\n",
              "    <tr>\n",
              "      <th>18</th>\n",
              "      <td>18/1/2020</td>\n",
              "      <td>1</td>\n",
              "      <td>23</td>\n",
              "    </tr>\n",
              "    <tr>\n",
              "      <th>19</th>\n",
              "      <td>19/1/2020</td>\n",
              "      <td>1</td>\n",
              "      <td>6</td>\n",
              "    </tr>\n",
              "    <tr>\n",
              "      <th>20</th>\n",
              "      <td>20/1/2020</td>\n",
              "      <td>3</td>\n",
              "      <td>48</td>\n",
              "    </tr>\n",
              "  </tbody>\n",
              "</table>\n",
              "</div>"
            ],
            "text/plain": [
              "         Date  positive  Total Testing\n",
              "1    1/1/2020         0              0\n",
              "2    2/1/2020         0              0\n",
              "3    3/1/2020         0              0\n",
              "4    4/1/2020         0              2\n",
              "5    5/1/2020         0              2\n",
              "6    6/1/2020         0              5\n",
              "7    7/1/2020         0              0\n",
              "8    8/1/2020         1              1\n",
              "9    9/1/2020         4             13\n",
              "10  10/1/2020         0             18\n",
              "11  11/1/2020         0              3\n",
              "12  12/1/2020         2              6\n",
              "13  13/1/2020         2             14\n",
              "14  14/1/2020         6              7\n",
              "15  15/1/2020         5             12\n",
              "16  16/1/2020         1              9\n",
              "17  17/1/2020         0              5\n",
              "18  18/1/2020         1             23\n",
              "19  19/1/2020         1              6\n",
              "20  20/1/2020         3             48"
            ]
          },
          "metadata": {
            "tags": []
          },
          "execution_count": 9
        }
      ]
    },
    {
      "cell_type": "code",
      "metadata": {
        "colab": {
          "base_uri": "https://localhost:8080/",
          "height": 676
        },
        "id": "syGlgBimRpx2",
        "outputId": "ded6c54b-61c9-4bd5-84eb-a21905da844a"
      },
      "source": [
        "dataN.tail(20)"
      ],
      "execution_count": 10,
      "outputs": [
        {
          "output_type": "execute_result",
          "data": {
            "text/html": [
              "<div>\n",
              "<style scoped>\n",
              "    .dataframe tbody tr th:only-of-type {\n",
              "        vertical-align: middle;\n",
              "    }\n",
              "\n",
              "    .dataframe tbody tr th {\n",
              "        vertical-align: top;\n",
              "    }\n",
              "\n",
              "    .dataframe thead th {\n",
              "        text-align: right;\n",
              "    }\n",
              "</style>\n",
              "<table border=\"1\" class=\"dataframe\">\n",
              "  <thead>\n",
              "    <tr style=\"text-align: right;\">\n",
              "      <th></th>\n",
              "      <th>Date</th>\n",
              "      <th>positive</th>\n",
              "      <th>Total Testing</th>\n",
              "    </tr>\n",
              "  </thead>\n",
              "  <tbody>\n",
              "    <tr>\n",
              "      <th>552</th>\n",
              "      <td>5/7/2021</td>\n",
              "      <td>4770</td>\n",
              "      <td>52017</td>\n",
              "    </tr>\n",
              "    <tr>\n",
              "      <th>553</th>\n",
              "      <td>6/7/2021</td>\n",
              "      <td>6066</td>\n",
              "      <td>70051</td>\n",
              "    </tr>\n",
              "    <tr>\n",
              "      <th>554</th>\n",
              "      <td>7/7/2021</td>\n",
              "      <td>6224</td>\n",
              "      <td>62695</td>\n",
              "    </tr>\n",
              "    <tr>\n",
              "      <th>555</th>\n",
              "      <td>8/7/2021</td>\n",
              "      <td>6624</td>\n",
              "      <td>66596</td>\n",
              "    </tr>\n",
              "    <tr>\n",
              "      <th>556</th>\n",
              "      <td>9/7/2021</td>\n",
              "      <td>6890</td>\n",
              "      <td>66267</td>\n",
              "    </tr>\n",
              "    <tr>\n",
              "      <th>557</th>\n",
              "      <td>10/7/2021</td>\n",
              "      <td>9045</td>\n",
              "      <td>74906</td>\n",
              "    </tr>\n",
              "    <tr>\n",
              "      <th>558</th>\n",
              "      <td>11/7/2021</td>\n",
              "      <td>8564</td>\n",
              "      <td>77848</td>\n",
              "    </tr>\n",
              "    <tr>\n",
              "      <th>559</th>\n",
              "      <td>12/7/2021</td>\n",
              "      <td>6391</td>\n",
              "      <td>56775</td>\n",
              "    </tr>\n",
              "    <tr>\n",
              "      <th>560</th>\n",
              "      <td>13/7/2021</td>\n",
              "      <td>7549</td>\n",
              "      <td>70798</td>\n",
              "    </tr>\n",
              "    <tr>\n",
              "      <th>561</th>\n",
              "      <td>14/7/2021</td>\n",
              "      <td>7877</td>\n",
              "      <td>65836</td>\n",
              "    </tr>\n",
              "    <tr>\n",
              "      <th>562</th>\n",
              "      <td>15/7/2021</td>\n",
              "      <td>8648</td>\n",
              "      <td>70403</td>\n",
              "    </tr>\n",
              "    <tr>\n",
              "      <th>563</th>\n",
              "      <td>16/7/2021</td>\n",
              "      <td>9627</td>\n",
              "      <td>73260</td>\n",
              "    </tr>\n",
              "    <tr>\n",
              "      <th>564</th>\n",
              "      <td>17/7/2021</td>\n",
              "      <td>9221</td>\n",
              "      <td>68384</td>\n",
              "    </tr>\n",
              "    <tr>\n",
              "      <th>565</th>\n",
              "      <td>18/7/2021</td>\n",
              "      <td>68326</td>\n",
              "      <td>12192</td>\n",
              "    </tr>\n",
              "    <tr>\n",
              "      <th>566</th>\n",
              "      <td>19/7/2021</td>\n",
              "      <td>64522</td>\n",
              "      <td>9466</td>\n",
              "    </tr>\n",
              "    <tr>\n",
              "      <th>567</th>\n",
              "      <td>20/7/2021</td>\n",
              "      <td>68403</td>\n",
              "      <td>10152</td>\n",
              "    </tr>\n",
              "    <tr>\n",
              "      <th>568</th>\n",
              "      <td>21/7/2021</td>\n",
              "      <td>82325</td>\n",
              "      <td>12210</td>\n",
              "    </tr>\n",
              "    <tr>\n",
              "      <th>569</th>\n",
              "      <td>22/7/2021</td>\n",
              "      <td>62846</td>\n",
              "      <td>10623</td>\n",
              "    </tr>\n",
              "    <tr>\n",
              "      <th>570</th>\n",
              "      <td>23/7/2021</td>\n",
              "      <td>58851</td>\n",
              "      <td>10200</td>\n",
              "    </tr>\n",
              "    <tr>\n",
              "      <th>571</th>\n",
              "      <td>24/7/2021</td>\n",
              "      <td>67283</td>\n",
              "      <td>13745</td>\n",
              "    </tr>\n",
              "  </tbody>\n",
              "</table>\n",
              "</div>"
            ],
            "text/plain": [
              "          Date  positive  Total Testing\n",
              "552   5/7/2021      4770          52017\n",
              "553   6/7/2021      6066          70051\n",
              "554   7/7/2021      6224          62695\n",
              "555   8/7/2021      6624          66596\n",
              "556   9/7/2021      6890          66267\n",
              "557  10/7/2021      9045          74906\n",
              "558  11/7/2021      8564          77848\n",
              "559  12/7/2021      6391          56775\n",
              "560  13/7/2021      7549          70798\n",
              "561  14/7/2021      7877          65836\n",
              "562  15/7/2021      8648          70403\n",
              "563  16/7/2021      9627          73260\n",
              "564  17/7/2021      9221          68384\n",
              "565  18/7/2021     68326          12192\n",
              "566  19/7/2021     64522           9466\n",
              "567  20/7/2021     68403          10152\n",
              "568  21/7/2021     82325          12210\n",
              "569  22/7/2021     62846          10623\n",
              "570  23/7/2021     58851          10200\n",
              "571  24/7/2021     67283          13745"
            ]
          },
          "metadata": {
            "tags": []
          },
          "execution_count": 10
        }
      ]
    },
    {
      "cell_type": "markdown",
      "metadata": {
        "id": "9_vpk_Oay2Bl"
      },
      "source": [
        "#### 2 Statical Description"
      ]
    },
    {
      "cell_type": "code",
      "metadata": {
        "id": "oFFQtfobRuWL",
        "colab": {
          "base_uri": "https://localhost:8080/",
          "height": 300
        },
        "outputId": "2ed274a8-fad1-486c-a037-08283291966a"
      },
      "source": [
        "dataN.describe()"
      ],
      "execution_count": 11,
      "outputs": [
        {
          "output_type": "execute_result",
          "data": {
            "text/html": [
              "<div>\n",
              "<style scoped>\n",
              "    .dataframe tbody tr th:only-of-type {\n",
              "        vertical-align: middle;\n",
              "    }\n",
              "\n",
              "    .dataframe tbody tr th {\n",
              "        vertical-align: top;\n",
              "    }\n",
              "\n",
              "    .dataframe thead th {\n",
              "        text-align: right;\n",
              "    }\n",
              "</style>\n",
              "<table border=\"1\" class=\"dataframe\">\n",
              "  <thead>\n",
              "    <tr style=\"text-align: right;\">\n",
              "      <th></th>\n",
              "      <th>positive</th>\n",
              "      <th>Total Testing</th>\n",
              "    </tr>\n",
              "  </thead>\n",
              "  <tbody>\n",
              "    <tr>\n",
              "      <th>count</th>\n",
              "      <td>571.000000</td>\n",
              "      <td>571.000000</td>\n",
              "    </tr>\n",
              "    <tr>\n",
              "      <th>mean</th>\n",
              "      <td>1518.982487</td>\n",
              "      <td>17090.155867</td>\n",
              "    </tr>\n",
              "    <tr>\n",
              "      <th>std</th>\n",
              "      <td>7568.603871</td>\n",
              "      <td>22213.129143</td>\n",
              "    </tr>\n",
              "    <tr>\n",
              "      <th>min</th>\n",
              "      <td>0.000000</td>\n",
              "      <td>0.000000</td>\n",
              "    </tr>\n",
              "    <tr>\n",
              "      <th>25%</th>\n",
              "      <td>6.000000</td>\n",
              "      <td>3594.000000</td>\n",
              "    </tr>\n",
              "    <tr>\n",
              "      <th>50%</th>\n",
              "      <td>29.000000</td>\n",
              "      <td>5778.000000</td>\n",
              "    </tr>\n",
              "    <tr>\n",
              "      <th>75%</th>\n",
              "      <td>231.500000</td>\n",
              "      <td>19506.000000</td>\n",
              "    </tr>\n",
              "    <tr>\n",
              "      <th>max</th>\n",
              "      <td>82325.000000</td>\n",
              "      <td>82290.000000</td>\n",
              "    </tr>\n",
              "  </tbody>\n",
              "</table>\n",
              "</div>"
            ],
            "text/plain": [
              "           positive  Total Testing\n",
              "count    571.000000     571.000000\n",
              "mean    1518.982487   17090.155867\n",
              "std     7568.603871   22213.129143\n",
              "min        0.000000       0.000000\n",
              "25%        6.000000    3594.000000\n",
              "50%       29.000000    5778.000000\n",
              "75%      231.500000   19506.000000\n",
              "max    82325.000000   82290.000000"
            ]
          },
          "metadata": {
            "tags": []
          },
          "execution_count": 11
        }
      ]
    },
    {
      "cell_type": "markdown",
      "metadata": {
        "id": "CeesWZYG2PZa"
      },
      "source": [
        "#### 3 Boxplot\n",
        "\n",
        "![1*2c21SkzJMf3frPXPAR_gZA.png](data:image/png;base64,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)"
      ]
    },
    {
      "cell_type": "code",
      "metadata": {
        "id": "OJT-vlqbzK8G"
      },
      "source": [
        "from matplotlib import pyplot as plt #ใช้วาดกราฟ"
      ],
      "execution_count": 12,
      "outputs": []
    },
    {
      "cell_type": "code",
      "metadata": {
        "id": "MskzISz17s7M",
        "colab": {
          "base_uri": "https://localhost:8080/"
        },
        "outputId": "49efa83a-70b0-4aad-82d1-44c20de1fe60"
      },
      "source": [
        "data.iloc[1:,1]"
      ],
      "execution_count": 13,
      "outputs": [
        {
          "output_type": "execute_result",
          "data": {
            "text/plain": [
              "1          0\n",
              "2          0\n",
              "3          0\n",
              "4          0\n",
              "5          0\n",
              "       ...  \n",
              "567    68403\n",
              "568    82325\n",
              "569    62846\n",
              "570    58851\n",
              "571    67283\n",
              "Name: positive, Length: 571, dtype: int64"
            ]
          },
          "metadata": {
            "tags": []
          },
          "execution_count": 13
        }
      ]
    },
    {
      "cell_type": "code",
      "metadata": {
        "id": "ksiZZOlZ88Aa",
        "colab": {
          "base_uri": "https://localhost:8080/"
        },
        "outputId": "b1c7b046-6035-4ff4-aa42-5fd4647d562e"
      },
      "source": [
        "dataN['positive']"
      ],
      "execution_count": 14,
      "outputs": [
        {
          "output_type": "execute_result",
          "data": {
            "text/plain": [
              "1          0\n",
              "2          0\n",
              "3          0\n",
              "4          0\n",
              "5          0\n",
              "       ...  \n",
              "567    68403\n",
              "568    82325\n",
              "569    62846\n",
              "570    58851\n",
              "571    67283\n",
              "Name: positive, Length: 571, dtype: int64"
            ]
          },
          "metadata": {
            "tags": []
          },
          "execution_count": 14
        }
      ]
    },
    {
      "cell_type": "code",
      "metadata": {
        "id": "An5c2b7J50SS",
        "colab": {
          "base_uri": "https://localhost:8080/",
          "height": 0
        },
        "outputId": "7cbc8b27-365f-4114-ddf9-b76c6d8876ac"
      },
      "source": [
        "plt.boxplot(data.iloc[1:,1])"
      ],
      "execution_count": 15,
      "outputs": [
        {
          "output_type": "execute_result",
          "data": {
            "text/plain": [
              "{'boxes': [<matplotlib.lines.Line2D at 0x7fe9852b4050>],\n",
              " 'caps': [<matplotlib.lines.Line2D at 0x7fe98523e110>,\n",
              "  <matplotlib.lines.Line2D at 0x7fe98523e650>],\n",
              " 'fliers': [<matplotlib.lines.Line2D at 0x7fe9852a55d0>],\n",
              " 'means': [],\n",
              " 'medians': [<matplotlib.lines.Line2D at 0x7fe98523ebd0>],\n",
              " 'whiskers': [<matplotlib.lines.Line2D at 0x7fe9852b4650>,\n",
              "  <matplotlib.lines.Line2D at 0x7fe9852b4b90>]}"
            ]
          },
          "metadata": {
            "tags": []
          },
          "execution_count": 15
        },
        {
          "output_type": "display_data",
          "data": {
            "image/png": "[encoded data removed]",
            "text/plain": [
              "<Figure size 432x288 with 1 Axes>"
            ]
          },
          "metadata": {
            "tags": [],
            "needs_background": "light"
          }
        }
      ]
    },
    {
      "cell_type": "code",
      "metadata": {
        "id": "_LBU16KW9Ild",
        "colab": {
          "base_uri": "https://localhost:8080/",
          "height": 0
        },
        "outputId": "c249e190-1f5f-4f8b-8a3a-2880808baad7"
      },
      "source": [
        "plt.boxplot(data.iloc[1:,2])"
      ],
      "execution_count": 16,
      "outputs": [
        {
          "output_type": "execute_result",
          "data": {
            "text/plain": [
              "{'boxes': [<matplotlib.lines.Line2D at 0x7fe984d7d250>],\n",
              " 'caps': [<matplotlib.lines.Line2D at 0x7fe984d84410>,\n",
              "  <matplotlib.lines.Line2D at 0x7fe984d84950>],\n",
              " 'fliers': [<matplotlib.lines.Line2D at 0x7fe984d8f410>],\n",
              " 'means': [],\n",
              " 'medians': [<matplotlib.lines.Line2D at 0x7fe984d84e50>],\n",
              " 'whiskers': [<matplotlib.lines.Line2D at 0x7fe984d7d810>,\n",
              "  <matplotlib.lines.Line2D at 0x7fe984d7ddd0>]}"
            ]
          },
          "metadata": {
            "tags": []
          },
          "execution_count": 16
        },
        {
          "output_type": "display_data",
          "data": {
            "image/png": "[encoded data removed]",
            "text/plain": [
              "<Figure size 432x288 with 1 Axes>"
            ]
          },
          "metadata": {
            "tags": [],
            "needs_background": "light"
          }
        }
      ]
    },
    {
      "cell_type": "code",
      "metadata": {
        "id": "j_6csNkc9QAK",
        "colab": {
          "base_uri": "https://localhost:8080/",
          "height": 0
        },
        "outputId": "2ba618ca-c109-4492-d133-554836cd336f"
      },
      "source": [
        "plt.boxplot(data.iloc[-54:,1]) # ดูตั้งแต่ 1 มิย "
      ],
      "execution_count": 17,
      "outputs": [
        {
          "output_type": "execute_result",
          "data": {
            "text/plain": [
              "{'boxes': [<matplotlib.lines.Line2D at 0x7fe984cf1690>],\n",
              " 'caps': [<matplotlib.lines.Line2D at 0x7fe984cf66d0>,\n",
              "  <matplotlib.lines.Line2D at 0x7fe984cf6c10>],\n",
              " 'fliers': [<matplotlib.lines.Line2D at 0x7fe984cfd710>],\n",
              " 'means': [],\n",
              " 'medians': [<matplotlib.lines.Line2D at 0x7fe984cfd1d0>],\n",
              " 'whiskers': [<matplotlib.lines.Line2D at 0x7fe984cf1c10>,\n",
              "  <matplotlib.lines.Line2D at 0x7fe984cf6190>]}"
            ]
          },
          "metadata": {
            "tags": []
          },
          "execution_count": 17
        },
        {
          "output_type": "display_data",
          "data": {
            "image/png": "[encoded data removed]",
            "text/plain": [
              "<Figure size 432x288 with 1 Axes>"
            ]
          },
          "metadata": {
            "tags": [],
            "needs_background": "light"
          }
        }
      ]
    },
    {
      "cell_type": "code",
      "metadata": {
        "id": "shCDIY-y9-43",
        "colab": {
          "base_uri": "https://localhost:8080/",
          "height": 0
        },
        "outputId": "c7c5a069-dda0-49e9-d043-12f099026ed7"
      },
      "source": [
        "plt.boxplot(data.iloc[-54:,2]) # ดูตั้งแต่ 1 มิย "
      ],
      "execution_count": 18,
      "outputs": [
        {
          "output_type": "execute_result",
          "data": {
            "text/plain": [
              "{'boxes': [<matplotlib.lines.Line2D at 0x7fe984ce5c10>],\n",
              " 'caps': [<matplotlib.lines.Line2D at 0x7fe984c6cc50>,\n",
              "  <matplotlib.lines.Line2D at 0x7fe984c741d0>],\n",
              " 'fliers': [<matplotlib.lines.Line2D at 0x7fe984c74c90>],\n",
              " 'means': [],\n",
              " 'medians': [<matplotlib.lines.Line2D at 0x7fe984c74750>],\n",
              " 'whiskers': [<matplotlib.lines.Line2D at 0x7fe984c6c1d0>,\n",
              "  <matplotlib.lines.Line2D at 0x7fe984c6c710>]}"
            ]
          },
          "metadata": {
            "tags": []
          },
          "execution_count": 18
        },
        {
          "output_type": "display_data",
          "data": {
            "image/png": "[encoded data removed]",
            "text/plain": [
              "<Figure size 432x288 with 1 Axes>"
            ]
          },
          "metadata": {
            "tags": [],
            "needs_background": "light"
          }
        }
      ]
    },
    {
      "cell_type": "markdown",
      "metadata": {
        "id": "_gCOZ7Cl-4on"
      },
      "source": [
        "#### 4 Plot all datapoints (depend on data type)"
      ]
    },
    {
      "cell_type": "markdown",
      "metadata": {
        "id": "6hxzh5F-_QVa"
      },
      "source": [
        "### time series"
      ]
    },
    {
      "cell_type": "code",
      "metadata": {
        "id": "3iovut_g-aFh",
        "colab": {
          "base_uri": "https://localhost:8080/",
          "height": 283
        },
        "outputId": "b74ce680-5643-4165-ab08-1ba9c98a57d2"
      },
      "source": [
        "plt.plot(data.iloc[1:,1])"
      ],
      "execution_count": 19,
      "outputs": [
        {
          "output_type": "execute_result",
          "data": {
            "text/plain": [
              "[<matplotlib.lines.Line2D at 0x7fe984c52cd0>]"
            ]
          },
          "metadata": {
            "tags": []
          },
          "execution_count": 19
        },
        {
          "output_type": "display_data",
          "data": {
            "image/png": "[encoded data removed]",
            "text/plain": [
              "<Figure size 432x288 with 1 Axes>"
            ]
          },
          "metadata": {
            "tags": [],
            "needs_background": "light"
          }
        }
      ]
    },
    {
      "cell_type": "code",
      "metadata": {
        "id": "g5pmZx1CAGz4",
        "colab": {
          "base_uri": "https://localhost:8080/",
          "height": 283
        },
        "outputId": "3656c399-10f9-4df9-d186-c18ef286a6a2"
      },
      "source": [
        "plt.plot(data.iloc[1:,2])"
      ],
      "execution_count": 20,
      "outputs": [
        {
          "output_type": "execute_result",
          "data": {
            "text/plain": [
              "[<matplotlib.lines.Line2D at 0x7fe984bb8d50>]"
            ]
          },
          "metadata": {
            "tags": []
          },
          "execution_count": 20
        },
        {
          "output_type": "display_data",
          "data": {
            "image/png": "[encoded data removed]",
            "text/plain": [
              "<Figure size 432x288 with 1 Axes>"
            ]
          },
          "metadata": {
            "tags": [],
            "needs_background": "light"
          }
        }
      ]
    },
    {
      "cell_type": "markdown",
      "metadata": {
        "id": "DsLL9NMsBAnh"
      },
      "source": [
        "Quiz 6 Plot Time Series ของ Positive และ total testing โดยตัด outlier"
      ]
    },
    {
      "cell_type": "code",
      "metadata": {
        "id": "Gubyb-aOAaTO",
        "colab": {
          "base_uri": "https://localhost:8080/",
          "height": 283
        },
        "outputId": "55e5736b-8119-4dc1-9596-9558aa5211ed"
      },
      "source": [
        "plt.plot(data.iloc[1:-7,1])"
      ],
      "execution_count": 21,
      "outputs": [
        {
          "output_type": "execute_result",
          "data": {
            "text/plain": [
              "[<matplotlib.lines.Line2D at 0x7fe984ba1e50>]"
            ]
          },
          "metadata": {
            "tags": []
          },
          "execution_count": 21
        },
        {
          "output_type": "display_data",
          "data": {
            "image/png": "[encoded data removed]",
            "text/plain": [
              "<Figure size 432x288 with 1 Axes>"
            ]
          },
          "metadata": {
            "tags": [],
            "needs_background": "light"
          }
        }
      ]
    },
    {
      "cell_type": "code",
      "metadata": {
        "id": "bCJ344yvC3Ru",
        "colab": {
          "base_uri": "https://localhost:8080/",
          "height": 283
        },
        "outputId": "7b8a6f1d-5428-4a5f-a1e8-33826d9801b2"
      },
      "source": [
        "plt.plot(data.iloc[1:-7,2])"
      ],
      "execution_count": 22,
      "outputs": [
        {
          "output_type": "execute_result",
          "data": {
            "text/plain": [
              "[<matplotlib.lines.Line2D at 0x7fe984b15890>]"
            ]
          },
          "metadata": {
            "tags": []
          },
          "execution_count": 22
        },
        {
          "output_type": "display_data",
          "data": {
            "image/png": "[encoded data removed]",
            "text/plain": [
              "<Figure size 432x288 with 1 Axes>"
            ]
          },
          "metadata": {
            "tags": [],
            "needs_background": "light"
          }
        }
      ]
    },
    {
      "cell_type": "code",
      "metadata": {
        "id": "rRympRzkDpXp",
        "colab": {
          "base_uri": "https://localhost:8080/",
          "height": 283
        },
        "outputId": "d7e358d7-7c76-4c48-961d-7c6840663be0"
      },
      "source": [
        "plt.plot(data.iloc[1:-7,1])\n",
        "plt.plot(data.iloc[1:-7,2])"
      ],
      "execution_count": 23,
      "outputs": [
        {
          "output_type": "execute_result",
          "data": {
            "text/plain": [
              "[<matplotlib.lines.Line2D at 0x7fe984a85390>]"
            ]
          },
          "metadata": {
            "tags": []
          },
          "execution_count": 23
        },
        {
          "output_type": "display_data",
          "data": {
            "image/png": "[encoded data removed]",
            "text/plain": [
              "<Figure size 432x288 with 1 Axes>"
            ]
          },
          "metadata": {
            "tags": [],
            "needs_background": "light"
          }
        }
      ]
    },
    {
      "cell_type": "code",
      "metadata": {
        "id": "p15mTcu6EYd3",
        "colab": {
          "base_uri": "https://localhost:8080/",
          "height": 283
        },
        "outputId": "22456cdd-645a-473e-e254-9990ea921a73"
      },
      "source": [
        "plt.plot(data.iloc[1:,1])\n",
        "plt.plot(data.iloc[1:,2])"
      ],
      "execution_count": 24,
      "outputs": [
        {
          "output_type": "execute_result",
          "data": {
            "text/plain": [
              "[<matplotlib.lines.Line2D at 0x7fe9849edad0>]"
            ]
          },
          "metadata": {
            "tags": []
          },
          "execution_count": 24
        },
        {
          "output_type": "display_data",
          "data": {
            "image/png": "[encoded data removed]",
            "text/plain": [
              "<Figure size 432x288 with 1 Axes>"
            ]
          },
          "metadata": {
            "tags": [],
            "needs_background": "light"
          }
        }
      ]
    },
    {
      "cell_type": "code",
      "metadata": {
        "id": "ebqgSa0qEkXc",
        "colab": {
          "base_uri": "https://localhost:8080/",
          "height": 283
        },
        "outputId": "d1deff2e-cd45-4bc5-8cb5-b82f0673787f"
      },
      "source": [
        "plt.plot(data.iloc[500:,1])\n",
        "plt.plot(data.iloc[500:,2])"
      ],
      "execution_count": 25,
      "outputs": [
        {
          "output_type": "execute_result",
          "data": {
            "text/plain": [
              "[<matplotlib.lines.Line2D at 0x7fe9849de350>]"
            ]
          },
          "metadata": {
            "tags": []
          },
          "execution_count": 25
        },
        {
          "output_type": "display_data",
          "data": {
            "image/png": "[encoded data removed]",
            "text/plain": [
              "<Figure size 432x288 with 1 Axes>"
            ]
          },
          "metadata": {
            "tags": [],
            "needs_background": "light"
          }
        }
      ]
    },
    {
      "cell_type": "code",
      "metadata": {
        "id": "H9hVq3KUEqKW",
        "colab": {
          "base_uri": "https://localhost:8080/",
          "height": 283
        },
        "outputId": "ebd57d86-43ad-463b-ac86-5672027cc6dc"
      },
      "source": [
        "plt.plot(data.iloc[510:520,1])\n",
        "plt.plot(data.iloc[510:520,2])"
      ],
      "execution_count": 26,
      "outputs": [
        {
          "output_type": "execute_result",
          "data": {
            "text/plain": [
              "[<matplotlib.lines.Line2D at 0x7fe9849608d0>]"
            ]
          },
          "metadata": {
            "tags": []
          },
          "execution_count": 26
        },
        {
          "output_type": "display_data",
          "data": {
            "image/png": "[encoded data removed]",
            "text/plain": [
              "<Figure size 432x288 with 1 Axes>"
            ]
          },
          "metadata": {
            "tags": [],
            "needs_background": "light"
          }
        }
      ]
    },
    {
      "cell_type": "code",
      "metadata": {
        "id": "J0JGHIszE-3P",
        "colab": {
          "base_uri": "https://localhost:8080/"
        },
        "outputId": "15ebdb30-9ba4-4869-e7b4-144e5711d2d7"
      },
      "source": [
        "data.iloc[513,:3]"
      ],
      "execution_count": 27,
      "outputs": [
        {
          "output_type": "execute_result",
          "data": {
            "text/plain": [
              "Date             27/5/2021\n",
              "positive             10438\n",
              "Total Testing        73756\n",
              "Name: 513, dtype: object"
            ]
          },
          "metadata": {
            "tags": []
          },
          "execution_count": 27
        }
      ]
    },
    {
      "cell_type": "code",
      "metadata": {
        "id": "b0Fm-Q1XFHm6",
        "colab": {
          "base_uri": "https://localhost:8080/",
          "height": 283
        },
        "outputId": "68322c1a-bd32-474d-8d92-7c8e9637db7d"
      },
      "source": [
        "plt.plot(data.iloc[500:-7,1])"
      ],
      "execution_count": 28,
      "outputs": [
        {
          "output_type": "execute_result",
          "data": {
            "text/plain": [
              "[<matplotlib.lines.Line2D at 0x7fe984c9b2d0>]"
            ]
          },
          "metadata": {
            "tags": []
          },
          "execution_count": 28
        },
        {
          "output_type": "display_data",
          "data": {
            "image/png": "[encoded data removed]",
            "text/plain": [
              "<Figure size 432x288 with 1 Axes>"
            ]
          },
          "metadata": {
            "tags": [],
            "needs_background": "light"
          }
        }
      ]
    },
    {
      "cell_type": "markdown",
      "metadata": {
        "id": "bmi31QGgGtz2"
      },
      "source": [
        "### Data Covid case by case (HW)"
      ]
    },
    {
      "cell_type": "code",
      "metadata": {
        "id": "1XuzLMPIGG93",
        "colab": {
          "base_uri": "https://localhost:8080/",
          "height": 527
        },
        "outputId": "9f841c59-9f48-44aa-cbb5-16a986ed876d"
      },
      "source": [
        "data_covid_cases = pd.read_csv(os.path.join(path,'confirmed-cases.csv'))\n",
        "data_covid_cases"
      ],
      "execution_count": 29,
      "outputs": [
        {
          "output_type": "execute_result",
          "data": {
            "text/html": [
              "<div>\n",
              "<style scoped>\n",
              "    .dataframe tbody tr th:only-of-type {\n",
              "        vertical-align: middle;\n",
              "    }\n",
              "\n",
              "    .dataframe tbody tr th {\n",
              "        vertical-align: top;\n",
              "    }\n",
              "\n",
              "    .dataframe thead th {\n",
              "        text-align: right;\n",
              "    }\n",
              "</style>\n",
              "<table border=\"1\" class=\"dataframe\">\n",
              "  <thead>\n",
              "    <tr style=\"text-align: right;\">\n",
              "      <th></th>\n",
              "      <th>No.</th>\n",
              "      <th>announce_date</th>\n",
              "      <th>Notified date</th>\n",
              "      <th>sex</th>\n",
              "      <th>age</th>\n",
              "      <th>Unit</th>\n",
              "      <th>nationality</th>\n",
              "      <th>province_of_isolation</th>\n",
              "      <th>risk</th>\n",
              "      <th>province_of_onset</th>\n",
              "      <th>district_of_onset</th>\n",
              "    </tr>\n",
              "  </thead>\n",
              "  <tbody>\n",
              "    <tr>\n",
              "      <th>0</th>\n",
              "      <td>1</td>\n",
              "      <td>12/1/2020</td>\n",
              "      <td>NaN</td>\n",
              "      <td>หญิง</td>\n",
              "      <td>61.0</td>\n",
              "      <td>ปี</td>\n",
              "      <td>China</td>\n",
              "      <td>กรุงเทพมหานคร</td>\n",
              "      <td>คนต่างชาติเดินทางมาจากต่างประเทศ</td>\n",
              "      <td>กรุงเทพมหานคร</td>\n",
              "      <td>NaN</td>\n",
              "    </tr>\n",
              "    <tr>\n",
              "      <th>1</th>\n",
              "      <td>2</td>\n",
              "      <td>17/1/2020</td>\n",
              "      <td>NaN</td>\n",
              "      <td>หญิง</td>\n",
              "      <td>74.0</td>\n",
              "      <td>ปี</td>\n",
              "      <td>China</td>\n",
              "      <td>กรุงเทพมหานคร</td>\n",
              "      <td>คนต่างชาติเดินทางมาจากต่างประเทศ</td>\n",
              "      <td>กรุงเทพมหานคร</td>\n",
              "      <td>NaN</td>\n",
              "    </tr>\n",
              "    <tr>\n",
              "      <th>2</th>\n",
              "      <td>3</td>\n",
              "      <td>22/1/2020</td>\n",
              "      <td>NaN</td>\n",
              "      <td>หญิง</td>\n",
              "      <td>73.0</td>\n",
              "      <td>ปี</td>\n",
              "      <td>Thailand</td>\n",
              "      <td>นครปฐม</td>\n",
              "      <td>คนต่างชาติเดินทางมาจากต่างประเทศ</td>\n",
              "      <td>นครปฐม</td>\n",
              "      <td>เมือง</td>\n",
              "    </tr>\n",
              "    <tr>\n",
              "      <th>3</th>\n",
              "      <td>4</td>\n",
              "      <td>22/1/2020</td>\n",
              "      <td>NaN</td>\n",
              "      <td>ชาย</td>\n",
              "      <td>68.0</td>\n",
              "      <td>ปี</td>\n",
              "      <td>China</td>\n",
              "      <td>กรุงเทพมหานคร</td>\n",
              "      <td>คนต่างชาติเดินทางมาจากต่างประเทศ</td>\n",
              "      <td>กรุงเทพมหานคร</td>\n",
              "      <td>NaN</td>\n",
              "    </tr>\n",
              "    <tr>\n",
              "      <th>4</th>\n",
              "      <td>5</td>\n",
              "      <td>24/1/2020</td>\n",
              "      <td>NaN</td>\n",
              "      <td>หญิง</td>\n",
              "      <td>66.0</td>\n",
              "      <td>ปี</td>\n",
              "      <td>China</td>\n",
              "      <td>นนทบุรี</td>\n",
              "      <td>คนต่างชาติเดินทางมาจากต่างประเทศ</td>\n",
              "      <td>กรุงเทพมหานคร</td>\n",
              "      <td>NaN</td>\n",
              "    </tr>\n",
              "    <tr>\n",
              "      <th>...</th>\n",
              "      <td>...</td>\n",
              "      <td>...</td>\n",
              "      <td>...</td>\n",
              "      <td>...</td>\n",
              "      <td>...</td>\n",
              "      <td>...</td>\n",
              "      <td>...</td>\n",
              "      <td>...</td>\n",
              "      <td>...</td>\n",
              "      <td>...</td>\n",
              "      <td>...</td>\n",
              "    </tr>\n",
              "    <tr>\n",
              "      <th>512617</th>\n",
              "      <td>512618</td>\n",
              "      <td>26/7/2021</td>\n",
              "      <td>25/7/2021</td>\n",
              "      <td>ชาย</td>\n",
              "      <td>NaN</td>\n",
              "      <td>NaN</td>\n",
              "      <td>NaN</td>\n",
              "      <td>ชลบุรี</td>\n",
              "      <td>ทัณฑสถาน/เรือนจำ</td>\n",
              "      <td>NaN</td>\n",
              "      <td>NaN</td>\n",
              "    </tr>\n",
              "    <tr>\n",
              "      <th>512618</th>\n",
              "      <td>512619</td>\n",
              "      <td>26/7/2021</td>\n",
              "      <td>25/7/2021</td>\n",
              "      <td>ชาย</td>\n",
              "      <td>NaN</td>\n",
              "      <td>NaN</td>\n",
              "      <td>NaN</td>\n",
              "      <td>ชลบุรี</td>\n",
              "      <td>ทัณฑสถาน/เรือนจำ</td>\n",
              "      <td>NaN</td>\n",
              "      <td>NaN</td>\n",
              "    </tr>\n",
              "    <tr>\n",
              "      <th>512619</th>\n",
              "      <td>512620</td>\n",
              "      <td>26/7/2021</td>\n",
              "      <td>25/7/2021</td>\n",
              "      <td>ชาย</td>\n",
              "      <td>NaN</td>\n",
              "      <td>NaN</td>\n",
              "      <td>NaN</td>\n",
              "      <td>ชลบุรี</td>\n",
              "      <td>ทัณฑสถาน/เรือนจำ</td>\n",
              "      <td>NaN</td>\n",
              "      <td>NaN</td>\n",
              "    </tr>\n",
              "    <tr>\n",
              "      <th>512620</th>\n",
              "      <td>512621</td>\n",
              "      <td>26/7/2021</td>\n",
              "      <td>25/7/2021</td>\n",
              "      <td>ชาย</td>\n",
              "      <td>NaN</td>\n",
              "      <td>NaN</td>\n",
              "      <td>NaN</td>\n",
              "      <td>ชลบุรี</td>\n",
              "      <td>ทัณฑสถาน/เรือนจำ</td>\n",
              "      <td>NaN</td>\n",
              "      <td>NaN</td>\n",
              "    </tr>\n",
              "    <tr>\n",
              "      <th>512621</th>\n",
              "      <td>512622</td>\n",
              "      <td>26/7/2021</td>\n",
              "      <td>25/7/2021</td>\n",
              "      <td>ชาย</td>\n",
              "      <td>NaN</td>\n",
              "      <td>NaN</td>\n",
              "      <td>NaN</td>\n",
              "      <td>ชลบุรี</td>\n",
              "      <td>ทัณฑสถาน/เรือนจำ</td>\n",
              "      <td>NaN</td>\n",
              "      <td>NaN</td>\n",
              "    </tr>\n",
              "  </tbody>\n",
              "</table>\n",
              "<p>512622 rows × 11 columns</p>\n",
              "</div>"
            ],
            "text/plain": [
              "           No. announce_date  ... province_of_onset district_of_onset\n",
              "0            1     12/1/2020  ...     กรุงเทพมหานคร               NaN\n",
              "1            2     17/1/2020  ...     กรุงเทพมหานคร               NaN\n",
              "2            3     22/1/2020  ...            นครปฐม             เมือง\n",
              "3            4     22/1/2020  ...     กรุงเทพมหานคร               NaN\n",
              "4            5     24/1/2020  ...     กรุงเทพมหานคร               NaN\n",
              "...        ...           ...  ...               ...               ...\n",
              "512617  512618     26/7/2021  ...               NaN               NaN\n",
              "512618  512619     26/7/2021  ...               NaN               NaN\n",
              "512619  512620     26/7/2021  ...               NaN               NaN\n",
              "512620  512621     26/7/2021  ...               NaN               NaN\n",
              "512621  512622     26/7/2021  ...               NaN               NaN\n",
              "\n",
              "[512622 rows x 11 columns]"
            ]
          },
          "metadata": {
            "tags": []
          },
          "execution_count": 29
        }
      ]
    },
    {
      "cell_type": "code",
      "metadata": {
        "id": "mJ_QFSaaHLo8",
        "colab": {
          "base_uri": "https://localhost:8080/",
          "height": 597
        },
        "outputId": "29120495-1cf6-483b-a145-8c426344c51e"
      },
      "source": [
        "data_covid_cases[data_covid_cases['Notified date']=='26/5/2021']"
      ],
      "execution_count": 30,
      "outputs": [
        {
          "output_type": "execute_result",
          "data": {
            "text/html": [
              "<div>\n",
              "<style scoped>\n",
              "    .dataframe tbody tr th:only-of-type {\n",
              "        vertical-align: middle;\n",
              "    }\n",
              "\n",
              "    .dataframe tbody tr th {\n",
              "        vertical-align: top;\n",
              "    }\n",
              "\n",
              "    .dataframe thead th {\n",
              "        text-align: right;\n",
              "    }\n",
              "</style>\n",
              "<table border=\"1\" class=\"dataframe\">\n",
              "  <thead>\n",
              "    <tr style=\"text-align: right;\">\n",
              "      <th></th>\n",
              "      <th>No.</th>\n",
              "      <th>announce_date</th>\n",
              "      <th>Notified date</th>\n",
              "      <th>sex</th>\n",
              "      <th>age</th>\n",
              "      <th>Unit</th>\n",
              "      <th>nationality</th>\n",
              "      <th>province_of_isolation</th>\n",
              "      <th>risk</th>\n",
              "      <th>province_of_onset</th>\n",
              "      <th>district_of_onset</th>\n",
              "    </tr>\n",
              "  </thead>\n",
              "  <tbody>\n",
              "    <tr>\n",
              "      <th>135443</th>\n",
              "      <td>135444</td>\n",
              "      <td>26/5/2021</td>\n",
              "      <td>26/5/2021</td>\n",
              "      <td>ชาย</td>\n",
              "      <td>66.0</td>\n",
              "      <td>ปี</td>\n",
              "      <td>Thailand</td>\n",
              "      <td>ปทุมธานี</td>\n",
              "      <td>สัมผัสใกล้ชิดกับผู้ป่วยยืนยันรายก่อนหน้านี้</td>\n",
              "      <td>ปทุมธานี</td>\n",
              "      <td>ลำลูกกา</td>\n",
              "    </tr>\n",
              "    <tr>\n",
              "      <th>137838</th>\n",
              "      <td>137839</td>\n",
              "      <td>27/5/2021</td>\n",
              "      <td>26/5/2021</td>\n",
              "      <td>NaN</td>\n",
              "      <td>60.0</td>\n",
              "      <td>ปี</td>\n",
              "      <td>NaN</td>\n",
              "      <td>เชียงใหม่</td>\n",
              "      <td>ทัณฑสถาน/เรือนจำ</td>\n",
              "      <td>เชียงใหม่</td>\n",
              "      <td>NaN</td>\n",
              "    </tr>\n",
              "    <tr>\n",
              "      <th>137839</th>\n",
              "      <td>137840</td>\n",
              "      <td>27/5/2021</td>\n",
              "      <td>26/5/2021</td>\n",
              "      <td>NaN</td>\n",
              "      <td>33.0</td>\n",
              "      <td>ปี</td>\n",
              "      <td>NaN</td>\n",
              "      <td>เชียงใหม่</td>\n",
              "      <td>ทัณฑสถาน/เรือนจำ</td>\n",
              "      <td>เชียงใหม่</td>\n",
              "      <td>NaN</td>\n",
              "    </tr>\n",
              "    <tr>\n",
              "      <th>137840</th>\n",
              "      <td>137841</td>\n",
              "      <td>27/5/2021</td>\n",
              "      <td>26/5/2021</td>\n",
              "      <td>NaN</td>\n",
              "      <td>39.0</td>\n",
              "      <td>ปี</td>\n",
              "      <td>NaN</td>\n",
              "      <td>เชียงใหม่</td>\n",
              "      <td>ทัณฑสถาน/เรือนจำ</td>\n",
              "      <td>เชียงใหม่</td>\n",
              "      <td>NaN</td>\n",
              "    </tr>\n",
              "    <tr>\n",
              "      <th>137841</th>\n",
              "      <td>137842</td>\n",
              "      <td>27/5/2021</td>\n",
              "      <td>26/5/2021</td>\n",
              "      <td>NaN</td>\n",
              "      <td>30.0</td>\n",
              "      <td>ปี</td>\n",
              "      <td>NaN</td>\n",
              "      <td>เชียงใหม่</td>\n",
              "      <td>ทัณฑสถาน/เรือนจำ</td>\n",
              "      <td>เชียงใหม่</td>\n",
              "      <td>NaN</td>\n",
              "    </tr>\n",
              "    <tr>\n",
              "      <th>...</th>\n",
              "      <td>...</td>\n",
              "      <td>...</td>\n",
              "      <td>...</td>\n",
              "      <td>...</td>\n",
              "      <td>...</td>\n",
              "      <td>...</td>\n",
              "      <td>...</td>\n",
              "      <td>...</td>\n",
              "      <td>...</td>\n",
              "      <td>...</td>\n",
              "      <td>...</td>\n",
              "    </tr>\n",
              "    <tr>\n",
              "      <th>141156</th>\n",
              "      <td>141157</td>\n",
              "      <td>27/5/2021</td>\n",
              "      <td>26/5/2021</td>\n",
              "      <td>ชาย</td>\n",
              "      <td>21.0</td>\n",
              "      <td>ปี</td>\n",
              "      <td>Burmese</td>\n",
              "      <td>กรุงเทพมหานคร</td>\n",
              "      <td>การค้นหาผู้ป่วยเชิงรุกและค้นหาผู้ติดเชื้อในชุมชน</td>\n",
              "      <td>NaN</td>\n",
              "      <td>NaN</td>\n",
              "    </tr>\n",
              "    <tr>\n",
              "      <th>141157</th>\n",
              "      <td>141158</td>\n",
              "      <td>27/5/2021</td>\n",
              "      <td>26/5/2021</td>\n",
              "      <td>ชาย</td>\n",
              "      <td>21.0</td>\n",
              "      <td>ปี</td>\n",
              "      <td>NaN</td>\n",
              "      <td>กรุงเทพมหานคร</td>\n",
              "      <td>การค้นหาผู้ป่วยเชิงรุกและค้นหาผู้ติดเชื้อในชุมชน</td>\n",
              "      <td>NaN</td>\n",
              "      <td>NaN</td>\n",
              "    </tr>\n",
              "    <tr>\n",
              "      <th>141158</th>\n",
              "      <td>141159</td>\n",
              "      <td>27/5/2021</td>\n",
              "      <td>26/5/2021</td>\n",
              "      <td>หญิง</td>\n",
              "      <td>18.0</td>\n",
              "      <td>ปี</td>\n",
              "      <td>Laotian / Lao</td>\n",
              "      <td>กรุงเทพมหานคร</td>\n",
              "      <td>การค้นหาผู้ป่วยเชิงรุกและค้นหาผู้ติดเชื้อในชุมชน</td>\n",
              "      <td>NaN</td>\n",
              "      <td>NaN</td>\n",
              "    </tr>\n",
              "    <tr>\n",
              "      <th>141159</th>\n",
              "      <td>141160</td>\n",
              "      <td>27/5/2021</td>\n",
              "      <td>26/5/2021</td>\n",
              "      <td>ชาย</td>\n",
              "      <td>24.0</td>\n",
              "      <td>ปี</td>\n",
              "      <td>Thailand</td>\n",
              "      <td>กรุงเทพมหานคร</td>\n",
              "      <td>อยู่ระหว่างการสอบสวน</td>\n",
              "      <td>NaN</td>\n",
              "      <td>NaN</td>\n",
              "    </tr>\n",
              "    <tr>\n",
              "      <th>141160</th>\n",
              "      <td>141161</td>\n",
              "      <td>27/5/2021</td>\n",
              "      <td>26/5/2021</td>\n",
              "      <td>ชาย</td>\n",
              "      <td>56.0</td>\n",
              "      <td>ปี</td>\n",
              "      <td>Thailand</td>\n",
              "      <td>กรุงเทพมหานคร</td>\n",
              "      <td>การค้นหาผู้ป่วยเชิงรุกและค้นหาผู้ติดเชื้อในชุมชน</td>\n",
              "      <td>NaN</td>\n",
              "      <td>NaN</td>\n",
              "    </tr>\n",
              "  </tbody>\n",
              "</table>\n",
              "<p>3324 rows × 11 columns</p>\n",
              "</div>"
            ],
            "text/plain": [
              "           No. announce_date  ... province_of_onset district_of_onset\n",
              "135443  135444     26/5/2021  ...          ปทุมธานี           ลำลูกกา\n",
              "137838  137839     27/5/2021  ...         เชียงใหม่               NaN\n",
              "137839  137840     27/5/2021  ...         เชียงใหม่               NaN\n",
              "137840  137841     27/5/2021  ...         เชียงใหม่               NaN\n",
              "137841  137842     27/5/2021  ...         เชียงใหม่               NaN\n",
              "...        ...           ...  ...               ...               ...\n",
              "141156  141157     27/5/2021  ...               NaN               NaN\n",
              "141157  141158     27/5/2021  ...               NaN               NaN\n",
              "141158  141159     27/5/2021  ...               NaN               NaN\n",
              "141159  141160     27/5/2021  ...               NaN               NaN\n",
              "141160  141161     27/5/2021  ...               NaN               NaN\n",
              "\n",
              "[3324 rows x 11 columns]"
            ]
          },
          "metadata": {
            "tags": []
          },
          "execution_count": 30
        }
      ]
    },
    {
      "cell_type": "code",
      "metadata": {
        "id": "lE8ooodMIwjP",
        "colab": {
          "base_uri": "https://localhost:8080/",
          "height": 300
        },
        "outputId": "7792e95b-5763-4c1a-a838-2b74d6e7ac0a"
      },
      "source": [
        "data_covid_cases.describe()"
      ],
      "execution_count": 31,
      "outputs": [
        {
          "output_type": "execute_result",
          "data": {
            "text/html": [
              "<div>\n",
              "<style scoped>\n",
              "    .dataframe tbody tr th:only-of-type {\n",
              "        vertical-align: middle;\n",
              "    }\n",
              "\n",
              "    .dataframe tbody tr th {\n",
              "        vertical-align: top;\n",
              "    }\n",
              "\n",
              "    .dataframe thead th {\n",
              "        text-align: right;\n",
              "    }\n",
              "</style>\n",
              "<table border=\"1\" class=\"dataframe\">\n",
              "  <thead>\n",
              "    <tr style=\"text-align: right;\">\n",
              "      <th></th>\n",
              "      <th>No.</th>\n",
              "      <th>age</th>\n",
              "    </tr>\n",
              "  </thead>\n",
              "  <tbody>\n",
              "    <tr>\n",
              "      <th>count</th>\n",
              "      <td>512622.000000</td>\n",
              "      <td>462839.000000</td>\n",
              "    </tr>\n",
              "    <tr>\n",
              "      <th>mean</th>\n",
              "      <td>256311.500000</td>\n",
              "      <td>35.529470</td>\n",
              "    </tr>\n",
              "    <tr>\n",
              "      <th>std</th>\n",
              "      <td>147981.369183</td>\n",
              "      <td>16.153885</td>\n",
              "    </tr>\n",
              "    <tr>\n",
              "      <th>min</th>\n",
              "      <td>1.000000</td>\n",
              "      <td>1.000000</td>\n",
              "    </tr>\n",
              "    <tr>\n",
              "      <th>25%</th>\n",
              "      <td>128156.250000</td>\n",
              "      <td>25.000000</td>\n",
              "    </tr>\n",
              "    <tr>\n",
              "      <th>50%</th>\n",
              "      <td>256311.500000</td>\n",
              "      <td>34.000000</td>\n",
              "    </tr>\n",
              "    <tr>\n",
              "      <th>75%</th>\n",
              "      <td>384466.750000</td>\n",
              "      <td>46.000000</td>\n",
              "    </tr>\n",
              "    <tr>\n",
              "      <th>max</th>\n",
              "      <td>512622.000000</td>\n",
              "      <td>108.000000</td>\n",
              "    </tr>\n",
              "  </tbody>\n",
              "</table>\n",
              "</div>"
            ],
            "text/plain": [
              "                 No.            age\n",
              "count  512622.000000  462839.000000\n",
              "mean   256311.500000      35.529470\n",
              "std    147981.369183      16.153885\n",
              "min         1.000000       1.000000\n",
              "25%    128156.250000      25.000000\n",
              "50%    256311.500000      34.000000\n",
              "75%    384466.750000      46.000000\n",
              "max    512622.000000     108.000000"
            ]
          },
          "metadata": {
            "tags": []
          },
          "execution_count": 31
        }
      ]
    },
    {
      "cell_type": "code",
      "metadata": {
        "id": "AdwnX7OmJYiZ",
        "colab": {
          "base_uri": "https://localhost:8080/",
          "height": 404
        },
        "outputId": "5f1c6f43-d1b9-42e5-f68a-7e7ac8b459c4"
      },
      "source": [
        "plt.boxplot(data_covid_cases['age'].dropna())"
      ],
      "execution_count": 32,
      "outputs": [
        {
          "output_type": "execute_result",
          "data": {
            "text/plain": [
              "{'boxes': [<matplotlib.lines.Line2D at 0x7fe984733450>],\n",
              " 'caps': [<matplotlib.lines.Line2D at 0x7fe9847394d0>,\n",
              "  <matplotlib.lines.Line2D at 0x7fe984739a10>],\n",
              " 'fliers': [<matplotlib.lines.Line2D at 0x7fe984743510>],\n",
              " 'means': [],\n",
              " 'medians': [<matplotlib.lines.Line2D at 0x7fe984739f90>],\n",
              " 'whiskers': [<matplotlib.lines.Line2D at 0x7fe984733a10>,\n",
              "  <matplotlib.lines.Line2D at 0x7fe984733f50>]}"
            ]
          },
          "metadata": {
            "tags": []
          },
          "execution_count": 32
        },
        {
          "output_type": "display_data",
          "data": {
            "image/png": "[encoded data removed]",
            "text/plain": [
              "<Figure size 432x288 with 1 Axes>"
            ]
          },
          "metadata": {
            "tags": [],
            "needs_background": "light"
          }
        }
      ]
    },
    {
      "cell_type": "markdown",
      "metadata": {
        "id": "EtlvSlSo-YLX"
      },
      "source": [
        "# Data Visualization\n",
        "\n",
        "* package ```matplotlib```\n",
        "* Boxplot\n",
        "* Scatter plot\n",
        "* Plot\n",
        "* Barchart\n",
        "* Histogram"
      ]
    },
    {
      "cell_type": "code",
      "metadata": {
        "id": "3TOzWVMTKJfz",
        "colab": {
          "base_uri": "https://localhost:8080/",
          "height": 265
        },
        "outputId": "783ab51f-6457-43f5-ac58-18f5c65bbdd2"
      },
      "source": [
        "bxp_output = plt.boxplot(data_covid_cases['age'].dropna())"
      ],
      "execution_count": 33,
      "outputs": [
        {
          "output_type": "display_data",
          "data": {
            "image/png": "[encoded data removed]",
            "text/plain": [
              "<Figure size 432x288 with 1 Axes>"
            ]
          },
          "metadata": {
            "tags": [],
            "needs_background": "light"
          }
        }
      ]
    },
    {
      "cell_type": "code",
      "metadata": {
        "colab": {
          "base_uri": "https://localhost:8080/"
        },
        "id": "Eg1yAvnmALW5",
        "outputId": "212eb64e-d5df-421b-b52b-384438bb6424"
      },
      "source": [
        "bxp_output"
      ],
      "execution_count": 34,
      "outputs": [
        {
          "output_type": "execute_result",
          "data": {
            "text/plain": [
              "{'boxes': [<matplotlib.lines.Line2D at 0x7fe98466aa10>],\n",
              " 'caps': [<matplotlib.lines.Line2D at 0x7fe98466ea50>,\n",
              "  <matplotlib.lines.Line2D at 0x7fe98466ef90>],\n",
              " 'fliers': [<matplotlib.lines.Line2D at 0x7fe984674a90>],\n",
              " 'means': [],\n",
              " 'medians': [<matplotlib.lines.Line2D at 0x7fe984674550>],\n",
              " 'whiskers': [<matplotlib.lines.Line2D at 0x7fe98466af90>,\n",
              "  <matplotlib.lines.Line2D at 0x7fe98466e510>]}"
            ]
          },
          "metadata": {
            "tags": []
          },
          "execution_count": 34
        }
      ]
    },
    {
      "cell_type": "code",
      "metadata": {
        "colab": {
          "base_uri": "https://localhost:8080/"
        },
        "id": "F_ojTIE8ARpZ",
        "outputId": "eb073352-801d-4855-d887-03a5e5e62b8d"
      },
      "source": [
        "bxp_output['boxes']"
      ],
      "execution_count": 35,
      "outputs": [
        {
          "output_type": "execute_result",
          "data": {
            "text/plain": [
              "[<matplotlib.lines.Line2D at 0x7fe98466aa10>]"
            ]
          },
          "metadata": {
            "tags": []
          },
          "execution_count": 35
        }
      ]
    },
    {
      "cell_type": "code",
      "metadata": {
        "colab": {
          "base_uri": "https://localhost:8080/"
        },
        "id": "mPLrONrnAl3P",
        "outputId": "bf21ed04-a91d-44de-d667-d13594703679"
      },
      "source": [
        "bxp_output['caps']"
      ],
      "execution_count": 36,
      "outputs": [
        {
          "output_type": "execute_result",
          "data": {
            "text/plain": [
              "[<matplotlib.lines.Line2D at 0x7fe98466ea50>,\n",
              " <matplotlib.lines.Line2D at 0x7fe98466ef90>]"
            ]
          },
          "metadata": {
            "tags": []
          },
          "execution_count": 36
        }
      ]
    },
    {
      "cell_type": "code",
      "metadata": {
        "colab": {
          "base_uri": "https://localhost:8080/"
        },
        "id": "n6bpWlH9A0G1",
        "outputId": "f477a1c9-faa0-49cd-b542-3d159f1d4d8f"
      },
      "source": [
        "bxp_output['boxes'][0]"
      ],
      "execution_count": 37,
      "outputs": [
        {
          "output_type": "execute_result",
          "data": {
            "text/plain": [
              "<matplotlib.lines.Line2D at 0x7fe98466aa10>"
            ]
          },
          "metadata": {
            "tags": []
          },
          "execution_count": 37
        }
      ]
    },
    {
      "cell_type": "code",
      "metadata": {
        "colab": {
          "base_uri": "https://localhost:8080/"
        },
        "id": "kWHIblPEBEpu",
        "outputId": "d977e75a-db2b-4a52-a88b-d41f94a427f5"
      },
      "source": [
        "bxp_output['boxes'][0].get_ydata()"
      ],
      "execution_count": 38,
      "outputs": [
        {
          "output_type": "execute_result",
          "data": {
            "text/plain": [
              "array([25., 25., 46., 46., 25.])"
            ]
          },
          "metadata": {
            "tags": []
          },
          "execution_count": 38
        }
      ]
    },
    {
      "cell_type": "code",
      "metadata": {
        "colab": {
          "base_uri": "https://localhost:8080/"
        },
        "id": "iZw1HHTuD0sK",
        "outputId": "5fbcfaf8-0169-4a3b-ba66-409d95bd7ac4"
      },
      "source": [
        "bxp_output['boxes'][0].get_ydata()[0]"
      ],
      "execution_count": 50,
      "outputs": [
        {
          "output_type": "execute_result",
          "data": {
            "text/plain": [
              "25.0"
            ]
          },
          "metadata": {
            "tags": []
          },
          "execution_count": 50
        }
      ]
    },
    {
      "cell_type": "code",
      "metadata": {
        "colab": {
          "base_uri": "https://localhost:8080/"
        },
        "id": "usyCTTsrCWTs",
        "outputId": "525c60ad-3cfe-485f-fea4-5995f30e7354"
      },
      "source": [
        "bxp_output['boxes'][0].get_xdata() #เราไม่สนใจเพราะเราวาดแนวแกนตั้ง"
      ],
      "execution_count": 41,
      "outputs": [
        {
          "output_type": "execute_result",
          "data": {
            "text/plain": [
              "array([0.925, 1.075, 1.075, 0.925, 0.925])"
            ]
          },
          "metadata": {
            "tags": []
          },
          "execution_count": 41
        }
      ]
    },
    {
      "cell_type": "code",
      "metadata": {
        "colab": {
          "base_uri": "https://localhost:8080/"
        },
        "id": "3EA6nqQgBNZJ",
        "outputId": "e0caf0dc-5b7c-4f2b-a278-26fbb60ca847"
      },
      "source": [
        "bxp_output['caps'][0].get_ydata()"
      ],
      "execution_count": 39,
      "outputs": [
        {
          "output_type": "execute_result",
          "data": {
            "text/plain": [
              "array([1., 1.])"
            ]
          },
          "metadata": {
            "tags": []
          },
          "execution_count": 39
        }
      ]
    },
    {
      "cell_type": "code",
      "metadata": {
        "colab": {
          "base_uri": "https://localhost:8080/"
        },
        "id": "-7y20296CUkz",
        "outputId": "74c0c66f-1f80-48a3-a192-5f647e3495c4"
      },
      "source": [
        "bxp_output['caps'][1].get_ydata()"
      ],
      "execution_count": 42,
      "outputs": [
        {
          "output_type": "execute_result",
          "data": {
            "text/plain": [
              "array([77., 77.])"
            ]
          },
          "metadata": {
            "tags": []
          },
          "execution_count": 42
        }
      ]
    },
    {
      "cell_type": "code",
      "metadata": {
        "colab": {
          "base_uri": "https://localhost:8080/"
        },
        "id": "9b_p74OHCyxv",
        "outputId": "4fc942e8-e3e9-44fb-ddf7-2b75e2ade257"
      },
      "source": [
        "bxp_output['fliers'][0].get_ydata()"
      ],
      "execution_count": 45,
      "outputs": [
        {
          "output_type": "execute_result",
          "data": {
            "text/plain": [
              "array([79., 84., 83., ..., 79., 83., 80.])"
            ]
          },
          "metadata": {
            "tags": []
          },
          "execution_count": 45
        }
      ]
    },
    {
      "cell_type": "code",
      "metadata": {
        "colab": {
          "base_uri": "https://localhost:8080/"
        },
        "id": "QeyQGA_GC-eA",
        "outputId": "3ae37d80-c98c-4e33-b084-978ecbab5eec"
      },
      "source": [
        "bxp_output['fliers'][0].get_ydata().shape"
      ],
      "execution_count": 46,
      "outputs": [
        {
          "output_type": "execute_result",
          "data": {
            "text/plain": [
              "(5053,)"
            ]
          },
          "metadata": {
            "tags": []
          },
          "execution_count": 46
        }
      ]
    },
    {
      "cell_type": "code",
      "metadata": {
        "colab": {
          "base_uri": "https://localhost:8080/"
        },
        "id": "GeEV_21xDK1B",
        "outputId": "4dc96d72-f440-4ba0-f3c9-ce7e4652bbd4"
      },
      "source": [
        "bxp_output['medians'][0].get_ydata()"
      ],
      "execution_count": 49,
      "outputs": [
        {
          "output_type": "execute_result",
          "data": {
            "text/plain": [
              "array([34., 34.])"
            ]
          },
          "metadata": {
            "tags": []
          },
          "execution_count": 49
        }
      ]
    },
    {
      "cell_type": "code",
      "metadata": {
        "id": "WkvFSLlmDbJq"
      },
      "source": [
        "iqr = bxp_output['boxes'][0].get_ydata()[3]-bxp_output['boxes'][0].get_ydata()[0]"
      ],
      "execution_count": 52,
      "outputs": []
    },
    {
      "cell_type": "code",
      "metadata": {
        "colab": {
          "base_uri": "https://localhost:8080/"
        },
        "id": "AvEZv7TBEtM3",
        "outputId": "98e8f2d8-fc59-4f99-dc3b-5dc76869512c"
      },
      "source": [
        "iqr"
      ],
      "execution_count": 53,
      "outputs": [
        {
          "output_type": "execute_result",
          "data": {
            "text/plain": [
              "21.0"
            ]
          },
          "metadata": {
            "tags": []
          },
          "execution_count": 53
        }
      ]
    },
    {
      "cell_type": "markdown",
      "metadata": {
        "id": "FZn9oHLLFwBS"
      },
      "source": [
        "## Quiz 7\n",
        "\n",
        "เขียนฟังก์ชั่น คำนวณ หา Q1,Q2,Q3,IQR โดยรับ input เป็น output ของ boxplot และแกนของ boxplot\n",
        "\n",
        "``` python\n",
        "    def box_vals(box_out_dict,vert = True):\n",
        "        #your code\n",
        "        return q1,q2,q3,iqr\n",
        "```\n",
        "\n",
        "\n",
        "\n"
      ]
    },
    {
      "cell_type": "code",
      "metadata": {
        "id": "kJxlb1Y1Fl5H"
      },
      "source": [
        "def box_vals(box_out_dict, vert = True):\n",
        "    if vert ==True:\n",
        "        Q1=box_out_dict['boxes'][0].get_ydata()[0] # Findind Q1\n",
        "        Q2=bxp_output['medians'][0].get_ydata()[0] # Findind Q2\n",
        "        Q3=box_out_dict['boxes'][0].get_ydata()[3] # Findind Q3\n",
        "        IQR = Q3- Q1 # Findind IQR\n",
        "    else:\n",
        "        Q1=box_out_dict['boxes'][0].get_xdata()[0]\n",
        "        Q2=bxp_output['medians'][0].get_xdata()[0]\n",
        "        Q3=box_out_dict['boxes'][0].get_xdata()[3]\n",
        "        IQR = Q3- Q1\n",
        "    return Q1, Q2, Q3, IQR"
      ],
      "execution_count": 54,
      "outputs": []
    },
    {
      "cell_type": "code",
      "metadata": {
        "colab": {
          "base_uri": "https://localhost:8080/",
          "height": 283
        },
        "id": "a76bWX4gML2s",
        "outputId": "598690de-9eb8-426f-ac70-3225bc6f6d60"
      },
      "source": [
        "bxp_output = plt.boxplot(data_covid_cases['age'].dropna(),vert=False) \n",
        "# checking function\n",
        "box_vals(bxp_output, vert = False)"
      ],
      "execution_count": 56,
      "outputs": [
        {
          "output_type": "execute_result",
          "data": {
            "text/plain": [
              "(25.0, 34.0, 46.0, 21.0)"
            ]
          },
          "metadata": {
            "tags": []
          },
          "execution_count": 56
        },
        {
          "output_type": "display_data",
          "data": {
            "image/png": "[encoded data removed]",
            "text/plain": [
              "<Figure size 432x288 with 1 Axes>"
            ]
          },
          "metadata": {
            "tags": [],
            "needs_background": "light"
          }
        }
      ]
    },
    {
      "cell_type": "code",
      "metadata": {
        "colab": {
          "base_uri": "https://localhost:8080/",
          "height": 283
        },
        "id": "27SBNwyCMQV0",
        "outputId": "1580b218-1fae-4a19-d76f-070f178190e4"
      },
      "source": [
        "bxp_output = plt.boxplot(data_covid_cases['age'].dropna()) \n",
        "# checking function\n",
        "box_vals(bxp_output)"
      ],
      "execution_count": 57,
      "outputs": [
        {
          "output_type": "execute_result",
          "data": {
            "text/plain": [
              "(25.0, 34.0, 46.0, 21.0)"
            ]
          },
          "metadata": {
            "tags": []
          },
          "execution_count": 57
        },
        {
          "output_type": "display_data",
          "data": {
            "image/png": "[encoded data removed]",
            "text/plain": [
              "<Figure size 432x288 with 1 Axes>"
            ]
          },
          "metadata": {
            "tags": [],
            "needs_background": "light"
          }
        }
      ]
    },
    {
      "cell_type": "markdown",
      "metadata": {
        "id": "YcAsLGtsMmBa"
      },
      "source": [
        "## Plot"
      ]
    },
    {
      "cell_type": "code",
      "metadata": {
        "colab": {
          "base_uri": "https://localhost:8080/",
          "height": 283
        },
        "id": "Ps5aClmoMVc2",
        "outputId": "2ca72f4e-9265-4cbc-d2ef-1f837c8fe7aa"
      },
      "source": [
        "plt.plot(data.iloc[500:-7,1])"
      ],
      "execution_count": 62,
      "outputs": [
        {
          "output_type": "execute_result",
          "data": {
            "text/plain": [
              "[<matplotlib.lines.Line2D at 0x7fe98025e6d0>]"
            ]
          },
          "metadata": {
            "tags": []
          },
          "execution_count": 62
        },
        {
          "output_type": "display_data",
          "data": {
            "image/png": "[encoded data removed]",
            "text/plain": [
              "<Figure size 432x288 with 1 Axes>"
            ]
          },
          "metadata": {
            "tags": [],
            "needs_background": "light"
          }
        }
      ]
    },
    {
      "cell_type": "code",
      "metadata": {
        "id": "NyrQi2ZCMwKv",
        "outputId": "c63b18d9-e630-4683-9e62-79d50b8ece27",
        "colab": {
          "base_uri": "https://localhost:8080/",
          "height": 283
        }
      },
      "source": [
        "plt.plot(data.iloc[500:-7,1],'o-b')"
      ],
      "execution_count": 64,
      "outputs": [
        {
          "output_type": "execute_result",
          "data": {
            "text/plain": [
              "[<matplotlib.lines.Line2D at 0x7fe9801b6910>]"
            ]
          },
          "metadata": {
            "tags": []
          },
          "execution_count": 64
        },
        {
          "output_type": "display_data",
          "data": {
            "image/png": "[encoded data removed]",
            "text/plain": [
              "<Figure size 432x288 with 1 Axes>"
            ]
          },
          "metadata": {
            "tags": [],
            "needs_background": "light"
          }
        }
      ]
    },
    {
      "cell_type": "code",
      "metadata": {
        "id": "LyE0XnRpNZug",
        "outputId": "f75c6b49-d85a-432b-d484-199236ec5891",
        "colab": {
          "base_uri": "https://localhost:8080/",
          "height": 283
        }
      },
      "source": [
        "plt.plot(data.iloc[500:-7,1],'*-b')"
      ],
      "execution_count": 68,
      "outputs": [
        {
          "output_type": "execute_result",
          "data": {
            "text/plain": [
              "[<matplotlib.lines.Line2D at 0x7fe97ffd5fd0>]"
            ]
          },
          "metadata": {
            "tags": []
          },
          "execution_count": 68
        },
        {
          "output_type": "display_data",
          "data": {
            "image/png": "[encoded data removed]",
            "text/plain": [
              "<Figure size 432x288 with 1 Axes>"
            ]
          },
          "metadata": {
            "tags": [],
            "needs_background": "light"
          }
        }
      ]
    },
    {
      "cell_type": "code",
      "metadata": {
        "id": "A9c8pEqlN3Ne",
        "outputId": "d3cb0d9a-1d96-41d3-c367-a536eec8fddf",
        "colab": {
          "base_uri": "https://localhost:8080/",
          "height": 283
        }
      },
      "source": [
        "plt.plot(data.iloc[500:-7,1],'*b')"
      ],
      "execution_count": 69,
      "outputs": [
        {
          "output_type": "execute_result",
          "data": {
            "text/plain": [
              "[<matplotlib.lines.Line2D at 0x7fe97ff4e850>]"
            ]
          },
          "metadata": {
            "tags": []
          },
          "execution_count": 69
        },
        {
          "output_type": "display_data",
          "data": {
            "image/png": "[encoded data removed]",
            "text/plain": [
              "<Figure size 432x288 with 1 Axes>"
            ]
          },
          "metadata": {
            "tags": [],
            "needs_background": "light"
          }
        }
      ]
    },
    {
      "cell_type": "markdown",
      "metadata": {
        "id": "23VXWn4bOcZ-"
      },
      "source": [
        "วาดกราฟที่ marker เป็นจุด line เป็นเส้นประ และ สีแดง"
      ]
    },
    {
      "cell_type": "code",
      "metadata": {
        "id": "xSZCZZilOGtk",
        "outputId": "744f11ab-f998-4f10-e6cb-d4fe241ef59a",
        "colab": {
          "base_uri": "https://localhost:8080/",
          "height": 283
        }
      },
      "source": [
        "plt.plot(data_covid_cases['age'],',')"
      ],
      "execution_count": 71,
      "outputs": [
        {
          "output_type": "execute_result",
          "data": {
            "text/plain": [
              "[<matplotlib.lines.Line2D at 0x7fe97fe98dd0>]"
            ]
          },
          "metadata": {
            "tags": []
          },
          "execution_count": 71
        },
        {
          "output_type": "display_data",
          "data": {
            "image/png": "[encoded data removed]",
            "text/plain": [
              "<Figure size 432x288 with 1 Axes>"
            ]
          },
          "metadata": {
            "tags": [],
            "needs_background": "light"
          }
        }
      ]
    },
    {
      "cell_type": "markdown",
      "metadata": {
        "id": "VzCr1AqnQIlu"
      },
      "source": [
        "## Scatter Plot"
      ]
    },
    {
      "cell_type": "code",
      "metadata": {
        "id": "DshhNz2EPcMb",
        "outputId": "6862636d-0ad3-4664-9ef0-729b609f8778",
        "colab": {
          "base_uri": "https://localhost:8080/",
          "height": 283
        }
      },
      "source": [
        "plt.scatter(range(len(data.iloc[500:-7,1])),data.iloc[500:-7,1])"
      ],
      "execution_count": 73,
      "outputs": [
        {
          "output_type": "execute_result",
          "data": {
            "text/plain": [
              "<matplotlib.collections.PathCollection at 0x7fe97fd8d210>"
            ]
          },
          "metadata": {
            "tags": []
          },
          "execution_count": 73
        },
        {
          "output_type": "display_data",
          "data": {
            "image/png": "[encoded data removed]",
            "text/plain": [
              "<Figure size 432x288 with 1 Axes>"
            ]
          },
          "metadata": {
            "tags": [],
            "needs_background": "light"
          }
        }
      ]
    },
    {
      "cell_type": "code",
      "metadata": {
        "id": "4qX7Kop8Q6Yg",
        "outputId": "09816113-56c8-41c0-a76b-4743187672c2",
        "colab": {
          "base_uri": "https://localhost:8080/",
          "height": 283
        }
      },
      "source": [
        "plt.scatter(range(len(data.iloc[500:-7,1])),data.iloc[500:-7,1],s=20)"
      ],
      "execution_count": 76,
      "outputs": [
        {
          "output_type": "execute_result",
          "data": {
            "text/plain": [
              "<matplotlib.collections.PathCollection at 0x7fe97fca3710>"
            ]
          },
          "metadata": {
            "tags": []
          },
          "execution_count": 76
        },
        {
          "output_type": "display_data",
          "data": {
            "image/png": "[encoded data removed]",
            "text/plain": [
              "<Figure size 432x288 with 1 Axes>"
            ]
          },
          "metadata": {
            "tags": [],
            "needs_background": "light"
          }
        }
      ]
    },
    {
      "cell_type": "code",
      "metadata": {
        "id": "3aNe8braRyZV",
        "outputId": "4468569b-7c36-4fe2-9808-ea3f322503ea",
        "colab": {
          "base_uri": "https://localhost:8080/",
          "height": 283
        }
      },
      "source": [
        "plt.scatter(range(len(data.iloc[500:-7,1])),data.iloc[500:-7,1],c='#17becf')"
      ],
      "execution_count": 79,
      "outputs": [
        {
          "output_type": "execute_result",
          "data": {
            "text/plain": [
              "<matplotlib.collections.PathCollection at 0x7fe97fc32910>"
            ]
          },
          "metadata": {
            "tags": []
          },
          "execution_count": 79
        },
        {
          "output_type": "display_data",
          "data": {
            "image/png": "[encoded data removed]",
            "text/plain": [
              "<Figure size 432x288 with 1 Axes>"
            ]
          },
          "metadata": {
            "tags": [],
            "needs_background": "light"
          }
        }
      ]
    },
    {
      "cell_type": "code",
      "metadata": {
        "id": "XO0NhGzQSEtI",
        "outputId": "22c71b67-94e1-4315-f34b-2c5447721445",
        "colab": {
          "base_uri": "https://localhost:8080/",
          "height": 283
        }
      },
      "source": [
        "plt.scatter(range(len(data.iloc[500:-7,1])),data.iloc[500:-7,1],c=[[1,0.5,0]]) #[[red,green,blue]]"
      ],
      "execution_count": 86,
      "outputs": [
        {
          "output_type": "execute_result",
          "data": {
            "text/plain": [
              "<matplotlib.collections.PathCollection at 0x7fe97f889050>"
            ]
          },
          "metadata": {
            "tags": []
          },
          "execution_count": 86
        },
        {
          "output_type": "display_data",
          "data": {
            "image/png": "[encoded data removed]",
            "text/plain": [
              "<Figure size 432x288 with 1 Axes>"
            ]
          },
          "metadata": {
            "tags": [],
            "needs_background": "light"
          }
        }
      ]
    },
    {
      "cell_type": "code",
      "metadata": {
        "id": "L2aFZ3DjSmDj",
        "outputId": "43a2dc12-a3b8-4bd5-fb9f-ddac3ce8561f",
        "colab": {
          "base_uri": "https://localhost:8080/",
          "height": 283
        }
      },
      "source": [
        "plt.scatter(range(len(data.iloc[500:-7,1])),data.iloc[500:-7,1],c=range(len(data.iloc[500:-7,1])))"
      ],
      "execution_count": 87,
      "outputs": [
        {
          "output_type": "execute_result",
          "data": {
            "text/plain": [
              "<matplotlib.collections.PathCollection at 0x7fe97f88cf90>"
            ]
          },
          "metadata": {
            "tags": []
          },
          "execution_count": 87
        },
        {
          "output_type": "display_data",
          "data": {
            "image/png": "[encoded data removed]",
            "text/plain": [
              "<Figure size 432x288 with 1 Axes>"
            ]
          },
          "metadata": {
            "tags": [],
            "needs_background": "light"
          }
        }
      ]
    },
    {
      "cell_type": "code",
      "metadata": {
        "id": "xZOjzqWYUSJ9",
        "outputId": "66c5d437-911e-46d6-927c-54673ea15b22",
        "colab": {
          "base_uri": "https://localhost:8080/",
          "height": 283
        }
      },
      "source": [
        "plt.scatter(range(len(data.iloc[500:-7,1])),data.iloc[500:-7,1],c=range(len(data.iloc[500:-7,1])),cmap='Spectral')"
      ],
      "execution_count": 88,
      "outputs": [
        {
          "output_type": "execute_result",
          "data": {
            "text/plain": [
              "<matplotlib.collections.PathCollection at 0x7fe97f75a110>"
            ]
          },
          "metadata": {
            "tags": []
          },
          "execution_count": 88
        },
        {
          "output_type": "display_data",
          "data": {
            "image/png": "[encoded data removed]",
            "text/plain": [
              "<Figure size 432x288 with 1 Axes>"
            ]
          },
          "metadata": {
            "tags": [],
            "needs_background": "light"
          }
        }
      ]
    },
    {
      "cell_type": "code",
      "metadata": {
        "id": "4yVpkJwUUsnI"
      },
      "source": [
        "x = [10, 13, 16, 20]\n",
        "y = [5, 2, 7, 1]\n",
        "z = [10, 2, 5, 8]"
      ],
      "execution_count": 89,
      "outputs": []
    },
    {
      "cell_type": "code",
      "metadata": {
        "id": "bhzjdVidVcmp",
        "outputId": "bf6b443c-382b-4f75-a88d-9ee4493c8cff",
        "colab": {
          "base_uri": "https://localhost:8080/",
          "height": 283
        }
      },
      "source": [
        "plt.scatter(x,y,c=z)"
      ],
      "execution_count": 91,
      "outputs": [
        {
          "output_type": "execute_result",
          "data": {
            "text/plain": [
              "<matplotlib.collections.PathCollection at 0x7fe97f754250>"
            ]
          },
          "metadata": {
            "tags": []
          },
          "execution_count": 91
        },
        {
          "output_type": "display_data",
          "data": {
            "image/png": "[encoded data removed]",
            "text/plain": [
              "<Figure size 432x288 with 1 Axes>"
            ]
          },
          "metadata": {
            "tags": [],
            "needs_background": "light"
          }
        }
      ]
    },
    {
      "cell_type": "code",
      "metadata": {
        "id": "Tb_IbuObViCA",
        "outputId": "64fcdc07-9577-4765-bd79-d81fea013a9f",
        "colab": {
          "base_uri": "https://localhost:8080/",
          "height": 283
        }
      },
      "source": [
        "plt.scatter(x,y,c=z,marker='*')"
      ],
      "execution_count": 92,
      "outputs": [
        {
          "output_type": "execute_result",
          "data": {
            "text/plain": [
              "<matplotlib.collections.PathCollection at 0x7fe97f632d10>"
            ]
          },
          "metadata": {
            "tags": []
          },
          "execution_count": 92
        },
        {
          "output_type": "display_data",
          "data": {
            "image/png": "[encoded data removed]",
            "text/plain": [
              "<Figure size 432x288 with 1 Axes>"
            ]
          },
          "metadata": {
            "tags": [],
            "needs_background": "light"
          }
        }
      ]
    },
    {
      "cell_type": "code",
      "metadata": {
        "id": "jT7iboa8WABC"
      },
      "source": [
        ""
      ],
      "execution_count": null,
      "outputs": []
    }
  ]
}