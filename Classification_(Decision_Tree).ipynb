{
  "nbformat": 4,
  "nbformat_minor": 0,
  "metadata": {
    "colab": {
      "name": "Classification (Decision Tree).ipynb",
      "provenance": [],
      "authorship_tag": "ABX9TyP4t4OUop91W07v72R+oepq",
      "include_colab_link": true
    },
    "kernelspec": {
      "name": "python3",
      "display_name": "Python 3"
    },
    "language_info": {
      "name": "python"
    }
  },
  "cells": [
    {
      "cell_type": "markdown",
      "metadata": {
        "id": "view-in-github",
        "colab_type": "text"
      },
      "source": [
        "<a href=\"https://colab.research.google.com/github/tohnperfect/DPDM2021/blob/main/Classification_(Decision_Tree).ipynb\" target=\"_parent\"><img src=\"https://colab.research.google.com/assets/colab-badge.svg\" alt=\"Open In Colab\"/></a>"
      ]
    },
    {
      "cell_type": "markdown",
      "metadata": {
        "id": "j0XvESJgvr6e"
      },
      "source": [
        "Scikit-learn คือ package ที่รวบรวมอัลกอริทึม ที่เกี่ยวข้องกับ machine learning และ data mining (sklearn)"
      ]
    },
    {
      "cell_type": "markdown",
      "metadata": {
        "id": "LBUEC8Yxv-SO"
      },
      "source": [
        "# Load Data"
      ]
    },
    {
      "cell_type": "code",
      "metadata": {
        "id": "1pxschjYvQ3b"
      },
      "source": [
        "from sklearn import datasets\n",
        "\n",
        "iris_data = datasets.load_iris()"
      ],
      "execution_count": 1,
      "outputs": []
    },
    {
      "cell_type": "code",
      "metadata": {
        "colab": {
          "base_uri": "https://localhost:8080/"
        },
        "id": "9U757HvHwbdq",
        "outputId": "a10a1dd8-2dc1-423b-9162-c4f09c8b4493"
      },
      "source": [
        "iris_data"
      ],
      "execution_count": 2,
      "outputs": [
        {
          "output_type": "execute_result",
          "data": {
            "text/plain": [
              "{'DESCR': '.. _iris_dataset:\\n\\nIris plants dataset\\n--------------------\\n\\n**Data Set Characteristics:**\\n\\n    :Number of Instances: 150 (50 in each of three classes)\\n    :Number of Attributes: 4 numeric, predictive attributes and the class\\n    :Attribute Information:\\n        - sepal length in cm\\n        - sepal width in cm\\n        - petal length in cm\\n        - petal width in cm\\n        - class:\\n                - Iris-Setosa\\n                - Iris-Versicolour\\n                - Iris-Virginica\\n                \\n    :Summary Statistics:\\n\\n    ============== ==== ==== ======= ===== ====================\\n                    Min  Max   Mean    SD   Class Correlation\\n    ============== ==== ==== ======= ===== ====================\\n    sepal length:   4.3  7.9   5.84   0.83    0.7826\\n    sepal width:    2.0  4.4   3.05   0.43   -0.4194\\n    petal length:   1.0  6.9   3.76   1.76    0.9490  (high!)\\n    petal width:    0.1  2.5   1.20   0.76    0.9565  (high!)\\n    ============== ==== ==== ======= ===== ====================\\n\\n    :Missing Attribute Values: None\\n    :Class Distribution: 33.3% for each of 3 classes.\\n    :Creator: R.A. Fisher\\n    :Donor: Michael Marshall (MARSHALL%PLU@io.arc.nasa.gov)\\n    :Date: July, 1988\\n\\nThe famous Iris database, first used by Sir R.A. Fisher. The dataset is taken\\nfrom Fisher\\'s paper. Note that it\\'s the same as in R, but not as in the UCI\\nMachine Learning Repository, which has two wrong data points.\\n\\nThis is perhaps the best known database to be found in the\\npattern recognition literature.  Fisher\\'s paper is a classic in the field and\\nis referenced frequently to this day.  (See Duda & Hart, for example.)  The\\ndata set contains 3 classes of 50 instances each, where each class refers to a\\ntype of iris plant.  One class is linearly separable from the other 2; the\\nlatter are NOT linearly separable from each other.\\n\\n.. topic:: References\\n\\n   - Fisher, R.A. \"The use of multiple measurements in taxonomic problems\"\\n     Annual Eugenics, 7, Part II, 179-188 (1936); also in \"Contributions to\\n     Mathematical Statistics\" (John Wiley, NY, 1950).\\n   - Duda, R.O., & Hart, P.E. (1973) Pattern Classification and Scene Analysis.\\n     (Q327.D83) John Wiley & Sons.  ISBN 0-471-22361-1.  See page 218.\\n   - Dasarathy, B.V. (1980) \"Nosing Around the Neighborhood: A New System\\n     Structure and Classification Rule for Recognition in Partially Exposed\\n     Environments\".  IEEE Transactions on Pattern Analysis and Machine\\n     Intelligence, Vol. PAMI-2, No. 1, 67-71.\\n   - Gates, G.W. (1972) \"The Reduced Nearest Neighbor Rule\".  IEEE Transactions\\n     on Information Theory, May 1972, 431-433.\\n   - See also: 1988 MLC Proceedings, 54-64.  Cheeseman et al\"s AUTOCLASS II\\n     conceptual clustering system finds 3 classes in the data.\\n   - Many, many more ...',\n",
              " 'data': array([[5.1, 3.5, 1.4, 0.2],\n",
              "        [4.9, 3. , 1.4, 0.2],\n",
              "        [4.7, 3.2, 1.3, 0.2],\n",
              "        [4.6, 3.1, 1.5, 0.2],\n",
              "        [5. , 3.6, 1.4, 0.2],\n",
              "        [5.4, 3.9, 1.7, 0.4],\n",
              "        [4.6, 3.4, 1.4, 0.3],\n",
              "        [5. , 3.4, 1.5, 0.2],\n",
              "        [4.4, 2.9, 1.4, 0.2],\n",
              "        [4.9, 3.1, 1.5, 0.1],\n",
              "        [5.4, 3.7, 1.5, 0.2],\n",
              "        [4.8, 3.4, 1.6, 0.2],\n",
              "        [4.8, 3. , 1.4, 0.1],\n",
              "        [4.3, 3. , 1.1, 0.1],\n",
              "        [5.8, 4. , 1.2, 0.2],\n",
              "        [5.7, 4.4, 1.5, 0.4],\n",
              "        [5.4, 3.9, 1.3, 0.4],\n",
              "        [5.1, 3.5, 1.4, 0.3],\n",
              "        [5.7, 3.8, 1.7, 0.3],\n",
              "        [5.1, 3.8, 1.5, 0.3],\n",
              "        [5.4, 3.4, 1.7, 0.2],\n",
              "        [5.1, 3.7, 1.5, 0.4],\n",
              "        [4.6, 3.6, 1. , 0.2],\n",
              "        [5.1, 3.3, 1.7, 0.5],\n",
              "        [4.8, 3.4, 1.9, 0.2],\n",
              "        [5. , 3. , 1.6, 0.2],\n",
              "        [5. , 3.4, 1.6, 0.4],\n",
              "        [5.2, 3.5, 1.5, 0.2],\n",
              "        [5.2, 3.4, 1.4, 0.2],\n",
              "        [4.7, 3.2, 1.6, 0.2],\n",
              "        [4.8, 3.1, 1.6, 0.2],\n",
              "        [5.4, 3.4, 1.5, 0.4],\n",
              "        [5.2, 4.1, 1.5, 0.1],\n",
              "        [5.5, 4.2, 1.4, 0.2],\n",
              "        [4.9, 3.1, 1.5, 0.2],\n",
              "        [5. , 3.2, 1.2, 0.2],\n",
              "        [5.5, 3.5, 1.3, 0.2],\n",
              "        [4.9, 3.6, 1.4, 0.1],\n",
              "        [4.4, 3. , 1.3, 0.2],\n",
              "        [5.1, 3.4, 1.5, 0.2],\n",
              "        [5. , 3.5, 1.3, 0.3],\n",
              "        [4.5, 2.3, 1.3, 0.3],\n",
              "        [4.4, 3.2, 1.3, 0.2],\n",
              "        [5. , 3.5, 1.6, 0.6],\n",
              "        [5.1, 3.8, 1.9, 0.4],\n",
              "        [4.8, 3. , 1.4, 0.3],\n",
              "        [5.1, 3.8, 1.6, 0.2],\n",
              "        [4.6, 3.2, 1.4, 0.2],\n",
              "        [5.3, 3.7, 1.5, 0.2],\n",
              "        [5. , 3.3, 1.4, 0.2],\n",
              "        [7. , 3.2, 4.7, 1.4],\n",
              "        [6.4, 3.2, 4.5, 1.5],\n",
              "        [6.9, 3.1, 4.9, 1.5],\n",
              "        [5.5, 2.3, 4. , 1.3],\n",
              "        [6.5, 2.8, 4.6, 1.5],\n",
              "        [5.7, 2.8, 4.5, 1.3],\n",
              "        [6.3, 3.3, 4.7, 1.6],\n",
              "        [4.9, 2.4, 3.3, 1. ],\n",
              "        [6.6, 2.9, 4.6, 1.3],\n",
              "        [5.2, 2.7, 3.9, 1.4],\n",
              "        [5. , 2. , 3.5, 1. ],\n",
              "        [5.9, 3. , 4.2, 1.5],\n",
              "        [6. , 2.2, 4. , 1. ],\n",
              "        [6.1, 2.9, 4.7, 1.4],\n",
              "        [5.6, 2.9, 3.6, 1.3],\n",
              "        [6.7, 3.1, 4.4, 1.4],\n",
              "        [5.6, 3. , 4.5, 1.5],\n",
              "        [5.8, 2.7, 4.1, 1. ],\n",
              "        [6.2, 2.2, 4.5, 1.5],\n",
              "        [5.6, 2.5, 3.9, 1.1],\n",
              "        [5.9, 3.2, 4.8, 1.8],\n",
              "        [6.1, 2.8, 4. , 1.3],\n",
              "        [6.3, 2.5, 4.9, 1.5],\n",
              "        [6.1, 2.8, 4.7, 1.2],\n",
              "        [6.4, 2.9, 4.3, 1.3],\n",
              "        [6.6, 3. , 4.4, 1.4],\n",
              "        [6.8, 2.8, 4.8, 1.4],\n",
              "        [6.7, 3. , 5. , 1.7],\n",
              "        [6. , 2.9, 4.5, 1.5],\n",
              "        [5.7, 2.6, 3.5, 1. ],\n",
              "        [5.5, 2.4, 3.8, 1.1],\n",
              "        [5.5, 2.4, 3.7, 1. ],\n",
              "        [5.8, 2.7, 3.9, 1.2],\n",
              "        [6. , 2.7, 5.1, 1.6],\n",
              "        [5.4, 3. , 4.5, 1.5],\n",
              "        [6. , 3.4, 4.5, 1.6],\n",
              "        [6.7, 3.1, 4.7, 1.5],\n",
              "        [6.3, 2.3, 4.4, 1.3],\n",
              "        [5.6, 3. , 4.1, 1.3],\n",
              "        [5.5, 2.5, 4. , 1.3],\n",
              "        [5.5, 2.6, 4.4, 1.2],\n",
              "        [6.1, 3. , 4.6, 1.4],\n",
              "        [5.8, 2.6, 4. , 1.2],\n",
              "        [5. , 2.3, 3.3, 1. ],\n",
              "        [5.6, 2.7, 4.2, 1.3],\n",
              "        [5.7, 3. , 4.2, 1.2],\n",
              "        [5.7, 2.9, 4.2, 1.3],\n",
              "        [6.2, 2.9, 4.3, 1.3],\n",
              "        [5.1, 2.5, 3. , 1.1],\n",
              "        [5.7, 2.8, 4.1, 1.3],\n",
              "        [6.3, 3.3, 6. , 2.5],\n",
              "        [5.8, 2.7, 5.1, 1.9],\n",
              "        [7.1, 3. , 5.9, 2.1],\n",
              "        [6.3, 2.9, 5.6, 1.8],\n",
              "        [6.5, 3. , 5.8, 2.2],\n",
              "        [7.6, 3. , 6.6, 2.1],\n",
              "        [4.9, 2.5, 4.5, 1.7],\n",
              "        [7.3, 2.9, 6.3, 1.8],\n",
              "        [6.7, 2.5, 5.8, 1.8],\n",
              "        [7.2, 3.6, 6.1, 2.5],\n",
              "        [6.5, 3.2, 5.1, 2. ],\n",
              "        [6.4, 2.7, 5.3, 1.9],\n",
              "        [6.8, 3. , 5.5, 2.1],\n",
              "        [5.7, 2.5, 5. , 2. ],\n",
              "        [5.8, 2.8, 5.1, 2.4],\n",
              "        [6.4, 3.2, 5.3, 2.3],\n",
              "        [6.5, 3. , 5.5, 1.8],\n",
              "        [7.7, 3.8, 6.7, 2.2],\n",
              "        [7.7, 2.6, 6.9, 2.3],\n",
              "        [6. , 2.2, 5. , 1.5],\n",
              "        [6.9, 3.2, 5.7, 2.3],\n",
              "        [5.6, 2.8, 4.9, 2. ],\n",
              "        [7.7, 2.8, 6.7, 2. ],\n",
              "        [6.3, 2.7, 4.9, 1.8],\n",
              "        [6.7, 3.3, 5.7, 2.1],\n",
              "        [7.2, 3.2, 6. , 1.8],\n",
              "        [6.2, 2.8, 4.8, 1.8],\n",
              "        [6.1, 3. , 4.9, 1.8],\n",
              "        [6.4, 2.8, 5.6, 2.1],\n",
              "        [7.2, 3. , 5.8, 1.6],\n",
              "        [7.4, 2.8, 6.1, 1.9],\n",
              "        [7.9, 3.8, 6.4, 2. ],\n",
              "        [6.4, 2.8, 5.6, 2.2],\n",
              "        [6.3, 2.8, 5.1, 1.5],\n",
              "        [6.1, 2.6, 5.6, 1.4],\n",
              "        [7.7, 3. , 6.1, 2.3],\n",
              "        [6.3, 3.4, 5.6, 2.4],\n",
              "        [6.4, 3.1, 5.5, 1.8],\n",
              "        [6. , 3. , 4.8, 1.8],\n",
              "        [6.9, 3.1, 5.4, 2.1],\n",
              "        [6.7, 3.1, 5.6, 2.4],\n",
              "        [6.9, 3.1, 5.1, 2.3],\n",
              "        [5.8, 2.7, 5.1, 1.9],\n",
              "        [6.8, 3.2, 5.9, 2.3],\n",
              "        [6.7, 3.3, 5.7, 2.5],\n",
              "        [6.7, 3. , 5.2, 2.3],\n",
              "        [6.3, 2.5, 5. , 1.9],\n",
              "        [6.5, 3. , 5.2, 2. ],\n",
              "        [6.2, 3.4, 5.4, 2.3],\n",
              "        [5.9, 3. , 5.1, 1.8]]),\n",
              " 'feature_names': ['sepal length (cm)',\n",
              "  'sepal width (cm)',\n",
              "  'petal length (cm)',\n",
              "  'petal width (cm)'],\n",
              " 'filename': '/usr/local/lib/python3.7/dist-packages/sklearn/datasets/data/iris.csv',\n",
              " 'target': array([0, 0, 0, 0, 0, 0, 0, 0, 0, 0, 0, 0, 0, 0, 0, 0, 0, 0, 0, 0, 0, 0,\n",
              "        0, 0, 0, 0, 0, 0, 0, 0, 0, 0, 0, 0, 0, 0, 0, 0, 0, 0, 0, 0, 0, 0,\n",
              "        0, 0, 0, 0, 0, 0, 1, 1, 1, 1, 1, 1, 1, 1, 1, 1, 1, 1, 1, 1, 1, 1,\n",
              "        1, 1, 1, 1, 1, 1, 1, 1, 1, 1, 1, 1, 1, 1, 1, 1, 1, 1, 1, 1, 1, 1,\n",
              "        1, 1, 1, 1, 1, 1, 1, 1, 1, 1, 1, 1, 2, 2, 2, 2, 2, 2, 2, 2, 2, 2,\n",
              "        2, 2, 2, 2, 2, 2, 2, 2, 2, 2, 2, 2, 2, 2, 2, 2, 2, 2, 2, 2, 2, 2,\n",
              "        2, 2, 2, 2, 2, 2, 2, 2, 2, 2, 2, 2, 2, 2, 2, 2, 2, 2]),\n",
              " 'target_names': array(['setosa', 'versicolor', 'virginica'], dtype='<U10')}"
            ]
          },
          "metadata": {},
          "execution_count": 2
        }
      ]
    },
    {
      "cell_type": "code",
      "metadata": {
        "id": "BYmYIIDCyHxn"
      },
      "source": [
        "X = iris_data['data']\n",
        "Y = iris_data['target']"
      ],
      "execution_count": 3,
      "outputs": []
    },
    {
      "cell_type": "markdown",
      "metadata": {
        "id": "qlPVVtKEv-Mz"
      },
      "source": [
        "# Train Model"
      ]
    },
    {
      "cell_type": "markdown",
      "metadata": {
        "id": "BpHaEEyGxT77"
      },
      "source": [
        "## import"
      ]
    },
    {
      "cell_type": "code",
      "metadata": {
        "id": "nhNT3lygxPkr"
      },
      "source": [
        "from sklearn.tree import DecisionTreeClassifier"
      ],
      "execution_count": 4,
      "outputs": []
    },
    {
      "cell_type": "markdown",
      "metadata": {
        "id": "jmtA6w1LxT46"
      },
      "source": [
        "## define"
      ]
    },
    {
      "cell_type": "code",
      "metadata": {
        "id": "n-uZ5-GYxPbh"
      },
      "source": [
        "mytree = DecisionTreeClassifier()"
      ],
      "execution_count": 5,
      "outputs": []
    },
    {
      "cell_type": "markdown",
      "metadata": {
        "id": "3D38okMmxT1x"
      },
      "source": [
        "## train"
      ]
    },
    {
      "cell_type": "code",
      "metadata": {
        "colab": {
          "base_uri": "https://localhost:8080/"
        },
        "id": "6kVuF5kYxPVq",
        "outputId": "a8ef48ec-2ba5-4b83-d4d4-5ddd78f284b6"
      },
      "source": [
        "mytree.fit(X,Y)"
      ],
      "execution_count": 6,
      "outputs": [
        {
          "output_type": "execute_result",
          "data": {
            "text/plain": [
              "DecisionTreeClassifier(ccp_alpha=0.0, class_weight=None, criterion='gini',\n",
              "                       max_depth=None, max_features=None, max_leaf_nodes=None,\n",
              "                       min_impurity_decrease=0.0, min_impurity_split=None,\n",
              "                       min_samples_leaf=1, min_samples_split=2,\n",
              "                       min_weight_fraction_leaf=0.0, presort='deprecated',\n",
              "                       random_state=None, splitter='best')"
            ]
          },
          "metadata": {},
          "execution_count": 6
        }
      ]
    },
    {
      "cell_type": "markdown",
      "metadata": {
        "id": "sqgZkQ_fyVHp"
      },
      "source": [
        "## plot tree"
      ]
    },
    {
      "cell_type": "code",
      "metadata": {
        "id": "evT0Mq-IyUw3"
      },
      "source": [
        "from sklearn.tree import plot_tree"
      ],
      "execution_count": 7,
      "outputs": []
    },
    {
      "cell_type": "code",
      "metadata": {
        "colab": {
          "base_uri": "https://localhost:8080/",
          "height": 537
        },
        "id": "DrBHCXnhyfzY",
        "outputId": "e266e981-05af-4743-c79b-a9d467257802"
      },
      "source": [
        "plot_tree(mytree)"
      ],
      "execution_count": 8,
      "outputs": [
        {
          "output_type": "execute_result",
          "data": {
            "text/plain": [
              "[Text(167.4, 199.32, 'X[3] <= 0.8\\ngini = 0.667\\nsamples = 150\\nvalue = [50, 50, 50]'),\n",
              " Text(141.64615384615385, 163.07999999999998, 'gini = 0.0\\nsamples = 50\\nvalue = [50, 0, 0]'),\n",
              " Text(193.15384615384616, 163.07999999999998, 'X[3] <= 1.75\\ngini = 0.5\\nsamples = 100\\nvalue = [0, 50, 50]'),\n",
              " Text(103.01538461538462, 126.83999999999999, 'X[2] <= 4.95\\ngini = 0.168\\nsamples = 54\\nvalue = [0, 49, 5]'),\n",
              " Text(51.50769230769231, 90.6, 'X[3] <= 1.65\\ngini = 0.041\\nsamples = 48\\nvalue = [0, 47, 1]'),\n",
              " Text(25.753846153846155, 54.359999999999985, 'gini = 0.0\\nsamples = 47\\nvalue = [0, 47, 0]'),\n",
              " Text(77.26153846153846, 54.359999999999985, 'gini = 0.0\\nsamples = 1\\nvalue = [0, 0, 1]'),\n",
              " Text(154.52307692307693, 90.6, 'X[3] <= 1.55\\ngini = 0.444\\nsamples = 6\\nvalue = [0, 2, 4]'),\n",
              " Text(128.76923076923077, 54.359999999999985, 'gini = 0.0\\nsamples = 3\\nvalue = [0, 0, 3]'),\n",
              " Text(180.27692307692308, 54.359999999999985, 'X[0] <= 6.95\\ngini = 0.444\\nsamples = 3\\nvalue = [0, 2, 1]'),\n",
              " Text(154.52307692307693, 18.119999999999976, 'gini = 0.0\\nsamples = 2\\nvalue = [0, 2, 0]'),\n",
              " Text(206.03076923076924, 18.119999999999976, 'gini = 0.0\\nsamples = 1\\nvalue = [0, 0, 1]'),\n",
              " Text(283.2923076923077, 126.83999999999999, 'X[2] <= 4.85\\ngini = 0.043\\nsamples = 46\\nvalue = [0, 1, 45]'),\n",
              " Text(257.53846153846155, 90.6, 'X[1] <= 3.1\\ngini = 0.444\\nsamples = 3\\nvalue = [0, 1, 2]'),\n",
              " Text(231.7846153846154, 54.359999999999985, 'gini = 0.0\\nsamples = 2\\nvalue = [0, 0, 2]'),\n",
              " Text(283.2923076923077, 54.359999999999985, 'gini = 0.0\\nsamples = 1\\nvalue = [0, 1, 0]'),\n",
              " Text(309.04615384615386, 90.6, 'gini = 0.0\\nsamples = 43\\nvalue = [0, 0, 43]')]"
            ]
          },
          "metadata": {},
          "execution_count": 8
        },
        {
          "output_type": "display_data",
          "data": {
            "image/png": "[encoded data removed]",
            "text/plain": [
              "<Figure size 432x288 with 1 Axes>"
            ]
          },
          "metadata": {
            "needs_background": "light"
          }
        }
      ]
    },
    {
      "cell_type": "markdown",
      "metadata": {
        "id": "Bt6g9d4wv-Jc"
      },
      "source": [
        "# Evaluation"
      ]
    },
    {
      "cell_type": "code",
      "metadata": {
        "colab": {
          "base_uri": "https://localhost:8080/",
          "height": 37
        },
        "id": "al1CHvjJdTxb",
        "outputId": "85712df6-2d7f-4306-e717-9dc03f2865f1"
      },
      "source": [
        "import numpy as np\n",
        "\n",
        "np.random.choice(['kie','oil','nicha'])"
      ],
      "execution_count": 9,
      "outputs": [
        {
          "output_type": "execute_result",
          "data": {
            "application/vnd.google.colaboratory.intrinsic+json": {
              "type": "string"
            },
            "text/plain": [
              "'nicha'"
            ]
          },
          "metadata": {},
          "execution_count": 9
        }
      ]
    },
    {
      "cell_type": "code",
      "metadata": {
        "colab": {
          "base_uri": "https://localhost:8080/",
          "height": 37
        },
        "id": "Dr4GSptodTj2",
        "outputId": "342a9e2f-da0f-4d77-d049-9c5aae3b453b"
      },
      "source": [
        "np.random.seed(6)\n",
        "np.random.choice(['kie','oil','nicha'])"
      ],
      "execution_count": 10,
      "outputs": [
        {
          "output_type": "execute_result",
          "data": {
            "application/vnd.google.colaboratory.intrinsic+json": {
              "type": "string"
            },
            "text/plain": [
              "'nicha'"
            ]
          },
          "metadata": {},
          "execution_count": 10
        }
      ]
    },
    {
      "cell_type": "markdown",
      "metadata": {
        "id": "Czs1jeZEmguh"
      },
      "source": [
        "# Advanced Tree"
      ]
    },
    {
      "cell_type": "markdown",
      "metadata": {
        "id": "dSL0RXlQmzIY"
      },
      "source": [
        "## load data"
      ]
    },
    {
      "cell_type": "code",
      "metadata": {
        "id": "kezc9xEJiD3v"
      },
      "source": [
        "from sklearn import datasets"
      ],
      "execution_count": 11,
      "outputs": []
    },
    {
      "cell_type": "code",
      "metadata": {
        "id": "wmk5b-X6m21y"
      },
      "source": [
        "mnist_data = datasets.load_digits()"
      ],
      "execution_count": 12,
      "outputs": []
    },
    {
      "cell_type": "code",
      "metadata": {
        "id": "5lJYhxB8m-96"
      },
      "source": [
        "#mnist_data"
      ],
      "execution_count": 13,
      "outputs": []
    },
    {
      "cell_type": "code",
      "metadata": {
        "colab": {
          "base_uri": "https://localhost:8080/"
        },
        "id": "1KlScvW1nBEN",
        "outputId": "910b4e4c-77aa-4243-c6ea-f611d2720386"
      },
      "source": [
        "X = mnist_data['data']\n",
        "X.shape"
      ],
      "execution_count": 14,
      "outputs": [
        {
          "output_type": "execute_result",
          "data": {
            "text/plain": [
              "(1797, 64)"
            ]
          },
          "metadata": {},
          "execution_count": 14
        }
      ]
    },
    {
      "cell_type": "code",
      "metadata": {
        "colab": {
          "base_uri": "https://localhost:8080/"
        },
        "id": "IJWJlf6_nwhj",
        "outputId": "f03a8b67-66c4-4f9d-9524-e41bac363a54"
      },
      "source": [
        "X[0,:]"
      ],
      "execution_count": 15,
      "outputs": [
        {
          "output_type": "execute_result",
          "data": {
            "text/plain": [
              "array([ 0.,  0.,  5., 13.,  9.,  1.,  0.,  0.,  0.,  0., 13., 15., 10.,\n",
              "       15.,  5.,  0.,  0.,  3., 15.,  2.,  0., 11.,  8.,  0.,  0.,  4.,\n",
              "       12.,  0.,  0.,  8.,  8.,  0.,  0.,  5.,  8.,  0.,  0.,  9.,  8.,\n",
              "        0.,  0.,  4., 11.,  0.,  1., 12.,  7.,  0.,  0.,  2., 14.,  5.,\n",
              "       10., 12.,  0.,  0.,  0.,  0.,  6., 13., 10.,  0.,  0.,  0.])"
            ]
          },
          "metadata": {},
          "execution_count": 15
        }
      ]
    },
    {
      "cell_type": "code",
      "metadata": {
        "id": "RHF4c1wAXmGV",
        "outputId": "2142e44d-ef92-4a58-c569-c09e81ea98aa",
        "colab": {
          "base_uri": "https://localhost:8080/"
        }
      },
      "source": [
        "X[0,:].shape"
      ],
      "execution_count": 16,
      "outputs": [
        {
          "output_type": "execute_result",
          "data": {
            "text/plain": [
              "(64,)"
            ]
          },
          "metadata": {},
          "execution_count": 16
        }
      ]
    },
    {
      "cell_type": "code",
      "metadata": {
        "id": "OyjAq9TtXvKn",
        "outputId": "eedfacd8-8879-4197-8856-a6e215519236",
        "colab": {
          "base_uri": "https://localhost:8080/",
          "height": 282
        }
      },
      "source": [
        "from matplotlib import pyplot as plt\n",
        "import numpy as np\n",
        "\n",
        "plt.imshow(X[112,:].reshape([8,8]),cmap='gray')"
      ],
      "execution_count": 17,
      "outputs": [
        {
          "output_type": "execute_result",
          "data": {
            "text/plain": [
              "<matplotlib.image.AxesImage at 0x7f01ffe5e290>"
            ]
          },
          "metadata": {},
          "execution_count": 17
        },
        {
          "output_type": "display_data",
          "data": {
            "image/png": "[encoded data removed]",
            "text/plain": [
              "<Figure size 432x288 with 1 Axes>"
            ]
          },
          "metadata": {
            "needs_background": "light"
          }
        }
      ]
    },
    {
      "cell_type": "code",
      "metadata": {
        "colab": {
          "base_uri": "https://localhost:8080/"
        },
        "id": "88fcASJln_Iy",
        "outputId": "e6b35e7a-2beb-4f9e-f94e-918d29749c7e"
      },
      "source": [
        "np.max(X)"
      ],
      "execution_count": 18,
      "outputs": [
        {
          "output_type": "execute_result",
          "data": {
            "text/plain": [
              "16.0"
            ]
          },
          "metadata": {},
          "execution_count": 18
        }
      ]
    },
    {
      "cell_type": "code",
      "metadata": {
        "colab": {
          "base_uri": "https://localhost:8080/"
        },
        "id": "Qjzfo53inP9m",
        "outputId": "a3f71d9f-5d6c-4194-c1a4-3781ca658131"
      },
      "source": [
        "Y = mnist_data['target']\n",
        "Y.shape"
      ],
      "execution_count": 19,
      "outputs": [
        {
          "output_type": "execute_result",
          "data": {
            "text/plain": [
              "(1797,)"
            ]
          },
          "metadata": {},
          "execution_count": 19
        }
      ]
    },
    {
      "cell_type": "code",
      "metadata": {
        "id": "twVGS6xjYC3E",
        "outputId": "a4bc62eb-1049-4d92-87dc-362f4684fa49",
        "colab": {
          "base_uri": "https://localhost:8080/"
        }
      },
      "source": [
        "Y[112]"
      ],
      "execution_count": 20,
      "outputs": [
        {
          "output_type": "execute_result",
          "data": {
            "text/plain": [
              "7"
            ]
          },
          "metadata": {},
          "execution_count": 20
        }
      ]
    },
    {
      "cell_type": "markdown",
      "metadata": {
        "id": "j9Vvg1PMojDP"
      },
      "source": [
        "## แบ่ง test เอาไว้วัดผลอย่างเดียว"
      ]
    },
    {
      "cell_type": "code",
      "metadata": {
        "id": "EIONx4G7npjx"
      },
      "source": [
        "from sklearn.model_selection import train_test_split"
      ],
      "execution_count": 21,
      "outputs": []
    },
    {
      "cell_type": "code",
      "metadata": {
        "id": "Ouq0HIT1op2k"
      },
      "source": [
        "X_train, X_test, y_train, y_test = train_test_split(X, Y, test_size=0.5, random_state=6)"
      ],
      "execution_count": 22,
      "outputs": []
    },
    {
      "cell_type": "code",
      "metadata": {
        "colab": {
          "base_uri": "https://localhost:8080/"
        },
        "id": "KaODb9lHpJyO",
        "outputId": "7f026a45-d129-46da-b6a4-afaece25af52"
      },
      "source": [
        "X_train[:5,:6]"
      ],
      "execution_count": 23,
      "outputs": [
        {
          "output_type": "execute_result",
          "data": {
            "text/plain": [
              "array([[ 0.,  0.,  8., 15.,  9.,  0.],\n",
              "       [ 0.,  0.,  0.,  9., 11.,  0.],\n",
              "       [ 0.,  1., 12., 16., 16., 16.],\n",
              "       [ 0.,  0., 12., 14.,  6.,  0.],\n",
              "       [ 0.,  0.,  1.,  8.,  8.,  9.]])"
            ]
          },
          "metadata": {},
          "execution_count": 23
        }
      ]
    },
    {
      "cell_type": "markdown",
      "metadata": {
        "id": "wR7gwkU0pb3A"
      },
      "source": [
        "## เริ่มสร้างโมเดล"
      ]
    },
    {
      "cell_type": "markdown",
      "metadata": {
        "id": "aiyKyCawqakO"
      },
      "source": [
        "### หา validation set"
      ]
    },
    {
      "cell_type": "code",
      "metadata": {
        "id": "E4p3cUmDqgQZ"
      },
      "source": [
        "X_traintrain, X_val, y_traintrain, y_val = train_test_split(X_train, y_train, test_size=0.3, random_state=6)"
      ],
      "execution_count": 24,
      "outputs": []
    },
    {
      "cell_type": "code",
      "metadata": {
        "colab": {
          "base_uri": "https://localhost:8080/"
        },
        "id": "OpQTFXPmq1f8",
        "outputId": "6d9979dc-1be8-457b-9c84-4e376046a98f"
      },
      "source": [
        "X_traintrain[:5,:7]"
      ],
      "execution_count": 25,
      "outputs": [
        {
          "output_type": "execute_result",
          "data": {
            "text/plain": [
              "array([[ 0.,  0.,  9., 16., 10.,  2.,  0.],\n",
              "       [ 0.,  1., 15.,  4.,  0.,  0.,  0.],\n",
              "       [ 0.,  0.,  4., 14., 16., 15.,  1.],\n",
              "       [ 0.,  0.,  3., 11., 14., 12.,  3.],\n",
              "       [ 0.,  0.,  5., 12., 16., 15.,  0.]])"
            ]
          },
          "metadata": {},
          "execution_count": 25
        }
      ]
    },
    {
      "cell_type": "markdown",
      "metadata": {
        "id": "UaxIPPLhpkIE"
      },
      "source": [
        "1. ใช้ Entropy มี ความสูงไม่เกิน 4 ชั้น (Oil)\n",
        "2. ใช้ Gini และ leaf node ต้องมีจำนวน data ไม่น้อยกว่า 5 (Nicha)\n",
        "3. ใช้ Entropy และ มี จำนวน leaf node ไม่เกิน 15 (Kie)"
      ]
    },
    {
      "cell_type": "markdown",
      "metadata": {
        "id": "8qxQ4Pg8rEtl"
      },
      "source": [
        "Import"
      ]
    },
    {
      "cell_type": "code",
      "metadata": {
        "id": "2uOTuYvvrl3I"
      },
      "source": [
        "from sklearn.tree import DecisionTreeClassifier"
      ],
      "execution_count": 26,
      "outputs": []
    },
    {
      "cell_type": "markdown",
      "metadata": {
        "id": "u1t4nIQJriTh"
      },
      "source": [
        "Define"
      ]
    },
    {
      "cell_type": "code",
      "metadata": {
        "id": "DoLfFXOhruAI"
      },
      "source": [
        "mytree0 = DecisionTreeClassifier(criterion='gini',max_depth=7,min_samples_split=30,min_samples_leaf=5)"
      ],
      "execution_count": 27,
      "outputs": []
    },
    {
      "cell_type": "markdown",
      "metadata": {
        "id": "62-lw-5srjw5"
      },
      "source": [
        "Train"
      ]
    },
    {
      "cell_type": "code",
      "metadata": {
        "colab": {
          "base_uri": "https://localhost:8080/"
        },
        "id": "Xoojwdr4rEMM",
        "outputId": "2defa926-b64d-4a6a-999a-0f6a5ffa5500"
      },
      "source": [
        "mytree0.fit(X_traintrain,y_traintrain)"
      ],
      "execution_count": 28,
      "outputs": [
        {
          "output_type": "execute_result",
          "data": {
            "text/plain": [
              "DecisionTreeClassifier(ccp_alpha=0.0, class_weight=None, criterion='gini',\n",
              "                       max_depth=7, max_features=None, max_leaf_nodes=None,\n",
              "                       min_impurity_decrease=0.0, min_impurity_split=None,\n",
              "                       min_samples_leaf=5, min_samples_split=30,\n",
              "                       min_weight_fraction_leaf=0.0, presort='deprecated',\n",
              "                       random_state=None, splitter='best')"
            ]
          },
          "metadata": {},
          "execution_count": 28
        }
      ]
    },
    {
      "cell_type": "code",
      "metadata": {
        "colab": {
          "base_uri": "https://localhost:8080/",
          "height": 1000
        },
        "id": "rJKKUfPSpP6p",
        "outputId": "d06f753e-37cc-4224-91c4-1820fb67a385"
      },
      "source": [
        "plot_tree(mytree0)"
      ],
      "execution_count": 29,
      "outputs": [
        {
          "output_type": "execute_result",
          "data": {
            "text/plain": [
              "[Text(176.74946808510637, 203.85, 'X[30] <= 0.5\\ngini = 0.899\\nsamples = 628\\nvalue = [57, 70, 56, 74, 54, 61, 62, 61, 64, 69]'),\n",
              " Text(86.37127659574467, 176.67000000000002, 'X[20] <= 3.5\\ngini = 0.857\\nsamples = 383\\nvalue = [0, 62, 54, 68, 11, 54, 61, 12, 51, 10]'),\n",
              " Text(42.740425531914894, 149.49, 'X[42] <= 11.5\\ngini = 0.641\\nsamples = 122\\nvalue = [0, 3, 1, 1, 4, 43, 58, 1, 10, 1]'),\n",
              " Text(28.493617021276595, 122.31, 'X[21] <= 7.0\\ngini = 0.449\\nsamples = 56\\nvalue = [0, 3, 1, 1, 0, 41, 3, 1, 5, 1]'),\n",
              " Text(21.370212765957447, 95.13, 'X[62] <= 7.0\\ngini = 0.231\\nsamples = 47\\nvalue = [0, 3, 0, 0, 0, 41, 3, 0, 0, 0]'),\n",
              " Text(14.246808510638298, 67.94999999999999, 'X[61] <= 10.0\\ngini = 0.046\\nsamples = 42\\nvalue = [0, 0, 0, 0, 0, 41, 1, 0, 0, 0]'),\n",
              " Text(7.123404255319149, 40.77000000000001, 'gini = 0.0\\nsamples = 37\\nvalue = [0, 0, 0, 0, 0, 37, 0, 0, 0, 0]'),\n",
              " Text(21.370212765957447, 40.77000000000001, 'gini = 0.32\\nsamples = 5\\nvalue = [0, 0, 0, 0, 0, 4, 1, 0, 0, 0]'),\n",
              " Text(28.493617021276595, 67.94999999999999, 'gini = 0.48\\nsamples = 5\\nvalue = [0, 3, 0, 0, 0, 0, 2, 0, 0, 0]'),\n",
              " Text(35.61702127659574, 95.13, 'gini = 0.642\\nsamples = 9\\nvalue = [0, 0, 1, 1, 0, 0, 0, 1, 5, 1]'),\n",
              " Text(56.98723404255319, 122.31, 'X[21] <= 0.5\\ngini = 0.295\\nsamples = 66\\nvalue = [0, 0, 0, 0, 4, 2, 55, 0, 5, 0]'),\n",
              " Text(49.86382978723404, 95.13, 'X[61] <= 6.5\\ngini = 0.156\\nsamples = 60\\nvalue = [0, 0, 0, 0, 3, 2, 55, 0, 0, 0]'),\n",
              " Text(42.740425531914894, 67.94999999999999, 'gini = 0.48\\nsamples = 5\\nvalue = [0, 0, 0, 0, 3, 2, 0, 0, 0, 0]'),\n",
              " Text(56.98723404255319, 67.94999999999999, 'gini = 0.0\\nsamples = 55\\nvalue = [0, 0, 0, 0, 0, 0, 55, 0, 0, 0]'),\n",
              " Text(64.11063829787234, 95.13, 'gini = 0.278\\nsamples = 6\\nvalue = [0, 0, 0, 0, 1, 0, 0, 0, 5, 0]'),\n",
              " Text(130.00212765957446, 149.49, 'X[43] <= 1.5\\ngini = 0.811\\nsamples = 261\\nvalue = [0, 59, 53, 67, 7, 11, 3, 11, 41, 9]'),\n",
              " Text(92.60425531914893, 122.31, 'X[26] <= 3.5\\ngini = 0.521\\nsamples = 91\\nvalue = [0, 10, 0, 61, 0, 9, 0, 0, 6, 5]'),\n",
              " Text(78.35744680851063, 95.13, 'X[19] <= 8.5\\ngini = 0.103\\nsamples = 56\\nvalue = [0, 2, 0, 53, 0, 0, 0, 0, 1, 0]'),\n",
              " Text(71.23404255319149, 67.94999999999999, 'gini = 0.0\\nsamples = 50\\nvalue = [0, 0, 0, 50, 0, 0, 0, 0, 0, 0]'),\n",
              " Text(85.48085106382979, 67.94999999999999, 'gini = 0.611\\nsamples = 6\\nvalue = [0, 2, 0, 3, 0, 0, 0, 0, 1, 0]'),\n",
              " Text(106.85106382978724, 95.13, 'X[10] <= 9.0\\ngini = 0.789\\nsamples = 35\\nvalue = [0, 8, 0, 8, 0, 9, 0, 0, 5, 5]'),\n",
              " Text(99.72765957446808, 67.94999999999999, 'gini = 0.34\\nsamples = 10\\nvalue = [0, 8, 0, 1, 0, 0, 0, 0, 0, 1]'),\n",
              " Text(113.97446808510638, 67.94999999999999, 'gini = 0.726\\nsamples = 25\\nvalue = [0, 0, 0, 7, 0, 9, 0, 0, 5, 4]'),\n",
              " Text(167.4, 122.31, 'X[19] <= 15.5\\ngini = 0.769\\nsamples = 170\\nvalue = [0, 49, 53, 6, 7, 2, 3, 11, 35, 4]'),\n",
              " Text(142.46808510638297, 95.13, 'X[54] <= 1.5\\ngini = 0.717\\nsamples = 117\\nvalue = [0, 8, 51, 5, 5, 1, 0, 11, 32, 4]'),\n",
              " Text(128.22127659574468, 67.94999999999999, 'X[50] <= 7.5\\ngini = 0.75\\nsamples = 57\\nvalue = [0, 8, 2, 4, 5, 1, 0, 11, 24, 2]'),\n",
              " Text(121.09787234042552, 40.77000000000001, 'gini = 0.768\\nsamples = 27\\nvalue = [0, 8, 1, 3, 3, 1, 0, 9, 0, 2]'),\n",
              " Text(135.34468085106383, 40.77000000000001, 'X[43] <= 15.5\\ngini = 0.349\\nsamples = 30\\nvalue = [0, 0, 1, 1, 2, 0, 0, 2, 24, 0]'),\n",
              " Text(128.22127659574468, 13.590000000000003, 'gini = 0.156\\nsamples = 24\\nvalue = [0, 0, 0, 1, 0, 0, 0, 1, 22, 0]'),\n",
              " Text(142.46808510638297, 13.590000000000003, 'gini = 0.722\\nsamples = 6\\nvalue = [0, 0, 1, 0, 2, 0, 0, 1, 2, 0]'),\n",
              " Text(156.71489361702126, 67.94999999999999, 'X[45] <= 8.5\\ngini = 0.314\\nsamples = 60\\nvalue = [0, 0, 49, 1, 0, 0, 0, 0, 8, 2]'),\n",
              " Text(149.59148936170212, 40.77000000000001, 'gini = 0.0\\nsamples = 47\\nvalue = [0, 0, 47, 0, 0, 0, 0, 0, 0, 0]'),\n",
              " Text(163.83829787234043, 40.77000000000001, 'gini = 0.568\\nsamples = 13\\nvalue = [0, 0, 2, 1, 0, 0, 0, 0, 8, 2]'),\n",
              " Text(192.331914893617, 95.13, 'X[46] <= 1.0\\ngini = 0.392\\nsamples = 53\\nvalue = [0, 41, 2, 1, 2, 1, 3, 0, 3, 0]'),\n",
              " Text(185.20851063829787, 67.94999999999999, 'X[26] <= 3.5\\ngini = 0.2\\nsamples = 46\\nvalue = [0, 41, 1, 0, 0, 1, 0, 0, 3, 0]'),\n",
              " Text(178.08510638297872, 40.77000000000001, 'gini = 0.72\\nsamples = 5\\nvalue = [0, 1, 1, 0, 0, 1, 0, 0, 2, 0]'),\n",
              " Text(192.331914893617, 40.77000000000001, 'X[35] <= 10.5\\ngini = 0.048\\nsamples = 41\\nvalue = [0, 40, 0, 0, 0, 0, 0, 0, 1, 0]'),\n",
              " Text(185.20851063829787, 13.590000000000003, 'gini = 0.32\\nsamples = 5\\nvalue = [0, 4, 0, 0, 0, 0, 0, 0, 1, 0]'),\n",
              " Text(199.45531914893616, 13.590000000000003, 'gini = 0.0\\nsamples = 36\\nvalue = [0, 36, 0, 0, 0, 0, 0, 0, 0, 0]'),\n",
              " Text(199.45531914893616, 67.94999999999999, 'gini = 0.694\\nsamples = 7\\nvalue = [0, 0, 1, 1, 2, 0, 3, 0, 0, 0]'),\n",
              " Text(267.12765957446805, 176.67000000000002, 'X[33] <= 2.5\\ngini = 0.812\\nsamples = 245\\nvalue = [57, 8, 2, 6, 43, 7, 1, 49, 13, 59]'),\n",
              " Text(235.0723404255319, 149.49, 'X[43] <= 2.5\\ngini = 0.694\\nsamples = 130\\nvalue = [1, 5, 2, 6, 1, 4, 1, 38, 13, 59]'),\n",
              " Text(213.70212765957447, 122.31, 'X[21] <= 10.5\\ngini = 0.402\\nsamples = 72\\nvalue = [0, 4, 0, 6, 0, 4, 0, 2, 1, 55]'),\n",
              " Text(206.57872340425533, 95.13, 'gini = 0.694\\nsamples = 11\\nvalue = [0, 0, 0, 4, 0, 4, 0, 2, 0, 1]'),\n",
              " Text(220.82553191489362, 95.13, 'X[3] <= 1.5\\ngini = 0.211\\nsamples = 61\\nvalue = [0, 4, 0, 2, 0, 0, 0, 0, 1, 54]'),\n",
              " Text(213.70212765957447, 67.94999999999999, 'gini = 0.444\\nsamples = 6\\nvalue = [0, 4, 0, 0, 0, 0, 0, 0, 0, 2]'),\n",
              " Text(227.94893617021276, 67.94999999999999, 'X[18] <= 6.0\\ngini = 0.104\\nsamples = 55\\nvalue = [0, 0, 0, 2, 0, 0, 0, 0, 1, 52]'),\n",
              " Text(220.82553191489362, 40.77000000000001, 'gini = 0.64\\nsamples = 5\\nvalue = [0, 0, 0, 2, 0, 0, 0, 0, 1, 2]'),\n",
              " Text(235.0723404255319, 40.77000000000001, 'gini = 0.0\\nsamples = 50\\nvalue = [0, 0, 0, 0, 0, 0, 0, 0, 0, 50]'),\n",
              " Text(256.44255319148937, 122.31, 'X[61] <= 0.5\\ngini = 0.565\\nsamples = 58\\nvalue = [1, 1, 2, 0, 1, 0, 1, 36, 12, 4]'),\n",
              " Text(249.3191489361702, 95.13, 'X[26] <= 9.5\\ngini = 0.1\\nsamples = 38\\nvalue = [0, 0, 0, 0, 0, 0, 0, 36, 0, 2]'),\n",
              " Text(242.19574468085105, 67.94999999999999, 'gini = 0.0\\nsamples = 33\\nvalue = [0, 0, 0, 0, 0, 0, 0, 33, 0, 0]'),\n",
              " Text(256.44255319148937, 67.94999999999999, 'gini = 0.48\\nsamples = 5\\nvalue = [0, 0, 0, 0, 0, 0, 0, 3, 0, 2]'),\n",
              " Text(263.5659574468085, 95.13, 'gini = 0.61\\nsamples = 20\\nvalue = [1, 1, 2, 0, 1, 0, 1, 0, 12, 2]'),\n",
              " Text(299.18297872340423, 149.49, 'X[36] <= 0.5\\ngini = 0.619\\nsamples = 115\\nvalue = [56, 3, 0, 0, 42, 3, 0, 11, 0, 0]'),\n",
              " Text(284.93617021276594, 122.31, 'X[21] <= 7.0\\ngini = 0.098\\nsamples = 59\\nvalue = [56, 0, 0, 0, 2, 1, 0, 0, 0, 0]'),\n",
              " Text(277.8127659574468, 95.13, 'gini = 0.64\\nsamples = 5\\nvalue = [2, 0, 0, 0, 2, 1, 0, 0, 0, 0]'),\n",
              " Text(292.0595744680851, 95.13, 'gini = 0.0\\nsamples = 54\\nvalue = [54, 0, 0, 0, 0, 0, 0, 0, 0, 0]'),\n",
              " Text(313.4297872340425, 122.31, 'X[26] <= 7.5\\ngini = 0.447\\nsamples = 56\\nvalue = [0, 3, 0, 0, 40, 2, 0, 11, 0, 0]'),\n",
              " Text(306.3063829787234, 95.13, 'gini = 0.0\\nsamples = 10\\nvalue = [0, 0, 0, 0, 0, 0, 0, 10, 0, 0]'),\n",
              " Text(320.5531914893617, 95.13, 'X[5] <= 12.0\\ngini = 0.237\\nsamples = 46\\nvalue = [0, 3, 0, 0, 40, 2, 0, 1, 0, 0]'),\n",
              " Text(313.4297872340425, 67.94999999999999, 'X[10] <= 9.5\\ngini = 0.048\\nsamples = 41\\nvalue = [0, 0, 0, 0, 40, 1, 0, 0, 0, 0]'),\n",
              " Text(306.3063829787234, 40.77000000000001, 'gini = 0.0\\nsamples = 36\\nvalue = [0, 0, 0, 0, 36, 0, 0, 0, 0, 0]'),\n",
              " Text(320.5531914893617, 40.77000000000001, 'gini = 0.32\\nsamples = 5\\nvalue = [0, 0, 0, 0, 4, 1, 0, 0, 0, 0]'),\n",
              " Text(327.67659574468087, 67.94999999999999, 'gini = 0.56\\nsamples = 5\\nvalue = [0, 3, 0, 0, 0, 1, 0, 1, 0, 0]')]"
            ]
          },
          "metadata": {},
          "execution_count": 29
        },
        {
          "output_type": "display_data",
          "data": {
            "image/png": "[encoded data removed]",
            "text/plain": [
              "<Figure size 432x288 with 1 Axes>"
            ]
          },
          "metadata": {
            "needs_background": "light"
          }
        }
      ]
    },
    {
      "cell_type": "markdown",
      "metadata": {
        "id": "H10MViKjW61M"
      },
      "source": [
        "## ใช้ Entropy มี ความสูงไม่เกิน 4 ชั้น (Oil)"
      ]
    },
    {
      "cell_type": "code",
      "metadata": {
        "id": "Bk7tO7z0sMzI",
        "outputId": "c94f21f8-f3bb-4690-81d9-baa9892f2303",
        "colab": {
          "base_uri": "https://localhost:8080/"
        }
      },
      "source": [
        "mytree1 = DecisionTreeClassifier(criterion='entropy',max_depth=4)\n",
        "mytree1.fit(X_traintrain,y_traintrain)"
      ],
      "execution_count": 30,
      "outputs": [
        {
          "output_type": "execute_result",
          "data": {
            "text/plain": [
              "DecisionTreeClassifier(ccp_alpha=0.0, class_weight=None, criterion='entropy',\n",
              "                       max_depth=4, max_features=None, max_leaf_nodes=None,\n",
              "                       min_impurity_decrease=0.0, min_impurity_split=None,\n",
              "                       min_samples_leaf=1, min_samples_split=2,\n",
              "                       min_weight_fraction_leaf=0.0, presort='deprecated',\n",
              "                       random_state=None, splitter='best')"
            ]
          },
          "metadata": {},
          "execution_count": 30
        }
      ]
    },
    {
      "cell_type": "markdown",
      "metadata": {
        "id": "flDDZwxyXD39"
      },
      "source": [
        "## ใช้ Gini และ leaf node ต้องมีจำนวน data ไม่น้อยกว่า 5 (Nicha)"
      ]
    },
    {
      "cell_type": "code",
      "metadata": {
        "id": "6CuuEqz0XCzv",
        "outputId": "afeffe4f-2b2d-4bbe-ba6d-0a2dde02d26d",
        "colab": {
          "base_uri": "https://localhost:8080/"
        }
      },
      "source": [
        "mytree2 = DecisionTreeClassifier(criterion='gini',min_samples_leaf=5)\n",
        "mytree2.fit(X_traintrain,y_traintrain)"
      ],
      "execution_count": 31,
      "outputs": [
        {
          "output_type": "execute_result",
          "data": {
            "text/plain": [
              "DecisionTreeClassifier(ccp_alpha=0.0, class_weight=None, criterion='gini',\n",
              "                       max_depth=None, max_features=None, max_leaf_nodes=None,\n",
              "                       min_impurity_decrease=0.0, min_impurity_split=None,\n",
              "                       min_samples_leaf=5, min_samples_split=2,\n",
              "                       min_weight_fraction_leaf=0.0, presort='deprecated',\n",
              "                       random_state=None, splitter='best')"
            ]
          },
          "metadata": {},
          "execution_count": 31
        }
      ]
    },
    {
      "cell_type": "markdown",
      "metadata": {
        "id": "nqtljoalXWKy"
      },
      "source": [
        "## ใช้ Entropy และ มี จำนวน leaf node ไม่เกิน 15 (Kie)"
      ]
    },
    {
      "cell_type": "code",
      "metadata": {
        "id": "PRvuZNblXTBR",
        "outputId": "bec293e4-d1ac-476a-a0c1-be49b92cadde",
        "colab": {
          "base_uri": "https://localhost:8080/"
        }
      },
      "source": [
        "mytree3 = DecisionTreeClassifier(criterion='entropy',max_leaf_nodes=15)\n",
        "mytree3.fit(X_traintrain,y_traintrain)"
      ],
      "execution_count": 32,
      "outputs": [
        {
          "output_type": "execute_result",
          "data": {
            "text/plain": [
              "DecisionTreeClassifier(ccp_alpha=0.0, class_weight=None, criterion='entropy',\n",
              "                       max_depth=None, max_features=None, max_leaf_nodes=15,\n",
              "                       min_impurity_decrease=0.0, min_impurity_split=None,\n",
              "                       min_samples_leaf=1, min_samples_split=2,\n",
              "                       min_weight_fraction_leaf=0.0, presort='deprecated',\n",
              "                       random_state=None, splitter='best')"
            ]
          },
          "metadata": {},
          "execution_count": 32
        }
      ]
    },
    {
      "cell_type": "markdown",
      "metadata": {
        "id": "pxbXxma4Y2jT"
      },
      "source": [
        "## ทดสอบ หา model ที่ดีที่สุดด้วย validation set"
      ]
    },
    {
      "cell_type": "code",
      "metadata": {
        "id": "9enIOx-VXgDr"
      },
      "source": [
        "t0_result = mytree0.predict(X_val)"
      ],
      "execution_count": 33,
      "outputs": []
    },
    {
      "cell_type": "code",
      "metadata": {
        "id": "yw342ERmZPU7",
        "outputId": "0b94b82e-548f-496a-b0ef-ddc97b625e41",
        "colab": {
          "base_uri": "https://localhost:8080/"
        }
      },
      "source": [
        "t0_result"
      ],
      "execution_count": 34,
      "outputs": [
        {
          "output_type": "execute_result",
          "data": {
            "text/plain": [
              "array([7, 7, 3, 0, 8, 4, 1, 7, 0, 9, 3, 2, 6, 4, 8, 4, 3, 3, 8, 6, 2, 9,\n",
              "       5, 4, 3, 6, 3, 4, 1, 8, 4, 1, 8, 5, 3, 3, 4, 1, 2, 0, 8, 0, 6, 5,\n",
              "       3, 4, 6, 0, 6, 8, 2, 8, 6, 0, 9, 7, 0, 8, 5, 8, 0, 4, 5, 6, 5, 2,\n",
              "       7, 9, 3, 1, 4, 9, 7, 5, 6, 4, 5, 0, 5, 8, 3, 4, 7, 5, 8, 4, 8, 9,\n",
              "       1, 7, 1, 6, 7, 0, 8, 3, 8, 7, 1, 6, 7, 8, 1, 8, 8, 5, 4, 9, 6, 1,\n",
              "       2, 5, 6, 3, 0, 3, 7, 1, 9, 8, 7, 7, 9, 5, 5, 6, 0, 8, 6, 4, 2, 9,\n",
              "       8, 8, 6, 1, 1, 2, 3, 8, 9, 9, 5, 1, 5, 9, 5, 9, 8, 6, 3, 8, 6, 8,\n",
              "       2, 2, 4, 4, 0, 1, 2, 6, 7, 4, 8, 9, 3, 4, 2, 7, 5, 0, 3, 0, 1, 6,\n",
              "       4, 8, 1, 8, 4, 3, 9, 5, 5, 8, 5, 6, 1, 5, 8, 5, 7, 1, 8, 4, 3, 7,\n",
              "       9, 6, 7, 7, 4, 7, 5, 7, 7, 8, 2, 5, 5, 8, 5, 4, 8, 7, 8, 8, 9, 4,\n",
              "       5, 8, 2, 8, 5, 0, 9, 3, 4, 6, 3, 3, 1, 4, 2, 5, 4, 5, 0, 0, 3, 7,\n",
              "       8, 5, 0, 8, 7, 5, 6, 3, 6, 4, 3, 9, 8, 6, 4, 3, 1, 6, 4, 8, 8, 5,\n",
              "       1, 1, 2, 7, 7, 9])"
            ]
          },
          "metadata": {},
          "execution_count": 34
        }
      ]
    },
    {
      "cell_type": "code",
      "metadata": {
        "id": "5xWVDMC3ZQn-",
        "outputId": "10b0a763-5841-46d4-ce54-f156acd1015b",
        "colab": {
          "base_uri": "https://localhost:8080/"
        }
      },
      "source": [
        "y_val"
      ],
      "execution_count": 35,
      "outputs": [
        {
          "output_type": "execute_result",
          "data": {
            "text/plain": [
              "array([4, 7, 3, 0, 6, 4, 7, 7, 0, 9, 3, 2, 6, 8, 8, 4, 3, 2, 7, 6, 2, 9,\n",
              "       5, 6, 5, 6, 9, 4, 7, 2, 4, 1, 7, 5, 3, 3, 4, 1, 2, 0, 8, 0, 6, 5,\n",
              "       3, 4, 6, 0, 6, 8, 2, 1, 6, 0, 9, 7, 0, 6, 3, 8, 0, 4, 5, 6, 9, 2,\n",
              "       3, 9, 3, 1, 4, 9, 7, 5, 6, 7, 5, 0, 5, 8, 3, 6, 3, 9, 8, 4, 9, 9,\n",
              "       8, 7, 1, 6, 3, 0, 8, 9, 8, 1, 1, 8, 7, 8, 4, 8, 8, 3, 4, 9, 6, 1,\n",
              "       2, 5, 6, 3, 0, 7, 7, 1, 9, 7, 4, 4, 9, 5, 5, 6, 0, 8, 6, 6, 2, 9,\n",
              "       8, 9, 6, 9, 1, 2, 3, 8, 9, 0, 5, 1, 9, 9, 5, 9, 3, 6, 5, 0, 6, 8,\n",
              "       2, 2, 4, 2, 0, 1, 2, 6, 1, 4, 3, 9, 3, 4, 2, 7, 8, 0, 9, 0, 6, 6,\n",
              "       4, 3, 5, 8, 4, 3, 9, 6, 5, 4, 5, 6, 3, 5, 4, 5, 7, 1, 2, 4, 5, 7,\n",
              "       9, 6, 7, 2, 1, 4, 6, 7, 4, 8, 2, 5, 5, 7, 5, 4, 8, 7, 3, 3, 9, 4,\n",
              "       5, 8, 2, 8, 5, 0, 9, 3, 4, 6, 3, 3, 1, 4, 2, 5, 4, 9, 0, 0, 3, 7,\n",
              "       8, 5, 0, 9, 7, 5, 6, 3, 6, 4, 9, 9, 8, 6, 1, 3, 7, 6, 4, 0, 8, 5,\n",
              "       9, 3, 2, 1, 1, 9])"
            ]
          },
          "metadata": {},
          "execution_count": 35
        }
      ]
    },
    {
      "cell_type": "code",
      "metadata": {
        "id": "_Bg5ZplWZWLo"
      },
      "source": [
        "from sklearn.metrics import accuracy_score"
      ],
      "execution_count": 36,
      "outputs": []
    },
    {
      "cell_type": "code",
      "metadata": {
        "id": "f06dSy0aZgrM",
        "outputId": "ce435138-6987-402f-b552-7ffce3a8631b",
        "colab": {
          "base_uri": "https://localhost:8080/"
        }
      },
      "source": [
        "accuracy_score(y_val,t0_result)"
      ],
      "execution_count": 37,
      "outputs": [
        {
          "output_type": "execute_result",
          "data": {
            "text/plain": [
              "0.7296296296296296"
            ]
          },
          "metadata": {},
          "execution_count": 37
        }
      ]
    },
    {
      "cell_type": "code",
      "metadata": {
        "id": "Hacg3EI_ZlvE",
        "outputId": "53b58c9b-a88f-4cc2-a479-85b5cc130072",
        "colab": {
          "base_uri": "https://localhost:8080/"
        }
      },
      "source": [
        "t1_result = mytree1.predict(X_val)\n",
        "accuracy_score(y_val,t1_result)"
      ],
      "execution_count": 38,
      "outputs": [
        {
          "output_type": "execute_result",
          "data": {
            "text/plain": [
              "0.6851851851851852"
            ]
          },
          "metadata": {},
          "execution_count": 38
        }
      ]
    },
    {
      "cell_type": "code",
      "metadata": {
        "id": "vbY7FsnyZznS",
        "outputId": "becf8d79-d6e4-4293-c907-af30529a9714",
        "colab": {
          "base_uri": "https://localhost:8080/"
        }
      },
      "source": [
        "t2_result = mytree2.predict(X_val)\n",
        "accuracy_score(y_val,t2_result)"
      ],
      "execution_count": 39,
      "outputs": [
        {
          "output_type": "execute_result",
          "data": {
            "text/plain": [
              "0.7666666666666667"
            ]
          },
          "metadata": {},
          "execution_count": 39
        }
      ]
    },
    {
      "cell_type": "code",
      "metadata": {
        "id": "RJbBsvYcZ3mz",
        "outputId": "e4f07d01-8025-4d03-9638-1799455022ce",
        "colab": {
          "base_uri": "https://localhost:8080/"
        }
      },
      "source": [
        "t3_result = mytree3.predict(X_val)\n",
        "accuracy_score(y_val,t3_result)"
      ],
      "execution_count": 40,
      "outputs": [
        {
          "output_type": "execute_result",
          "data": {
            "text/plain": [
              "0.6962962962962963"
            ]
          },
          "metadata": {},
          "execution_count": 40
        }
      ]
    },
    {
      "cell_type": "markdown",
      "metadata": {
        "id": "ULDJAcybaL0n"
      },
      "source": [
        "## สร้าง model จริง จาก training data"
      ]
    },
    {
      "cell_type": "code",
      "metadata": {
        "id": "H3EWwaBYZ7Bi",
        "outputId": "f8c76a01-aa67-42e2-c105-93bd6605a642",
        "colab": {
          "base_uri": "https://localhost:8080/"
        }
      },
      "source": [
        "mytree2Full = DecisionTreeClassifier(criterion='gini',min_samples_leaf=5)\n",
        "mytree2Full.fit(X_train,y_train)"
      ],
      "execution_count": 41,
      "outputs": [
        {
          "output_type": "execute_result",
          "data": {
            "text/plain": [
              "DecisionTreeClassifier(ccp_alpha=0.0, class_weight=None, criterion='gini',\n",
              "                       max_depth=None, max_features=None, max_leaf_nodes=None,\n",
              "                       min_impurity_decrease=0.0, min_impurity_split=None,\n",
              "                       min_samples_leaf=5, min_samples_split=2,\n",
              "                       min_weight_fraction_leaf=0.0, presort='deprecated',\n",
              "                       random_state=None, splitter='best')"
            ]
          },
          "metadata": {},
          "execution_count": 41
        }
      ]
    },
    {
      "cell_type": "markdown",
      "metadata": {
        "id": "-dbAEN4saeq6"
      },
      "source": [
        "## วัดผล"
      ]
    },
    {
      "cell_type": "code",
      "metadata": {
        "id": "59cHXTovadlt"
      },
      "source": [
        "final_result = mytree2Full.predict(X_test)"
      ],
      "execution_count": 42,
      "outputs": []
    },
    {
      "cell_type": "code",
      "metadata": {
        "id": "sg7QJW86a6D_",
        "outputId": "a8a9d1ed-3de8-4ad1-d293-90a7ce48e9cf",
        "colab": {
          "base_uri": "https://localhost:8080/"
        }
      },
      "source": [
        "accuracy_score(y_test,final_result)"
      ],
      "execution_count": 43,
      "outputs": [
        {
          "output_type": "execute_result",
          "data": {
            "text/plain": [
              "0.8008898776418243"
            ]
          },
          "metadata": {},
          "execution_count": 43
        }
      ]
    },
    {
      "cell_type": "markdown",
      "metadata": {
        "id": "wR4arPtjcrse"
      },
      "source": [
        "# 3 Machine Learning Training Concepts\n",
        "\n",
        "0.   your data & all data in the world\n",
        "1.   split data -> train test validation\n",
        "2.   finding the best model\n",
        "3.   evaluate the model\n",
        "\n"
      ]
    },
    {
      "cell_type": "markdown",
      "metadata": {
        "id": "AVRmgQsvpBkV"
      },
      "source": [
        "### Naive Bayes"
      ]
    },
    {
      "cell_type": "code",
      "metadata": {
        "id": "caRQt_GrpRLT"
      },
      "source": [
        "import pandas as pd"
      ],
      "execution_count": 45,
      "outputs": []
    },
    {
      "cell_type": "code",
      "metadata": {
        "id": "T9CcyPpWbBHz",
        "outputId": "49b8742a-ce4c-488a-b1c6-9f88d39011f7",
        "colab": {
          "base_uri": "https://localhost:8080/",
          "height": 1000
        }
      },
      "source": [
        "pd.DataFrame(X_traintrain).hist()"
      ],
      "execution_count": 47,
      "outputs": [
        {
          "output_type": "execute_result",
          "data": {
            "text/plain": [
              "array([[<matplotlib.axes._subplots.AxesSubplot object at 0x7f01ffbbcdd0>,\n",
              "        <matplotlib.axes._subplots.AxesSubplot object at 0x7f01ffb715d0>,\n",
              "        <matplotlib.axes._subplots.AxesSubplot object at 0x7f01ffb3a450>,\n",
              "        <matplotlib.axes._subplots.AxesSubplot object at 0x7f01ffa72ad0>,\n",
              "        <matplotlib.axes._subplots.AxesSubplot object at 0x7f01ffa2ac90>,\n",
              "        <matplotlib.axes._subplots.AxesSubplot object at 0x7f01ff9eb350>,\n",
              "        <matplotlib.axes._subplots.AxesSubplot object at 0x7f01ff9a3a50>,\n",
              "        <matplotlib.axes._subplots.AxesSubplot object at 0x7f01ff94eb90>],\n",
              "       [<matplotlib.axes._subplots.AxesSubplot object at 0x7f01ff966090>,\n",
              "        <matplotlib.axes._subplots.AxesSubplot object at 0x7f01ff91a810>,\n",
              "        <matplotlib.axes._subplots.AxesSubplot object at 0x7f01ff893450>,\n",
              "        <matplotlib.axes._subplots.AxesSubplot object at 0x7f01ff849ad0>,\n",
              "        <matplotlib.axes._subplots.AxesSubplot object at 0x7f01ff809190>,\n",
              "        <matplotlib.axes._subplots.AxesSubplot object at 0x7f01ff840810>,\n",
              "        <matplotlib.axes._subplots.AxesSubplot object at 0x7f01ff7f6e90>,\n",
              "        <matplotlib.axes._subplots.AxesSubplot object at 0x7f01ff7ba550>],\n",
              "       [<matplotlib.axes._subplots.AxesSubplot object at 0x7f01ff76fbd0>,\n",
              "        <matplotlib.axes._subplots.AxesSubplot object at 0x7f01ff732290>,\n",
              "        <matplotlib.axes._subplots.AxesSubplot object at 0x7f01ff6e8910>,\n",
              "        <matplotlib.axes._subplots.AxesSubplot object at 0x7f01ff69df90>,\n",
              "        <matplotlib.axes._subplots.AxesSubplot object at 0x7f01ff660650>,\n",
              "        <matplotlib.axes._subplots.AxesSubplot object at 0x7f01ff615cd0>,\n",
              "        <matplotlib.axes._subplots.AxesSubplot object at 0x7f01ff5d9390>,\n",
              "        <matplotlib.axes._subplots.AxesSubplot object at 0x7f01ff58ea10>],\n",
              "       [<matplotlib.axes._subplots.AxesSubplot object at 0x7f01ff5510d0>,\n",
              "        <matplotlib.axes._subplots.AxesSubplot object at 0x7f01ff585750>,\n",
              "        <matplotlib.axes._subplots.AxesSubplot object at 0x7f01ff537e10>,\n",
              "        <matplotlib.axes._subplots.AxesSubplot object at 0x7f01ff4f84d0>,\n",
              "        <matplotlib.axes._subplots.AxesSubplot object at 0x7f01ff4aeb50>,\n",
              "        <matplotlib.axes._subplots.AxesSubplot object at 0x7f01ff46e210>,\n",
              "        <matplotlib.axes._subplots.AxesSubplot object at 0x7f01ff428390>,\n",
              "        <matplotlib.axes._subplots.AxesSubplot object at 0x7f01ff3df910>],\n",
              "       [<matplotlib.axes._subplots.AxesSubplot object at 0x7f01ff394e90>,\n",
              "        <matplotlib.axes._subplots.AxesSubplot object at 0x7f01ff358450>,\n",
              "        <matplotlib.axes._subplots.AxesSubplot object at 0x7f01ff30e9d0>,\n",
              "        <matplotlib.axes._subplots.AxesSubplot object at 0x7f01ff343f50>,\n",
              "        <matplotlib.axes._subplots.AxesSubplot object at 0x7f01ff305510>,\n",
              "        <matplotlib.axes._subplots.AxesSubplot object at 0x7f01ff2baa90>,\n",
              "        <matplotlib.axes._subplots.AxesSubplot object at 0x7f01ff273fd0>,\n",
              "        <matplotlib.axes._subplots.AxesSubplot object at 0x7f01ff2345d0>],\n",
              "       [<matplotlib.axes._subplots.AxesSubplot object at 0x7f01ff1e7b50>,\n",
              "        <matplotlib.axes._subplots.AxesSubplot object at 0x7f01ff1ac110>,\n",
              "        <matplotlib.axes._subplots.AxesSubplot object at 0x7f01ff15f690>,\n",
              "        <matplotlib.axes._subplots.AxesSubplot object at 0x7f01ff115c10>,\n",
              "        <matplotlib.axes._subplots.AxesSubplot object at 0x7f01ff0d91d0>,\n",
              "        <matplotlib.axes._subplots.AxesSubplot object at 0x7f01ff08c750>,\n",
              "        <matplotlib.axes._subplots.AxesSubplot object at 0x7f01ff0c4cd0>,\n",
              "        <matplotlib.axes._subplots.AxesSubplot object at 0x7f01ff008290>],\n",
              "       [<matplotlib.axes._subplots.AxesSubplot object at 0x7f01ff03e810>,\n",
              "        <matplotlib.axes._subplots.AxesSubplot object at 0x7f01feff2d90>,\n",
              "        <matplotlib.axes._subplots.AxesSubplot object at 0x7f01fefb5350>,\n",
              "        <matplotlib.axes._subplots.AxesSubplot object at 0x7f01fef6b8d0>,\n",
              "        <matplotlib.axes._subplots.AxesSubplot object at 0x7f01ffa4b250>,\n",
              "        <matplotlib.axes._subplots.AxesSubplot object at 0x7f01ff8deed0>,\n",
              "        <matplotlib.axes._subplots.AxesSubplot object at 0x7f01ff77cd90>,\n",
              "        <matplotlib.axes._subplots.AxesSubplot object at 0x7f01ff59bb50>],\n",
              "       [<matplotlib.axes._subplots.AxesSubplot object at 0x7f01fee74190>,\n",
              "        <matplotlib.axes._subplots.AxesSubplot object at 0x7f01fee2c810>,\n",
              "        <matplotlib.axes._subplots.AxesSubplot object at 0x7f01fede1e90>,\n",
              "        <matplotlib.axes._subplots.AxesSubplot object at 0x7f01feda2550>,\n",
              "        <matplotlib.axes._subplots.AxesSubplot object at 0x7f01fed58bd0>,\n",
              "        <matplotlib.axes._subplots.AxesSubplot object at 0x7f01fed1c290>,\n",
              "        <matplotlib.axes._subplots.AxesSubplot object at 0x7f01fecd3910>,\n",
              "        <matplotlib.axes._subplots.AxesSubplot object at 0x7f01fec8af90>]],\n",
              "      dtype=object)"
            ]
          },
          "metadata": {},
          "execution_count": 47
        },
        {
          "output_type": "display_data",
          "data": {
            "image/png": "[encoded data removed]",
            "text/plain": [
              "<Figure size 432x288 with 64 Axes>"
            ]
          },
          "metadata": {
            "needs_background": "light"
          }
        }
      ]
    },
    {
      "cell_type": "code",
      "metadata": {
        "id": "lBCWJ99ypVsV"
      },
      "source": [
        ""
      ],
      "execution_count": null,
      "outputs": []
    }
  ]
}